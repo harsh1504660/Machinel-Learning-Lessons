{
 "cells": [
  {
   "cell_type": "code",
   "execution_count": 4,
   "id": "52b80c7d",
   "metadata": {},
   "outputs": [],
   "source": [
    "import pandas as pd\n",
    "import numpy as np\n",
    "import seaborn as sns"
   ]
  },
  {
   "cell_type": "code",
   "execution_count": 2,
   "id": "ef1c3b15",
   "metadata": {},
   "outputs": [],
   "source": [
    "df = pd.read_csv(r'E:\\Machine_Learning\\ML_Lesson\\15-Principle_Component_Analysis(PCA)\\train.csv')"
   ]
  },
  {
   "cell_type": "code",
   "execution_count": 3,
   "id": "c0b0701e",
   "metadata": {},
   "outputs": [
    {
     "data": {
      "text/html": [
       "<div>\n",
       "<style scoped>\n",
       "    .dataframe tbody tr th:only-of-type {\n",
       "        vertical-align: middle;\n",
       "    }\n",
       "\n",
       "    .dataframe tbody tr th {\n",
       "        vertical-align: top;\n",
       "    }\n",
       "\n",
       "    .dataframe thead th {\n",
       "        text-align: right;\n",
       "    }\n",
       "</style>\n",
       "<table border=\"1\" class=\"dataframe\">\n",
       "  <thead>\n",
       "    <tr style=\"text-align: right;\">\n",
       "      <th></th>\n",
       "      <th>label</th>\n",
       "      <th>pixel0</th>\n",
       "      <th>pixel1</th>\n",
       "      <th>pixel2</th>\n",
       "      <th>pixel3</th>\n",
       "      <th>pixel4</th>\n",
       "      <th>pixel5</th>\n",
       "      <th>pixel6</th>\n",
       "      <th>pixel7</th>\n",
       "      <th>pixel8</th>\n",
       "      <th>...</th>\n",
       "      <th>pixel774</th>\n",
       "      <th>pixel775</th>\n",
       "      <th>pixel776</th>\n",
       "      <th>pixel777</th>\n",
       "      <th>pixel778</th>\n",
       "      <th>pixel779</th>\n",
       "      <th>pixel780</th>\n",
       "      <th>pixel781</th>\n",
       "      <th>pixel782</th>\n",
       "      <th>pixel783</th>\n",
       "    </tr>\n",
       "  </thead>\n",
       "  <tbody>\n",
       "    <tr>\n",
       "      <th>0</th>\n",
       "      <td>1</td>\n",
       "      <td>0</td>\n",
       "      <td>0</td>\n",
       "      <td>0</td>\n",
       "      <td>0</td>\n",
       "      <td>0</td>\n",
       "      <td>0</td>\n",
       "      <td>0</td>\n",
       "      <td>0</td>\n",
       "      <td>0</td>\n",
       "      <td>...</td>\n",
       "      <td>0</td>\n",
       "      <td>0</td>\n",
       "      <td>0</td>\n",
       "      <td>0</td>\n",
       "      <td>0</td>\n",
       "      <td>0</td>\n",
       "      <td>0</td>\n",
       "      <td>0</td>\n",
       "      <td>0</td>\n",
       "      <td>0</td>\n",
       "    </tr>\n",
       "    <tr>\n",
       "      <th>1</th>\n",
       "      <td>0</td>\n",
       "      <td>0</td>\n",
       "      <td>0</td>\n",
       "      <td>0</td>\n",
       "      <td>0</td>\n",
       "      <td>0</td>\n",
       "      <td>0</td>\n",
       "      <td>0</td>\n",
       "      <td>0</td>\n",
       "      <td>0</td>\n",
       "      <td>...</td>\n",
       "      <td>0</td>\n",
       "      <td>0</td>\n",
       "      <td>0</td>\n",
       "      <td>0</td>\n",
       "      <td>0</td>\n",
       "      <td>0</td>\n",
       "      <td>0</td>\n",
       "      <td>0</td>\n",
       "      <td>0</td>\n",
       "      <td>0</td>\n",
       "    </tr>\n",
       "    <tr>\n",
       "      <th>2</th>\n",
       "      <td>1</td>\n",
       "      <td>0</td>\n",
       "      <td>0</td>\n",
       "      <td>0</td>\n",
       "      <td>0</td>\n",
       "      <td>0</td>\n",
       "      <td>0</td>\n",
       "      <td>0</td>\n",
       "      <td>0</td>\n",
       "      <td>0</td>\n",
       "      <td>...</td>\n",
       "      <td>0</td>\n",
       "      <td>0</td>\n",
       "      <td>0</td>\n",
       "      <td>0</td>\n",
       "      <td>0</td>\n",
       "      <td>0</td>\n",
       "      <td>0</td>\n",
       "      <td>0</td>\n",
       "      <td>0</td>\n",
       "      <td>0</td>\n",
       "    </tr>\n",
       "    <tr>\n",
       "      <th>3</th>\n",
       "      <td>4</td>\n",
       "      <td>0</td>\n",
       "      <td>0</td>\n",
       "      <td>0</td>\n",
       "      <td>0</td>\n",
       "      <td>0</td>\n",
       "      <td>0</td>\n",
       "      <td>0</td>\n",
       "      <td>0</td>\n",
       "      <td>0</td>\n",
       "      <td>...</td>\n",
       "      <td>0</td>\n",
       "      <td>0</td>\n",
       "      <td>0</td>\n",
       "      <td>0</td>\n",
       "      <td>0</td>\n",
       "      <td>0</td>\n",
       "      <td>0</td>\n",
       "      <td>0</td>\n",
       "      <td>0</td>\n",
       "      <td>0</td>\n",
       "    </tr>\n",
       "    <tr>\n",
       "      <th>4</th>\n",
       "      <td>0</td>\n",
       "      <td>0</td>\n",
       "      <td>0</td>\n",
       "      <td>0</td>\n",
       "      <td>0</td>\n",
       "      <td>0</td>\n",
       "      <td>0</td>\n",
       "      <td>0</td>\n",
       "      <td>0</td>\n",
       "      <td>0</td>\n",
       "      <td>...</td>\n",
       "      <td>0</td>\n",
       "      <td>0</td>\n",
       "      <td>0</td>\n",
       "      <td>0</td>\n",
       "      <td>0</td>\n",
       "      <td>0</td>\n",
       "      <td>0</td>\n",
       "      <td>0</td>\n",
       "      <td>0</td>\n",
       "      <td>0</td>\n",
       "    </tr>\n",
       "  </tbody>\n",
       "</table>\n",
       "<p>5 rows × 785 columns</p>\n",
       "</div>"
      ],
      "text/plain": [
       "   label  pixel0  pixel1  pixel2  pixel3  pixel4  pixel5  pixel6  pixel7  \\\n",
       "0      1       0       0       0       0       0       0       0       0   \n",
       "1      0       0       0       0       0       0       0       0       0   \n",
       "2      1       0       0       0       0       0       0       0       0   \n",
       "3      4       0       0       0       0       0       0       0       0   \n",
       "4      0       0       0       0       0       0       0       0       0   \n",
       "\n",
       "   pixel8  ...  pixel774  pixel775  pixel776  pixel777  pixel778  pixel779  \\\n",
       "0       0  ...         0         0         0         0         0         0   \n",
       "1       0  ...         0         0         0         0         0         0   \n",
       "2       0  ...         0         0         0         0         0         0   \n",
       "3       0  ...         0         0         0         0         0         0   \n",
       "4       0  ...         0         0         0         0         0         0   \n",
       "\n",
       "   pixel780  pixel781  pixel782  pixel783  \n",
       "0         0         0         0         0  \n",
       "1         0         0         0         0  \n",
       "2         0         0         0         0  \n",
       "3         0         0         0         0  \n",
       "4         0         0         0         0  \n",
       "\n",
       "[5 rows x 785 columns]"
      ]
     },
     "execution_count": 3,
     "metadata": {},
     "output_type": "execute_result"
    }
   ],
   "source": [
    "df.head()"
   ]
  },
  {
   "cell_type": "code",
   "execution_count": 5,
   "id": "351714aa",
   "metadata": {},
   "outputs": [],
   "source": [
    "x = df.drop('label',axis=1)\n",
    "y = df['label']"
   ]
  },
  {
   "cell_type": "code",
   "execution_count": 8,
   "id": "b8b62c3b",
   "metadata": {},
   "outputs": [
    {
     "data": {
      "text/plain": [
       "<AxesSubplot: >"
      ]
     },
     "execution_count": 8,
     "metadata": {},
     "output_type": "execute_result"
    },
    {
     "data": {
      "image/png": "[encoded data removed]",
      "text/plain": [
       "<Figure size 640x480 with 2 Axes>"
      ]
     },
     "metadata": {},
     "output_type": "display_data"
    }
   ],
   "source": [
    "sns.heatmap(x.iloc[5].values.reshape(28,28))"
   ]
  },
  {
   "cell_type": "code",
   "execution_count": 9,
   "id": "733b08c3",
   "metadata": {},
   "outputs": [
    {
     "data": {
      "text/html": [
       "<style>#sk-container-id-1 {color: black;background-color: white;}#sk-container-id-1 pre{padding: 0;}#sk-container-id-1 div.sk-toggleable {background-color: white;}#sk-container-id-1 label.sk-toggleable__label {cursor: pointer;display: block;width: 100%;margin-bottom: 0;padding: 0.3em;box-sizing: border-box;text-align: center;}#sk-container-id-1 label.sk-toggleable__label-arrow:before {content: \"▸\";float: left;margin-right: 0.25em;color: #696969;}#sk-container-id-1 label.sk-toggleable__label-arrow:hover:before {color: black;}#sk-container-id-1 div.sk-estimator:hover label.sk-toggleable__label-arrow:before {color: black;}#sk-container-id-1 div.sk-toggleable__content {max-height: 0;max-width: 0;overflow: hidden;text-align: left;background-color: #f0f8ff;}#sk-container-id-1 div.sk-toggleable__content pre {margin: 0.2em;color: black;border-radius: 0.25em;background-color: #f0f8ff;}#sk-container-id-1 input.sk-toggleable__control:checked~div.sk-toggleable__content {max-height: 200px;max-width: 100%;overflow: auto;}#sk-container-id-1 input.sk-toggleable__control:checked~label.sk-toggleable__label-arrow:before {content: \"▾\";}#sk-container-id-1 div.sk-estimator input.sk-toggleable__control:checked~label.sk-toggleable__label {background-color: #d4ebff;}#sk-container-id-1 div.sk-label input.sk-toggleable__control:checked~label.sk-toggleable__label {background-color: #d4ebff;}#sk-container-id-1 input.sk-hidden--visually {border: 0;clip: rect(1px 1px 1px 1px);clip: rect(1px, 1px, 1px, 1px);height: 1px;margin: -1px;overflow: hidden;padding: 0;position: absolute;width: 1px;}#sk-container-id-1 div.sk-estimator {font-family: monospace;background-color: #f0f8ff;border: 1px dotted black;border-radius: 0.25em;box-sizing: border-box;margin-bottom: 0.5em;}#sk-container-id-1 div.sk-estimator:hover {background-color: #d4ebff;}#sk-container-id-1 div.sk-parallel-item::after {content: \"\";width: 100%;border-bottom: 1px solid gray;flex-grow: 1;}#sk-container-id-1 div.sk-label:hover label.sk-toggleable__label {background-color: #d4ebff;}#sk-container-id-1 div.sk-serial::before {content: \"\";position: absolute;border-left: 1px solid gray;box-sizing: border-box;top: 0;bottom: 0;left: 50%;z-index: 0;}#sk-container-id-1 div.sk-serial {display: flex;flex-direction: column;align-items: center;background-color: white;padding-right: 0.2em;padding-left: 0.2em;position: relative;}#sk-container-id-1 div.sk-item {position: relative;z-index: 1;}#sk-container-id-1 div.sk-parallel {display: flex;align-items: stretch;justify-content: center;background-color: white;position: relative;}#sk-container-id-1 div.sk-item::before, #sk-container-id-1 div.sk-parallel-item::before {content: \"\";position: absolute;border-left: 1px solid gray;box-sizing: border-box;top: 0;bottom: 0;left: 50%;z-index: -1;}#sk-container-id-1 div.sk-parallel-item {display: flex;flex-direction: column;z-index: 1;position: relative;background-color: white;}#sk-container-id-1 div.sk-parallel-item:first-child::after {align-self: flex-end;width: 50%;}#sk-container-id-1 div.sk-parallel-item:last-child::after {align-self: flex-start;width: 50%;}#sk-container-id-1 div.sk-parallel-item:only-child::after {width: 0;}#sk-container-id-1 div.sk-dashed-wrapped {border: 1px dashed gray;margin: 0 0.4em 0.5em 0.4em;box-sizing: border-box;padding-bottom: 0.4em;background-color: white;}#sk-container-id-1 div.sk-label label {font-family: monospace;font-weight: bold;display: inline-block;line-height: 1.2em;}#sk-container-id-1 div.sk-label-container {text-align: center;}#sk-container-id-1 div.sk-container {/* jupyter's `normalize.less` sets `[hidden] { display: none; }` but bootstrap.min.css set `[hidden] { display: none !important; }` so we also need the `!important` here to be able to override the default hidden behavior on the sphinx rendered scikit-learn.org. See: https://github.com/scikit-learn/scikit-learn/issues/21755 */display: inline-block !important;position: relative;}#sk-container-id-1 div.sk-text-repr-fallback {display: none;}</style><div id=\"sk-container-id-1\" class=\"sk-top-container\"><div class=\"sk-text-repr-fallback\"><pre>RandomForestClassifier()</pre><b>In a Jupyter environment, please rerun this cell to show the HTML representation or trust the notebook. <br />On GitHub, the HTML representation is unable to render, please try loading this page with nbviewer.org.</b></div><div class=\"sk-container\" hidden><div class=\"sk-item\"><div class=\"sk-estimator sk-toggleable\"><input class=\"sk-toggleable__control sk-hidden--visually\" id=\"sk-estimator-id-1\" type=\"checkbox\" checked><label for=\"sk-estimator-id-1\" class=\"sk-toggleable__label sk-toggleable__label-arrow\">RandomForestClassifier</label><div class=\"sk-toggleable__content\"><pre>RandomForestClassifier()</pre></div></div></div></div></div>"
      ],
      "text/plain": [
       "RandomForestClassifier()"
      ]
     },
     "execution_count": 9,
     "metadata": {},
     "output_type": "execute_result"
    }
   ],
   "source": [
    "from sklearn.ensemble import RandomForestClassifier\n",
    "rf = RandomForestClassifier()\n",
    "rf.fit(x,y)"
   ]
  },
  {
   "cell_type": "code",
   "execution_count": 10,
   "id": "9aae0291",
   "metadata": {},
   "outputs": [
    {
     "data": {
      "text/plain": [
       "array([0.00000000e+00, 0.00000000e+00, 0.00000000e+00, 0.00000000e+00,\n",
       "       0.00000000e+00, 0.00000000e+00, 0.00000000e+00, 0.00000000e+00,\n",
       "       0.00000000e+00, 0.00000000e+00, 0.00000000e+00, 0.00000000e+00,\n",
       "       0.00000000e+00, 9.47126668e-07, 0.00000000e+00, 0.00000000e+00,\n",
       "       0.00000000e+00, 0.00000000e+00, 0.00000000e+00, 0.00000000e+00,\n",
       "       0.00000000e+00, 0.00000000e+00, 0.00000000e+00, 0.00000000e+00,\n",
       "       0.00000000e+00, 0.00000000e+00, 0.00000000e+00, 0.00000000e+00,\n",
       "       0.00000000e+00, 0.00000000e+00, 0.00000000e+00, 0.00000000e+00,\n",
       "       0.00000000e+00, 0.00000000e+00, 1.01379898e-06, 0.00000000e+00,\n",
       "       2.56607612e-06, 3.65173506e-06, 2.87565070e-06, 8.79978670e-07,\n",
       "       1.03301437e-06, 1.52298253e-06, 1.78406584e-06, 1.81012019e-06,\n",
       "       2.91003978e-06, 1.20667101e-06, 5.20427972e-07, 0.00000000e+00,\n",
       "       3.43555874e-06, 5.08943221e-07, 0.00000000e+00, 0.00000000e+00,\n",
       "       0.00000000e+00, 0.00000000e+00, 0.00000000e+00, 0.00000000e+00,\n",
       "       0.00000000e+00, 0.00000000e+00, 0.00000000e+00, 3.52859192e-07,\n",
       "       0.00000000e+00, 0.00000000e+00, 2.82380458e-06, 7.25753656e-06,\n",
       "       1.35804670e-05, 2.29406973e-05, 3.84826507e-05, 1.50785728e-04,\n",
       "       1.15904884e-04, 7.11652551e-05, 9.03531228e-05, 1.53008982e-04,\n",
       "       3.92711892e-04, 5.53190649e-05, 9.89390395e-05, 6.04135213e-05,\n",
       "       3.12061197e-05, 1.26408464e-05, 5.98070440e-06, 4.93966848e-07,\n",
       "       2.64645228e-07, 0.00000000e+00, 0.00000000e+00, 0.00000000e+00,\n",
       "       0.00000000e+00, 0.00000000e+00, 0.00000000e+00, 0.00000000e+00,\n",
       "       3.18357807e-06, 1.76030770e-06, 1.31140089e-05, 1.79411788e-05,\n",
       "       5.37546799e-05, 1.46335390e-04, 2.82708488e-04, 4.13526941e-04,\n",
       "       5.15386214e-04, 9.60682350e-04, 1.17547898e-03, 2.59612712e-03,\n",
       "       1.94641066e-03, 1.11227093e-03, 1.16082622e-03, 6.48319688e-04,\n",
       "       2.97369558e-04, 7.61849158e-05, 4.79768792e-05, 2.69512881e-05,\n",
       "       1.02653998e-05, 8.35921506e-07, 0.00000000e+00, 0.00000000e+00,\n",
       "       0.00000000e+00, 0.00000000e+00, 0.00000000e+00, 4.77002009e-07,\n",
       "       2.56890713e-06, 9.31846823e-06, 2.72231957e-05, 6.09282229e-05,\n",
       "       2.18366473e-04, 2.81665352e-04, 8.10700416e-04, 7.73623968e-04,\n",
       "       1.14162228e-03, 1.64540979e-03, 1.50789115e-03, 2.18249362e-03,\n",
       "       1.58086126e-03, 9.34393535e-04, 5.98990132e-04, 5.43366485e-04,\n",
       "       2.99854077e-04, 2.56278954e-04, 1.71095570e-04, 9.24504508e-05,\n",
       "       2.53725715e-05, 1.22499174e-05, 1.95335543e-06, 0.00000000e+00,\n",
       "       0.00000000e+00, 0.00000000e+00, 0.00000000e+00, 3.57378795e-06,\n",
       "       1.98953449e-05, 5.06799104e-05, 1.29836310e-04, 2.72822373e-04,\n",
       "       5.94487322e-04, 1.13322144e-03, 2.34253342e-03, 2.91440824e-03,\n",
       "       3.62239998e-03, 4.84022057e-03, 6.88251377e-03, 6.18353988e-03,\n",
       "       4.27967905e-03, 3.76056823e-03, 2.23254872e-03, 1.18460334e-03,\n",
       "       1.11373273e-03, 8.01211950e-04, 7.16806553e-04, 3.80810045e-04,\n",
       "       1.09761361e-04, 2.47837598e-05, 3.36641179e-06, 0.00000000e+00,\n",
       "       0.00000000e+00, 0.00000000e+00, 4.85157388e-07, 6.81723179e-06,\n",
       "       3.94753109e-05, 1.09751446e-04, 2.38758325e-04, 5.10444352e-04,\n",
       "       9.21913592e-04, 1.93213719e-03, 2.34793875e-03, 2.10845736e-03,\n",
       "       2.32251290e-03, 2.96190203e-03, 3.56987039e-03, 4.17785853e-03,\n",
       "       3.55305702e-03, 2.91004235e-03, 1.87540464e-03, 1.44701927e-03,\n",
       "       1.50587350e-03, 1.18200406e-03, 9.53183733e-04, 7.71177325e-04,\n",
       "       4.91762971e-04, 9.02288272e-05, 9.20318943e-06, 1.27318598e-06,\n",
       "       0.00000000e+00, 0.00000000e+00, 5.91014429e-06, 1.66018783e-05,\n",
       "       6.01097450e-05, 1.69094259e-04, 3.94228412e-04, 6.15042176e-04,\n",
       "       1.02083056e-03, 1.63070511e-03, 2.77577498e-03, 2.60307658e-03,\n",
       "       2.71997007e-03, 4.03017479e-03, 6.53915049e-03, 6.73440248e-03,\n",
       "       5.09310405e-03, 2.63172831e-03, 2.13489597e-03, 1.77878497e-03,\n",
       "       1.85567113e-03, 1.35372197e-03, 1.20039250e-03, 1.65740718e-03,\n",
       "       7.67637573e-04, 7.63312056e-05, 1.11062126e-05, 5.24168818e-07,\n",
       "       1.01092275e-06, 1.57452850e-06, 8.64870338e-06, 3.08771882e-05,\n",
       "       9.38069396e-05, 2.09956063e-04, 2.99130348e-04, 7.79889658e-04,\n",
       "       1.22853917e-03, 1.91622074e-03, 3.13289117e-03, 2.70303064e-03,\n",
       "       3.46936117e-03, 4.11954526e-03, 4.74774899e-03, 4.76230498e-03,\n",
       "       3.99004869e-03, 3.18927610e-03, 3.87785664e-03, 3.28616994e-03,\n",
       "       1.96460957e-03, 1.54422502e-03, 1.27191372e-03, 8.90016726e-04,\n",
       "       7.98236547e-04, 1.79482112e-04, 2.52609616e-05, 1.94754196e-06,\n",
       "       0.00000000e+00, 0.00000000e+00, 3.57516914e-06, 3.74634560e-05,\n",
       "       9.73558809e-05, 3.25494929e-04, 3.98502305e-04, 8.47039721e-04,\n",
       "       1.65219341e-03, 2.09414973e-03, 3.08618054e-03, 4.25707584e-03,\n",
       "       3.18355464e-03, 2.84852501e-03, 3.74555168e-03, 3.90958170e-03,\n",
       "       3.37079094e-03, 3.52288703e-03, 4.51692337e-03, 3.86192193e-03,\n",
       "       2.26491796e-03, 1.63428715e-03, 9.30741948e-04, 6.00577914e-04,\n",
       "       4.83813480e-04, 1.14462154e-04, 1.67024276e-05, 1.04622895e-06,\n",
       "       0.00000000e+00, 2.24673385e-06, 6.34885105e-06, 3.14433032e-05,\n",
       "       1.25880255e-04, 2.19825321e-04, 4.34628404e-04, 8.10599040e-04,\n",
       "       1.89229391e-03, 3.83448337e-03, 6.11952086e-03, 4.72089712e-03,\n",
       "       2.74400848e-03, 2.55294201e-03, 3.25384362e-03, 3.81805891e-03,\n",
       "       3.33471867e-03, 3.70512090e-03, 3.68883871e-03, 3.65398075e-03,\n",
       "       2.80720173e-03, 1.76138507e-03, 1.11250734e-03, 4.95938155e-04,\n",
       "       2.16363329e-04, 6.34828894e-05, 1.73711158e-05, 2.04963610e-06,\n",
       "       0.00000000e+00, 9.05337684e-07, 9.44771281e-06, 4.48296827e-05,\n",
       "       1.26586127e-04, 1.95388073e-04, 8.25626941e-04, 1.35373629e-03,\n",
       "       2.26890888e-03, 3.27790385e-03, 7.25675328e-03, 4.37140337e-03,\n",
       "       3.72971433e-03, 2.94918185e-03, 4.91782308e-03, 5.63461720e-03,\n",
       "       3.84586652e-03, 3.87561201e-03, 4.66444026e-03, 2.78776862e-03,\n",
       "       2.35265798e-03, 1.88667991e-03, 1.80218009e-03, 5.61198401e-04,\n",
       "       1.80818100e-04, 1.88452356e-05, 1.08494922e-05, 2.51407762e-06,\n",
       "       0.00000000e+00, 1.60253838e-06, 9.13441663e-06, 3.74022877e-05,\n",
       "       8.02912858e-05, 2.55575843e-04, 9.61620510e-04, 1.41884107e-03,\n",
       "       2.25375522e-03, 3.68625506e-03, 7.15104627e-03, 6.45796881e-03,\n",
       "       5.55001758e-03, 4.47734438e-03, 7.14997942e-03, 6.21978016e-03,\n",
       "       3.84431343e-03, 4.60238680e-03, 4.05900556e-03, 2.47834437e-03,\n",
       "       1.54220021e-03, 1.86859210e-03, 2.19180887e-03, 7.86586900e-04,\n",
       "       2.04515846e-04, 1.62346331e-05, 1.22255692e-05, 1.08415844e-06,\n",
       "       0.00000000e+00, 0.00000000e+00, 2.65132839e-06, 2.40147338e-05,\n",
       "       6.77078745e-05, 3.69009791e-04, 1.06575304e-03, 1.73087548e-03,\n",
       "       3.38888720e-03, 4.72088662e-03, 4.10766871e-03, 6.32773216e-03,\n",
       "       5.05869254e-03, 6.00357172e-03, 7.57001011e-03, 5.38145366e-03,\n",
       "       4.73581007e-03, 5.14281959e-03, 4.23475032e-03, 1.52820768e-03,\n",
       "       1.36468930e-03, 1.68318400e-03, 2.72872489e-03, 9.45064228e-04,\n",
       "       1.19976645e-04, 2.28117079e-05, 8.75138178e-06, 9.97677922e-07,\n",
       "       0.00000000e+00, 0.00000000e+00, 2.13441950e-06, 2.62742459e-05,\n",
       "       5.69215613e-05, 4.49572103e-04, 1.35078601e-03, 1.77762745e-03,\n",
       "       4.66806851e-03, 5.22916408e-03, 4.38299466e-03, 5.09733365e-03,\n",
       "       3.67107811e-03, 7.73363629e-03, 8.41864681e-03, 3.50168306e-03,\n",
       "       5.11972846e-03, 7.04421117e-03, 3.48667078e-03, 1.48314064e-03,\n",
       "       1.08025700e-03, 1.28784855e-03, 2.68549340e-03, 6.04163081e-04,\n",
       "       3.26174169e-04, 2.83365176e-05, 1.01266590e-05, 0.00000000e+00,\n",
       "       0.00000000e+00, 0.00000000e+00, 5.29412789e-06, 1.78344013e-05,\n",
       "       7.10196970e-05, 4.23721149e-04, 1.26321163e-03, 3.47964768e-03,\n",
       "       3.51707853e-03, 4.80270060e-03, 4.87006319e-03, 4.70773632e-03,\n",
       "       5.22531360e-03, 7.74052229e-03, 6.23217267e-03, 3.32566799e-03,\n",
       "       4.67945381e-03, 7.10319325e-03, 1.95833631e-03, 2.24356486e-03,\n",
       "       1.90856701e-03, 1.60246146e-03, 9.96481723e-04, 5.18239423e-04,\n",
       "       1.58665717e-04, 3.02811321e-05, 8.65392891e-06, 2.05411835e-06,\n",
       "       0.00000000e+00, 0.00000000e+00, 1.55241531e-06, 2.18384498e-05,\n",
       "       1.03166486e-04, 3.74575327e-04, 1.60657751e-03, 2.37066652e-03,\n",
       "       3.52163587e-03, 4.78502941e-03, 5.07626323e-03, 4.10182245e-03,\n",
       "       5.70013014e-03, 6.73226450e-03, 6.97721756e-03, 3.32002109e-03,\n",
       "       2.73503185e-03, 5.46052784e-03, 2.12575251e-03, 1.50996970e-03,\n",
       "       1.81538726e-03, 9.82399587e-04, 5.32752881e-04, 4.15670948e-04,\n",
       "       1.73317373e-04, 4.27015558e-05, 2.77266356e-05, 9.70315992e-07,\n",
       "       0.00000000e+00, 0.00000000e+00, 7.61108485e-06, 3.23202079e-05,\n",
       "       1.24153985e-04, 4.22611233e-04, 8.93797433e-04, 3.81502563e-03,\n",
       "       2.78727294e-03, 3.99407427e-03, 3.65715582e-03, 7.26763331e-03,\n",
       "       5.36538835e-03, 6.58858641e-03, 4.07150442e-03, 2.56497033e-03,\n",
       "       2.43943554e-03, 2.81570080e-03, 1.59364330e-03, 1.27464050e-03,\n",
       "       1.14668749e-03, 8.66680273e-04, 5.91337635e-04, 4.58449107e-04,\n",
       "       1.45976836e-04, 4.48837820e-05, 1.93110490e-05, 1.92056913e-06,\n",
       "       0.00000000e+00, 0.00000000e+00, 5.15778525e-06, 6.09901099e-05,\n",
       "       2.66775176e-04, 4.98167847e-04, 1.19069533e-03, 2.11248274e-03,\n",
       "       2.79687936e-03, 3.62060336e-03, 5.79722242e-03, 7.09822277e-03,\n",
       "       3.56060160e-03, 3.12877004e-03, 2.21769916e-03, 1.84965098e-03,\n",
       "       1.24421501e-03, 1.95084356e-03, 2.46788955e-03, 2.99897433e-03,\n",
       "       1.44320224e-03, 1.02508452e-03, 5.37369857e-04, 4.03988457e-04,\n",
       "       1.84735573e-04, 4.62289186e-05, 6.00706249e-06, 1.49497592e-06,\n",
       "       0.00000000e+00, 0.00000000e+00, 9.40611557e-06, 7.84160168e-05,\n",
       "       2.04940806e-04, 5.23540726e-04, 1.31623772e-03, 1.96636326e-03,\n",
       "       4.63403597e-03, 4.50055241e-03, 6.65332191e-03, 4.90490594e-03,\n",
       "       4.02478741e-03, 2.26163359e-03, 1.98662093e-03, 1.27594789e-03,\n",
       "       1.51592947e-03, 2.34890721e-03, 3.11612317e-03, 3.09963285e-03,\n",
       "       1.55890398e-03, 8.96332119e-04, 7.34924911e-04, 5.69662108e-04,\n",
       "       1.55370203e-04, 3.88564128e-05, 5.10364215e-06, 9.45083838e-07,\n",
       "       0.00000000e+00, 4.95776561e-07, 1.04660566e-05, 6.30292129e-05,\n",
       "       2.12635226e-04, 5.79198966e-04, 1.30433164e-03, 3.33761547e-03,\n",
       "       3.81938255e-03, 5.28898756e-03, 6.24200338e-03, 3.78117678e-03,\n",
       "       2.94928368e-03, 2.21987578e-03, 1.90365731e-03, 2.69815788e-03,\n",
       "       1.31184926e-03, 2.52000955e-03, 2.12614244e-03, 2.35924566e-03,\n",
       "       1.72747462e-03, 8.91527697e-04, 4.97904467e-04, 2.32642614e-04,\n",
       "       8.87420369e-05, 1.91441882e-05, 2.16748957e-06, 0.00000000e+00,\n",
       "       0.00000000e+00, 0.00000000e+00, 8.05008328e-06, 6.11967571e-05,\n",
       "       2.24914219e-04, 3.17007887e-04, 1.17292138e-03, 3.51800218e-03,\n",
       "       5.62725654e-03, 3.40048299e-03, 2.21423341e-03, 1.64045812e-03,\n",
       "       1.48430046e-03, 1.53096995e-03, 1.39589751e-03, 1.12765873e-03,\n",
       "       1.61656690e-03, 1.43703583e-03, 1.17969637e-03, 1.22063369e-03,\n",
       "       6.57706880e-04, 7.42671262e-04, 2.93459743e-04, 1.38851052e-04,\n",
       "       6.69582298e-05, 1.38476560e-05, 1.67918812e-06, 0.00000000e+00,\n",
       "       0.00000000e+00, 0.00000000e+00, 6.32096009e-06, 3.24600664e-05,\n",
       "       8.09011521e-05, 3.84924927e-04, 6.87992481e-04, 1.39095253e-03,\n",
       "       4.25524058e-03, 2.44619701e-03, 3.02826743e-03, 2.38932750e-03,\n",
       "       1.65675132e-03, 1.90449266e-03, 1.26179550e-03, 1.37565914e-03,\n",
       "       1.03661411e-03, 9.83603376e-04, 7.66399314e-04, 7.81540170e-04,\n",
       "       3.93247533e-04, 2.86541339e-04, 1.30589713e-04, 5.47839966e-05,\n",
       "       1.51468451e-05, 1.02482605e-05, 2.23422640e-06, 0.00000000e+00,\n",
       "       0.00000000e+00, 0.00000000e+00, 2.20151769e-06, 1.51057377e-05,\n",
       "       6.79610847e-05, 1.66866119e-04, 4.03836908e-04, 7.35756996e-04,\n",
       "       1.83608314e-03, 1.60107401e-03, 3.70943200e-03, 4.33318844e-03,\n",
       "       4.71502496e-03, 4.78845515e-03, 3.64905824e-03, 2.72602185e-03,\n",
       "       1.98163171e-03, 1.02431186e-03, 6.43751130e-04, 3.92550020e-04,\n",
       "       2.24507606e-04, 1.10656875e-04, 7.35364791e-05, 3.22963337e-05,\n",
       "       7.98464689e-06, 6.11009317e-06, 5.22617760e-07, 0.00000000e+00,\n",
       "       0.00000000e+00, 0.00000000e+00, 1.33866081e-06, 1.62469851e-05,\n",
       "       3.75659382e-05, 1.40338874e-04, 2.38086600e-04, 4.46919915e-04,\n",
       "       5.60925986e-04, 8.45948753e-04, 1.13523072e-03, 1.36595490e-03,\n",
       "       2.02494797e-03, 1.61350295e-03, 1.57440710e-03, 8.52411026e-04,\n",
       "       5.00685660e-04, 4.59986538e-04, 4.10384158e-04, 2.99903609e-04,\n",
       "       1.43263303e-04, 9.36422134e-05, 3.79056269e-05, 3.08269857e-05,\n",
       "       8.31321226e-06, 5.10388827e-07, 0.00000000e+00, 0.00000000e+00,\n",
       "       0.00000000e+00, 0.00000000e+00, 0.00000000e+00, 3.25184192e-06,\n",
       "       1.45730078e-05, 3.46334987e-05, 7.87986476e-05, 2.64313309e-04,\n",
       "       5.14942765e-04, 5.02815061e-04, 7.74992815e-04, 1.62356849e-03,\n",
       "       8.34426694e-04, 1.17506096e-03, 5.79660536e-04, 5.38524597e-04,\n",
       "       4.96549771e-04, 4.54648447e-04, 3.98110666e-04, 1.69973191e-04,\n",
       "       8.18032157e-05, 5.44734975e-05, 1.80822318e-05, 3.77875868e-06,\n",
       "       3.52845018e-07, 0.00000000e+00, 1.00628710e-06, 0.00000000e+00,\n",
       "       0.00000000e+00, 0.00000000e+00, 0.00000000e+00, 0.00000000e+00,\n",
       "       5.41316665e-06, 1.07364821e-05, 5.96157125e-06, 2.81521106e-05,\n",
       "       6.18532923e-05, 6.92799160e-05, 1.08080630e-04, 3.11770461e-04,\n",
       "       1.09622491e-04, 1.55869262e-04, 2.71618875e-04, 2.14559643e-04,\n",
       "       2.51483397e-04, 8.77694279e-05, 1.05717794e-04, 3.47382882e-05,\n",
       "       1.35380576e-05, 1.00130883e-05, 3.83108590e-06, 1.03908125e-06,\n",
       "       0.00000000e+00, 0.00000000e+00, 0.00000000e+00, 0.00000000e+00,\n",
       "       0.00000000e+00, 0.00000000e+00, 0.00000000e+00, 0.00000000e+00,\n",
       "       0.00000000e+00, 2.64663104e-07, 3.52863396e-07, 9.71124546e-07,\n",
       "       2.56553998e-06, 9.93588292e-07, 4.45633810e-06, 1.35214476e-06,\n",
       "       5.54200305e-06, 2.30125604e-06, 6.48105590e-06, 1.00326900e-05,\n",
       "       7.64123208e-06, 6.20409468e-06, 4.55303167e-06, 5.85434543e-06,\n",
       "       2.26225226e-06, 2.60452728e-06, 1.52420943e-06, 0.00000000e+00,\n",
       "       0.00000000e+00, 0.00000000e+00, 0.00000000e+00, 0.00000000e+00])"
      ]
     },
     "execution_count": 10,
     "metadata": {},
     "output_type": "execute_result"
    }
   ],
   "source": [
    "rf.feature_importances_"
   ]
  },
  {
   "cell_type": "code",
   "execution_count": 12,
   "id": "3d9d8b38",
   "metadata": {},
   "outputs": [
    {
     "data": {
      "text/plain": [
       "<AxesSubplot: >"
      ]
     },
     "execution_count": 12,
     "metadata": {},
     "output_type": "execute_result"
    },
    {
     "data": {
      "image/png": "[encoded data removed]",
      "text/plain": [
       "<Figure size 640x480 with 2 Axes>"
      ]
     },
     "metadata": {},
     "output_type": "display_data"
    }
   ],
   "source": [
    "sns.heatmap(rf.feature_importances_.reshape(28,28))"
   ]
  },
  {
   "cell_type": "markdown",
   "id": "c7b8d964",
   "metadata": {},
   "source": [
    "# Feature Importance in DT"
   ]
  },
  {
   "cell_type": "code",
   "execution_count": 17,
   "id": "f8175eec",
   "metadata": {},
   "outputs": [],
   "source": [
    "from sklearn.datasets import make_classification\n",
    "from sklearn.tree import DecisionTreeClassifier ,plot_tree"
   ]
  },
  {
   "cell_type": "code",
   "execution_count": 14,
   "id": "5fd607f1",
   "metadata": {},
   "outputs": [],
   "source": [
    "x,y = make_classification(n_samples=5,n_classes=2,n_informative=2,n_redundant=0,random_state=0,n_features=2)"
   ]
  },
  {
   "cell_type": "code",
   "execution_count": 15,
   "id": "3a9100e9",
   "metadata": {},
   "outputs": [],
   "source": [
    "clf=DecisionTreeClassifier()"
   ]
  },
  {
   "cell_type": "code",
   "execution_count": 16,
   "id": "e367cb02",
   "metadata": {},
   "outputs": [
    {
     "data": {
      "text/html": [
       "<style>#sk-container-id-2 {color: black;background-color: white;}#sk-container-id-2 pre{padding: 0;}#sk-container-id-2 div.sk-toggleable {background-color: white;}#sk-container-id-2 label.sk-toggleable__label {cursor: pointer;display: block;width: 100%;margin-bottom: 0;padding: 0.3em;box-sizing: border-box;text-align: center;}#sk-container-id-2 label.sk-toggleable__label-arrow:before {content: \"▸\";float: left;margin-right: 0.25em;color: #696969;}#sk-container-id-2 label.sk-toggleable__label-arrow:hover:before {color: black;}#sk-container-id-2 div.sk-estimator:hover label.sk-toggleable__label-arrow:before {color: black;}#sk-container-id-2 div.sk-toggleable__content {max-height: 0;max-width: 0;overflow: hidden;text-align: left;background-color: #f0f8ff;}#sk-container-id-2 div.sk-toggleable__content pre {margin: 0.2em;color: black;border-radius: 0.25em;background-color: #f0f8ff;}#sk-container-id-2 input.sk-toggleable__control:checked~div.sk-toggleable__content {max-height: 200px;max-width: 100%;overflow: auto;}#sk-container-id-2 input.sk-toggleable__control:checked~label.sk-toggleable__label-arrow:before {content: \"▾\";}#sk-container-id-2 div.sk-estimator input.sk-toggleable__control:checked~label.sk-toggleable__label {background-color: #d4ebff;}#sk-container-id-2 div.sk-label input.sk-toggleable__control:checked~label.sk-toggleable__label {background-color: #d4ebff;}#sk-container-id-2 input.sk-hidden--visually {border: 0;clip: rect(1px 1px 1px 1px);clip: rect(1px, 1px, 1px, 1px);height: 1px;margin: -1px;overflow: hidden;padding: 0;position: absolute;width: 1px;}#sk-container-id-2 div.sk-estimator {font-family: monospace;background-color: #f0f8ff;border: 1px dotted black;border-radius: 0.25em;box-sizing: border-box;margin-bottom: 0.5em;}#sk-container-id-2 div.sk-estimator:hover {background-color: #d4ebff;}#sk-container-id-2 div.sk-parallel-item::after {content: \"\";width: 100%;border-bottom: 1px solid gray;flex-grow: 1;}#sk-container-id-2 div.sk-label:hover label.sk-toggleable__label {background-color: #d4ebff;}#sk-container-id-2 div.sk-serial::before {content: \"\";position: absolute;border-left: 1px solid gray;box-sizing: border-box;top: 0;bottom: 0;left: 50%;z-index: 0;}#sk-container-id-2 div.sk-serial {display: flex;flex-direction: column;align-items: center;background-color: white;padding-right: 0.2em;padding-left: 0.2em;position: relative;}#sk-container-id-2 div.sk-item {position: relative;z-index: 1;}#sk-container-id-2 div.sk-parallel {display: flex;align-items: stretch;justify-content: center;background-color: white;position: relative;}#sk-container-id-2 div.sk-item::before, #sk-container-id-2 div.sk-parallel-item::before {content: \"\";position: absolute;border-left: 1px solid gray;box-sizing: border-box;top: 0;bottom: 0;left: 50%;z-index: -1;}#sk-container-id-2 div.sk-parallel-item {display: flex;flex-direction: column;z-index: 1;position: relative;background-color: white;}#sk-container-id-2 div.sk-parallel-item:first-child::after {align-self: flex-end;width: 50%;}#sk-container-id-2 div.sk-parallel-item:last-child::after {align-self: flex-start;width: 50%;}#sk-container-id-2 div.sk-parallel-item:only-child::after {width: 0;}#sk-container-id-2 div.sk-dashed-wrapped {border: 1px dashed gray;margin: 0 0.4em 0.5em 0.4em;box-sizing: border-box;padding-bottom: 0.4em;background-color: white;}#sk-container-id-2 div.sk-label label {font-family: monospace;font-weight: bold;display: inline-block;line-height: 1.2em;}#sk-container-id-2 div.sk-label-container {text-align: center;}#sk-container-id-2 div.sk-container {/* jupyter's `normalize.less` sets `[hidden] { display: none; }` but bootstrap.min.css set `[hidden] { display: none !important; }` so we also need the `!important` here to be able to override the default hidden behavior on the sphinx rendered scikit-learn.org. See: https://github.com/scikit-learn/scikit-learn/issues/21755 */display: inline-block !important;position: relative;}#sk-container-id-2 div.sk-text-repr-fallback {display: none;}</style><div id=\"sk-container-id-2\" class=\"sk-top-container\"><div class=\"sk-text-repr-fallback\"><pre>DecisionTreeClassifier()</pre><b>In a Jupyter environment, please rerun this cell to show the HTML representation or trust the notebook. <br />On GitHub, the HTML representation is unable to render, please try loading this page with nbviewer.org.</b></div><div class=\"sk-container\" hidden><div class=\"sk-item\"><div class=\"sk-estimator sk-toggleable\"><input class=\"sk-toggleable__control sk-hidden--visually\" id=\"sk-estimator-id-2\" type=\"checkbox\" checked><label for=\"sk-estimator-id-2\" class=\"sk-toggleable__label sk-toggleable__label-arrow\">DecisionTreeClassifier</label><div class=\"sk-toggleable__content\"><pre>DecisionTreeClassifier()</pre></div></div></div></div></div>"
      ],
      "text/plain": [
       "DecisionTreeClassifier()"
      ]
     },
     "execution_count": 16,
     "metadata": {},
     "output_type": "execute_result"
    }
   ],
   "source": [
    "clf.fit(x,y)"
   ]
  },
  {
   "cell_type": "code",
   "execution_count": 18,
   "id": "49031e70",
   "metadata": {},
   "outputs": [
    {
     "data": {
      "text/plain": [
       "[Text(0.4, 0.8333333333333334, 'x[0] <= -0.875\\ngini = 0.48\\nsamples = 5\\nvalue = [3, 2]'),\n",
       " Text(0.2, 0.5, 'gini = 0.0\\nsamples = 1\\nvalue = [0, 1]'),\n",
       " Text(0.6, 0.5, 'x[0] <= 1.01\\ngini = 0.375\\nsamples = 4\\nvalue = [3, 1]'),\n",
       " Text(0.4, 0.16666666666666666, 'gini = 0.0\\nsamples = 3\\nvalue = [3, 0]'),\n",
       " Text(0.8, 0.16666666666666666, 'gini = 0.0\\nsamples = 1\\nvalue = [0, 1]')]"
      ]
     },
     "execution_count": 18,
     "metadata": {},
     "output_type": "execute_result"
    },
    {
     "data": {
      "image/png": "[encoded data removed]",
      "text/plain": [
       "<Figure size 640x480 with 1 Axes>"
      ]
     },
     "metadata": {},
     "output_type": "display_data"
    }
   ],
   "source": [
    "plot_tree(clf)"
   ]
  },
  {
   "cell_type": "code",
   "execution_count": 19,
   "id": "badda8f4",
   "metadata": {},
   "outputs": [
    {
     "data": {
      "text/plain": [
       "array([1., 0.])"
      ]
     },
     "execution_count": 19,
     "metadata": {},
     "output_type": "execute_result"
    }
   ],
   "source": [
    "clf.feature_importances_"
   ]
  },
  {
   "cell_type": "code",
   "execution_count": 20,
   "id": "0545208b",
   "metadata": {},
   "outputs": [],
   "source": [
    "from sklearn.inspection import permutation_importance as pi"
   ]
  },
  {
   "cell_type": "code",
   "execution_count": 26,
   "id": "76c30bb0",
   "metadata": {},
   "outputs": [],
   "source": [
    "resut = pi(clf,x,y,n_repeats=6)"
   ]
  },
  {
   "cell_type": "code",
   "execution_count": 27,
   "id": "cc3c0aa0",
   "metadata": {},
   "outputs": [
    {
     "data": {
      "text/plain": [
       "{'importances_mean': array([0.33333333, 0.        ]),\n",
       " 'importances_std': array([0.1490712, 0.       ]),\n",
       " 'importances': array([[0. , 0.4, 0.4, 0.4, 0.4, 0.4],\n",
       "        [0. , 0. , 0. , 0. , 0. , 0. ]])}"
      ]
     },
     "execution_count": 27,
     "metadata": {},
     "output_type": "execute_result"
    }
   ],
   "source": [
    "resut"
   ]
  },
  {
   "cell_type": "code",
   "execution_count": null,
   "id": "2e086bcb",
   "metadata": {},
   "outputs": [],
   "source": []
  }
 ],
 "metadata": {
  "kernelspec": {
   "display_name": "Python 3 (ipykernel)",
   "language": "python",
   "name": "python3"
  },
  "language_info": {
   "codemirror_mode": {
    "name": "ipython",
    "version": 3
   },
   "file_extension": ".py",
   "mimetype": "text/x-python",
   "name": "python",
   "nbconvert_exporter": "python",
   "pygments_lexer": "ipython3",
   "version": "3.10.9"
  }
 },
 "nbformat": 4,
 "nbformat_minor": 5
}
