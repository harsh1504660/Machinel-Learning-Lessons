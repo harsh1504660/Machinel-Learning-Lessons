{
 "cells": [
  {
   "cell_type": "markdown",
   "id": "bc828b64",
   "metadata": {},
   "source": [
    "# data preperation "
   ]
  },
  {
   "cell_type": "code",
   "execution_count": 31,
   "id": "fc344a49",
   "metadata": {},
   "outputs": [],
   "source": [
    "import pandas as pd\n",
    "import numpy as np\n",
    "import matplotlib.pyplot as plt\n",
    "import seaborn as sns"
   ]
  },
  {
   "cell_type": "code",
   "execution_count": 32,
   "id": "7b6d3efd",
   "metadata": {},
   "outputs": [],
   "source": [
    "df = pd.read_csv('Mobiles_info.csv')"
   ]
  },
  {
   "cell_type": "code",
   "execution_count": 33,
   "id": "f5f69f89",
   "metadata": {},
   "outputs": [
    {
     "data": {
      "text/html": [
       "<div>\n",
       "<style scoped>\n",
       "    .dataframe tbody tr th:only-of-type {\n",
       "        vertical-align: middle;\n",
       "    }\n",
       "\n",
       "    .dataframe tbody tr th {\n",
       "        vertical-align: top;\n",
       "    }\n",
       "\n",
       "    .dataframe thead th {\n",
       "        text-align: right;\n",
       "    }\n",
       "</style>\n",
       "<table border=\"1\" class=\"dataframe\">\n",
       "  <thead>\n",
       "    <tr style=\"text-align: right;\">\n",
       "      <th></th>\n",
       "      <th>name</th>\n",
       "      <th>ratings</th>\n",
       "      <th>number of rating</th>\n",
       "      <th>number of reviews</th>\n",
       "      <th>ram</th>\n",
       "      <th>rom</th>\n",
       "      <th>expandable</th>\n",
       "      <th>display</th>\n",
       "      <th>camera</th>\n",
       "      <th>battery</th>\n",
       "      <th>price</th>\n",
       "    </tr>\n",
       "  </thead>\n",
       "  <tbody>\n",
       "    <tr>\n",
       "      <th>0</th>\n",
       "      <td>Cellecor E3</td>\n",
       "      <td>3.7</td>\n",
       "      <td>56</td>\n",
       "      <td>2</td>\n",
       "      <td>32.0</td>\n",
       "      <td>32.0</td>\n",
       "      <td>32.0</td>\n",
       "      <td>1.80</td>\n",
       "      <td>0.8</td>\n",
       "      <td>1000.0</td>\n",
       "      <td>1,061</td>\n",
       "    </tr>\n",
       "    <tr>\n",
       "      <th>1</th>\n",
       "      <td>REDMI 10 (Caribbean Green, 64 GB)</td>\n",
       "      <td>4.3</td>\n",
       "      <td>2,22,897</td>\n",
       "      <td>13,810</td>\n",
       "      <td>4.0</td>\n",
       "      <td>64.0</td>\n",
       "      <td>1.0</td>\n",
       "      <td>6.70</td>\n",
       "      <td>50.0</td>\n",
       "      <td>6000.0</td>\n",
       "      <td>9,499</td>\n",
       "    </tr>\n",
       "    <tr>\n",
       "      <th>2</th>\n",
       "      <td>REDMI 10 (Midnight Black, 64 GB)</td>\n",
       "      <td>4.3</td>\n",
       "      <td>2,22,897</td>\n",
       "      <td>13,810</td>\n",
       "      <td>4.0</td>\n",
       "      <td>64.0</td>\n",
       "      <td>1.0</td>\n",
       "      <td>6.70</td>\n",
       "      <td>50.0</td>\n",
       "      <td>6000.0</td>\n",
       "      <td>9,499</td>\n",
       "    </tr>\n",
       "    <tr>\n",
       "      <th>3</th>\n",
       "      <td>MOTOROLA G32 (Satin Silver, 128 GB)</td>\n",
       "      <td>4.1</td>\n",
       "      <td>9,683</td>\n",
       "      <td>799</td>\n",
       "      <td>8.0</td>\n",
       "      <td>128.0</td>\n",
       "      <td>NaN</td>\n",
       "      <td>6.55</td>\n",
       "      <td>50.0</td>\n",
       "      <td>5000.0</td>\n",
       "      <td>11,999</td>\n",
       "    </tr>\n",
       "    <tr>\n",
       "      <th>4</th>\n",
       "      <td>realme C33 2023 (Night Sea, 64 GB)</td>\n",
       "      <td>4.5</td>\n",
       "      <td>6,542</td>\n",
       "      <td>184</td>\n",
       "      <td>4.0</td>\n",
       "      <td>64.0</td>\n",
       "      <td>1.0</td>\n",
       "      <td>6.50</td>\n",
       "      <td>50.0</td>\n",
       "      <td>5000.0</td>\n",
       "      <td>9,999</td>\n",
       "    </tr>\n",
       "  </tbody>\n",
       "</table>\n",
       "</div>"
      ],
      "text/plain": [
       "                                  name  ratings number of rating  \\\n",
       "0                          Cellecor E3      3.7               56   \n",
       "1    REDMI 10 (Caribbean Green, 64 GB)      4.3         2,22,897   \n",
       "2     REDMI 10 (Midnight Black, 64 GB)      4.3         2,22,897   \n",
       "3  MOTOROLA G32 (Satin Silver, 128 GB)      4.1            9,683   \n",
       "4   realme C33 2023 (Night Sea, 64 GB)      4.5            6,542   \n",
       "\n",
       "  number of reviews   ram    rom  expandable  display  camera  battery   price  \n",
       "0                 2  32.0   32.0        32.0     1.80     0.8   1000.0   1,061  \n",
       "1            13,810   4.0   64.0         1.0     6.70    50.0   6000.0   9,499  \n",
       "2            13,810   4.0   64.0         1.0     6.70    50.0   6000.0   9,499  \n",
       "3               799   8.0  128.0         NaN     6.55    50.0   5000.0  11,999  \n",
       "4               184   4.0   64.0         1.0     6.50    50.0   5000.0   9,999  "
      ]
     },
     "execution_count": 33,
     "metadata": {},
     "output_type": "execute_result"
    }
   ],
   "source": [
    "df.head()"
   ]
  },
  {
   "cell_type": "code",
   "execution_count": 34,
   "id": "1141254a",
   "metadata": {},
   "outputs": [],
   "source": [
    "df['price'] = df['price'].str.replace(',','')"
   ]
  },
  {
   "cell_type": "code",
   "execution_count": 35,
   "id": "8ad5f738",
   "metadata": {},
   "outputs": [],
   "source": [
    "df['price'] = df['price'].fillna(0)"
   ]
  },
  {
   "cell_type": "code",
   "execution_count": 36,
   "id": "f7840ff3",
   "metadata": {},
   "outputs": [],
   "source": [
    "df['price'] = df['price'].astype('int32')"
   ]
  },
  {
   "cell_type": "code",
   "execution_count": 37,
   "id": "c6c45f5b",
   "metadata": {},
   "outputs": [
    {
     "name": "stdout",
     "output_type": "stream",
     "text": [
      "<class 'pandas.core.frame.DataFrame'>\n",
      "RangeIndex: 586 entries, 0 to 585\n",
      "Data columns (total 11 columns):\n",
      " #   Column             Non-Null Count  Dtype  \n",
      "---  ------             --------------  -----  \n",
      " 0   name               586 non-null    object \n",
      " 1   ratings            580 non-null    float64\n",
      " 2   number of rating   580 non-null    object \n",
      " 3   number of reviews  580 non-null    object \n",
      " 4   ram                582 non-null    float64\n",
      " 5   rom                559 non-null    float64\n",
      " 6   expandable         331 non-null    float64\n",
      " 7   display            585 non-null    float64\n",
      " 8   camera             586 non-null    float64\n",
      " 9   battery            565 non-null    float64\n",
      " 10  price              586 non-null    int32  \n",
      "dtypes: float64(7), int32(1), object(3)\n",
      "memory usage: 48.2+ KB\n"
     ]
    }
   ],
   "source": [
    "df.info()"
   ]
  },
  {
   "cell_type": "code",
   "execution_count": 38,
   "id": "2842bfd9",
   "metadata": {},
   "outputs": [],
   "source": [
    "mean = df['price'].mean()"
   ]
  },
  {
   "cell_type": "code",
   "execution_count": 43,
   "id": "a58a064e",
   "metadata": {},
   "outputs": [],
   "source": [
    "df['price'] = df['price'].replace(0,mean)"
   ]
  },
  {
   "cell_type": "code",
   "execution_count": 44,
   "id": "90f26f68",
   "metadata": {},
   "outputs": [],
   "source": [
    "df['number of reviews'] =df['number of reviews'].str.replace(',','')\n",
    "df['number of rating'] = df['number of rating'].str.replace(',','')"
   ]
  },
  {
   "cell_type": "code",
   "execution_count": 45,
   "id": "303d944d",
   "metadata": {},
   "outputs": [],
   "source": [
    "df['number of reviews'] = df['number of reviews'].fillna(0)\n",
    "df['number of rating'] = df['number of rating'].fillna(0)"
   ]
  },
  {
   "cell_type": "code",
   "execution_count": 46,
   "id": "0afff460",
   "metadata": {},
   "outputs": [],
   "source": [
    "df['number of reviews'] = df['number of reviews'].astype('int32')\n",
    "df['number of rating'] = df['number of rating'].astype('int32')"
   ]
  },
  {
   "cell_type": "code",
   "execution_count": 47,
   "id": "50e9ef8c",
   "metadata": {},
   "outputs": [],
   "source": [
    "mean_ra = df['number of rating'].mean()\n",
    "mean_re = df['number of reviews'].mean()"
   ]
  },
  {
   "cell_type": "code",
   "execution_count": 48,
   "id": "d503bc0c",
   "metadata": {},
   "outputs": [],
   "source": [
    "df['number of reviews'] = df['number of reviews'].replace(0,mean_ra)\n",
    "df['number of rating'] = df['number of rating'].replace(0,mean_re)"
   ]
  },
  {
   "cell_type": "code",
   "execution_count": 49,
   "id": "b72023b6",
   "metadata": {},
   "outputs": [
    {
     "data": {
      "text/plain": [
       "name                   0\n",
       "ratings                6\n",
       "number of rating       0\n",
       "number of reviews      0\n",
       "ram                    4\n",
       "rom                   27\n",
       "expandable           255\n",
       "display                1\n",
       "camera                 0\n",
       "battery               21\n",
       "price                  0\n",
       "dtype: int64"
      ]
     },
     "execution_count": 49,
     "metadata": {},
     "output_type": "execute_result"
    }
   ],
   "source": [
    "df.isnull().sum()"
   ]
  },
  {
   "cell_type": "code",
   "execution_count": 50,
   "id": "2fae63f3",
   "metadata": {},
   "outputs": [
    {
     "name": "stdout",
     "output_type": "stream",
     "text": [
      "<class 'pandas.core.frame.DataFrame'>\n",
      "RangeIndex: 586 entries, 0 to 585\n",
      "Data columns (total 11 columns):\n",
      " #   Column             Non-Null Count  Dtype  \n",
      "---  ------             --------------  -----  \n",
      " 0   name               586 non-null    object \n",
      " 1   ratings            580 non-null    float64\n",
      " 2   number of rating   586 non-null    float64\n",
      " 3   number of reviews  586 non-null    float64\n",
      " 4   ram                582 non-null    float64\n",
      " 5   rom                559 non-null    float64\n",
      " 6   expandable         331 non-null    float64\n",
      " 7   display            585 non-null    float64\n",
      " 8   camera             586 non-null    float64\n",
      " 9   battery            565 non-null    float64\n",
      " 10  price              586 non-null    float64\n",
      "dtypes: float64(10), object(1)\n",
      "memory usage: 50.5+ KB\n"
     ]
    }
   ],
   "source": [
    "df.info()"
   ]
  },
  {
   "cell_type": "code",
   "execution_count": 51,
   "id": "86bb6bca",
   "metadata": {},
   "outputs": [],
   "source": [
    "df.to_csv('updated_mobile_info.csv')"
   ]
  },
  {
   "cell_type": "markdown",
   "id": "baff85d5",
   "metadata": {},
   "source": [
    "# Normalization"
   ]
  },
  {
   "cell_type": "code",
   "execution_count": 52,
   "id": "7ca20ac0",
   "metadata": {},
   "outputs": [],
   "source": [
    "df=pd.read_csv('updated_mobile_info.csv')"
   ]
  },
  {
   "cell_type": "code",
   "execution_count": 53,
   "id": "a17f662f",
   "metadata": {},
   "outputs": [
    {
     "data": {
      "text/html": [
       "<div>\n",
       "<style scoped>\n",
       "    .dataframe tbody tr th:only-of-type {\n",
       "        vertical-align: middle;\n",
       "    }\n",
       "\n",
       "    .dataframe tbody tr th {\n",
       "        vertical-align: top;\n",
       "    }\n",
       "\n",
       "    .dataframe thead th {\n",
       "        text-align: right;\n",
       "    }\n",
       "</style>\n",
       "<table border=\"1\" class=\"dataframe\">\n",
       "  <thead>\n",
       "    <tr style=\"text-align: right;\">\n",
       "      <th></th>\n",
       "      <th>Unnamed: 0</th>\n",
       "      <th>name</th>\n",
       "      <th>ratings</th>\n",
       "      <th>number of rating</th>\n",
       "      <th>number of reviews</th>\n",
       "      <th>ram</th>\n",
       "      <th>rom</th>\n",
       "      <th>expandable</th>\n",
       "      <th>display</th>\n",
       "      <th>camera</th>\n",
       "      <th>battery</th>\n",
       "      <th>price</th>\n",
       "    </tr>\n",
       "  </thead>\n",
       "  <tbody>\n",
       "    <tr>\n",
       "      <th>0</th>\n",
       "      <td>0</td>\n",
       "      <td>Cellecor E3</td>\n",
       "      <td>3.7</td>\n",
       "      <td>56.0</td>\n",
       "      <td>2.0</td>\n",
       "      <td>32.0</td>\n",
       "      <td>32.0</td>\n",
       "      <td>32.0</td>\n",
       "      <td>1.80</td>\n",
       "      <td>0.8</td>\n",
       "      <td>1000.0</td>\n",
       "      <td>1061.0</td>\n",
       "    </tr>\n",
       "    <tr>\n",
       "      <th>1</th>\n",
       "      <td>1</td>\n",
       "      <td>REDMI 10 (Caribbean Green, 64 GB)</td>\n",
       "      <td>4.3</td>\n",
       "      <td>222897.0</td>\n",
       "      <td>13810.0</td>\n",
       "      <td>4.0</td>\n",
       "      <td>64.0</td>\n",
       "      <td>1.0</td>\n",
       "      <td>6.70</td>\n",
       "      <td>50.0</td>\n",
       "      <td>6000.0</td>\n",
       "      <td>9499.0</td>\n",
       "    </tr>\n",
       "    <tr>\n",
       "      <th>2</th>\n",
       "      <td>2</td>\n",
       "      <td>REDMI 10 (Midnight Black, 64 GB)</td>\n",
       "      <td>4.3</td>\n",
       "      <td>222897.0</td>\n",
       "      <td>13810.0</td>\n",
       "      <td>4.0</td>\n",
       "      <td>64.0</td>\n",
       "      <td>1.0</td>\n",
       "      <td>6.70</td>\n",
       "      <td>50.0</td>\n",
       "      <td>6000.0</td>\n",
       "      <td>9499.0</td>\n",
       "    </tr>\n",
       "    <tr>\n",
       "      <th>3</th>\n",
       "      <td>3</td>\n",
       "      <td>MOTOROLA G32 (Satin Silver, 128 GB)</td>\n",
       "      <td>4.1</td>\n",
       "      <td>9683.0</td>\n",
       "      <td>799.0</td>\n",
       "      <td>8.0</td>\n",
       "      <td>128.0</td>\n",
       "      <td>NaN</td>\n",
       "      <td>6.55</td>\n",
       "      <td>50.0</td>\n",
       "      <td>5000.0</td>\n",
       "      <td>11999.0</td>\n",
       "    </tr>\n",
       "    <tr>\n",
       "      <th>4</th>\n",
       "      <td>4</td>\n",
       "      <td>realme C33 2023 (Night Sea, 64 GB)</td>\n",
       "      <td>4.5</td>\n",
       "      <td>6542.0</td>\n",
       "      <td>184.0</td>\n",
       "      <td>4.0</td>\n",
       "      <td>64.0</td>\n",
       "      <td>1.0</td>\n",
       "      <td>6.50</td>\n",
       "      <td>50.0</td>\n",
       "      <td>5000.0</td>\n",
       "      <td>9999.0</td>\n",
       "    </tr>\n",
       "  </tbody>\n",
       "</table>\n",
       "</div>"
      ],
      "text/plain": [
       "   Unnamed: 0                                 name  ratings  number of rating  \\\n",
       "0           0                          Cellecor E3      3.7              56.0   \n",
       "1           1    REDMI 10 (Caribbean Green, 64 GB)      4.3          222897.0   \n",
       "2           2     REDMI 10 (Midnight Black, 64 GB)      4.3          222897.0   \n",
       "3           3  MOTOROLA G32 (Satin Silver, 128 GB)      4.1            9683.0   \n",
       "4           4   realme C33 2023 (Night Sea, 64 GB)      4.5            6542.0   \n",
       "\n",
       "   number of reviews   ram    rom  expandable  display  camera  battery  \\\n",
       "0                2.0  32.0   32.0        32.0     1.80     0.8   1000.0   \n",
       "1            13810.0   4.0   64.0         1.0     6.70    50.0   6000.0   \n",
       "2            13810.0   4.0   64.0         1.0     6.70    50.0   6000.0   \n",
       "3              799.0   8.0  128.0         NaN     6.55    50.0   5000.0   \n",
       "4              184.0   4.0   64.0         1.0     6.50    50.0   5000.0   \n",
       "\n",
       "     price  \n",
       "0   1061.0  \n",
       "1   9499.0  \n",
       "2   9499.0  \n",
       "3  11999.0  \n",
       "4   9999.0  "
      ]
     },
     "execution_count": 53,
     "metadata": {},
     "output_type": "execute_result"
    }
   ],
   "source": [
    "df.head()"
   ]
  },
  {
   "cell_type": "code",
   "execution_count": 54,
   "id": "acf43279",
   "metadata": {},
   "outputs": [
    {
     "data": {
      "text/plain": [
       "<AxesSubplot: xlabel='price', ylabel='Density'>"
      ]
     },
     "execution_count": 54,
     "metadata": {},
     "output_type": "execute_result"
    },
    {
     "data": {
      "image/png": "[encoded data removed]",
      "text/plain": [
       "<Figure size 640x480 with 1 Axes>"
      ]
     },
     "metadata": {},
     "output_type": "display_data"
    }
   ],
   "source": [
    "sns.kdeplot(df['price'])"
   ]
  },
  {
   "cell_type": "code",
   "execution_count": 55,
   "id": "0e013b12",
   "metadata": {},
   "outputs": [],
   "source": [
    "from sklearn.model_selection import train_test_split"
   ]
  },
  {
   "cell_type": "code",
   "execution_count": 59,
   "id": "64e434bf",
   "metadata": {},
   "outputs": [],
   "source": [
    "x_train,x_test,y_train,y_test = train_test_split(df.drop(columns=['name','price']),\n",
    "                                                df['price'],\n",
    "                                                test_size=0.2,\n",
    "                                                random_state=1)"
   ]
  },
  {
   "cell_type": "code",
   "execution_count": 60,
   "id": "c26c68d5",
   "metadata": {},
   "outputs": [
    {
     "data": {
      "text/plain": [
       "((468, 10), (118, 10))"
      ]
     },
     "execution_count": 60,
     "metadata": {},
     "output_type": "execute_result"
    }
   ],
   "source": [
    "x_train.shape ,x_test.shape"
   ]
  },
  {
   "cell_type": "code",
   "execution_count": 61,
   "id": "b72b31bb",
   "metadata": {},
   "outputs": [
    {
     "data": {
      "text/html": [
       "<style>#sk-container-id-1 {color: black;background-color: white;}#sk-container-id-1 pre{padding: 0;}#sk-container-id-1 div.sk-toggleable {background-color: white;}#sk-container-id-1 label.sk-toggleable__label {cursor: pointer;display: block;width: 100%;margin-bottom: 0;padding: 0.3em;box-sizing: border-box;text-align: center;}#sk-container-id-1 label.sk-toggleable__label-arrow:before {content: \"▸\";float: left;margin-right: 0.25em;color: #696969;}#sk-container-id-1 label.sk-toggleable__label-arrow:hover:before {color: black;}#sk-container-id-1 div.sk-estimator:hover label.sk-toggleable__label-arrow:before {color: black;}#sk-container-id-1 div.sk-toggleable__content {max-height: 0;max-width: 0;overflow: hidden;text-align: left;background-color: #f0f8ff;}#sk-container-id-1 div.sk-toggleable__content pre {margin: 0.2em;color: black;border-radius: 0.25em;background-color: #f0f8ff;}#sk-container-id-1 input.sk-toggleable__control:checked~div.sk-toggleable__content {max-height: 200px;max-width: 100%;overflow: auto;}#sk-container-id-1 input.sk-toggleable__control:checked~label.sk-toggleable__label-arrow:before {content: \"▾\";}#sk-container-id-1 div.sk-estimator input.sk-toggleable__control:checked~label.sk-toggleable__label {background-color: #d4ebff;}#sk-container-id-1 div.sk-label input.sk-toggleable__control:checked~label.sk-toggleable__label {background-color: #d4ebff;}#sk-container-id-1 input.sk-hidden--visually {border: 0;clip: rect(1px 1px 1px 1px);clip: rect(1px, 1px, 1px, 1px);height: 1px;margin: -1px;overflow: hidden;padding: 0;position: absolute;width: 1px;}#sk-container-id-1 div.sk-estimator {font-family: monospace;background-color: #f0f8ff;border: 1px dotted black;border-radius: 0.25em;box-sizing: border-box;margin-bottom: 0.5em;}#sk-container-id-1 div.sk-estimator:hover {background-color: #d4ebff;}#sk-container-id-1 div.sk-parallel-item::after {content: \"\";width: 100%;border-bottom: 1px solid gray;flex-grow: 1;}#sk-container-id-1 div.sk-label:hover label.sk-toggleable__label {background-color: #d4ebff;}#sk-container-id-1 div.sk-serial::before {content: \"\";position: absolute;border-left: 1px solid gray;box-sizing: border-box;top: 0;bottom: 0;left: 50%;z-index: 0;}#sk-container-id-1 div.sk-serial {display: flex;flex-direction: column;align-items: center;background-color: white;padding-right: 0.2em;padding-left: 0.2em;position: relative;}#sk-container-id-1 div.sk-item {position: relative;z-index: 1;}#sk-container-id-1 div.sk-parallel {display: flex;align-items: stretch;justify-content: center;background-color: white;position: relative;}#sk-container-id-1 div.sk-item::before, #sk-container-id-1 div.sk-parallel-item::before {content: \"\";position: absolute;border-left: 1px solid gray;box-sizing: border-box;top: 0;bottom: 0;left: 50%;z-index: -1;}#sk-container-id-1 div.sk-parallel-item {display: flex;flex-direction: column;z-index: 1;position: relative;background-color: white;}#sk-container-id-1 div.sk-parallel-item:first-child::after {align-self: flex-end;width: 50%;}#sk-container-id-1 div.sk-parallel-item:last-child::after {align-self: flex-start;width: 50%;}#sk-container-id-1 div.sk-parallel-item:only-child::after {width: 0;}#sk-container-id-1 div.sk-dashed-wrapped {border: 1px dashed gray;margin: 0 0.4em 0.5em 0.4em;box-sizing: border-box;padding-bottom: 0.4em;background-color: white;}#sk-container-id-1 div.sk-label label {font-family: monospace;font-weight: bold;display: inline-block;line-height: 1.2em;}#sk-container-id-1 div.sk-label-container {text-align: center;}#sk-container-id-1 div.sk-container {/* jupyter's `normalize.less` sets `[hidden] { display: none; }` but bootstrap.min.css set `[hidden] { display: none !important; }` so we also need the `!important` here to be able to override the default hidden behavior on the sphinx rendered scikit-learn.org. See: https://github.com/scikit-learn/scikit-learn/issues/21755 */display: inline-block !important;position: relative;}#sk-container-id-1 div.sk-text-repr-fallback {display: none;}</style><div id=\"sk-container-id-1\" class=\"sk-top-container\"><div class=\"sk-text-repr-fallback\"><pre>MinMaxScaler()</pre><b>In a Jupyter environment, please rerun this cell to show the HTML representation or trust the notebook. <br />On GitHub, the HTML representation is unable to render, please try loading this page with nbviewer.org.</b></div><div class=\"sk-container\" hidden><div class=\"sk-item\"><div class=\"sk-estimator sk-toggleable\"><input class=\"sk-toggleable__control sk-hidden--visually\" id=\"sk-estimator-id-1\" type=\"checkbox\" checked><label for=\"sk-estimator-id-1\" class=\"sk-toggleable__label sk-toggleable__label-arrow\">MinMaxScaler</label><div class=\"sk-toggleable__content\"><pre>MinMaxScaler()</pre></div></div></div></div></div>"
      ],
      "text/plain": [
       "MinMaxScaler()"
      ]
     },
     "execution_count": 61,
     "metadata": {},
     "output_type": "execute_result"
    }
   ],
   "source": [
    "from sklearn.preprocessing import MinMaxScaler\n",
    "scalar = MinMaxScaler()\n",
    "scalar.fit(x_train)"
   ]
  },
  {
   "cell_type": "code",
   "execution_count": 62,
   "id": "9394d892",
   "metadata": {},
   "outputs": [],
   "source": [
    "x_train_scalar = scalar.transform(x_train)\n",
    "x_test_scalar = scalar.transform(x_test)"
   ]
  },
  {
   "cell_type": "code",
   "execution_count": 63,
   "id": "3e03017e",
   "metadata": {},
   "outputs": [
    {
     "data": {
      "text/plain": [
       "array([[7.63698630e-01, 7.89473684e-01, 5.15780784e-03, ...,\n",
       "        3.15299989e-02, 4.33333333e-03, 6.71666667e-01],\n",
       "       [6.62671233e-01, 6.84210526e-01, 8.60024940e-03, ...,\n",
       "        9.86730180e-03, 1.00000000e-04, 2.83333333e-01],\n",
       "       [7.50000000e-01, 7.89473684e-01, 3.40093321e-01, ...,\n",
       "        3.49325167e-02, 4.33333333e-03, 1.00000000e+00],\n",
       "       ...,\n",
       "       [1.21575342e-01, 6.84210526e-01, 4.30656464e-02, ...,\n",
       "        3.34013837e-02, 3.60000000e-02, 8.33333333e-01],\n",
       "       [4.00684932e-01, 7.89473684e-01, 2.10995908e-02, ...,\n",
       "        3.42520132e-02, 1.66666667e-02, 7.50000000e-01],\n",
       "       [6.16438356e-02, 7.36842105e-01, 2.61666540e-02, ...,\n",
       "        3.43087218e-02, 1.66666667e-02, 8.33333333e-01]])"
      ]
     },
     "execution_count": 63,
     "metadata": {},
     "output_type": "execute_result"
    }
   ],
   "source": [
    "x_train_scalar"
   ]
  },
  {
   "cell_type": "markdown",
   "id": "b7ed07de",
   "metadata": {},
   "source": [
    "# Standardization"
   ]
  },
  {
   "cell_type": "code",
   "execution_count": 67,
   "id": "ac5c5cf8",
   "metadata": {},
   "outputs": [
    {
     "data": {
      "text/html": [
       "<style>#sk-container-id-2 {color: black;background-color: white;}#sk-container-id-2 pre{padding: 0;}#sk-container-id-2 div.sk-toggleable {background-color: white;}#sk-container-id-2 label.sk-toggleable__label {cursor: pointer;display: block;width: 100%;margin-bottom: 0;padding: 0.3em;box-sizing: border-box;text-align: center;}#sk-container-id-2 label.sk-toggleable__label-arrow:before {content: \"▸\";float: left;margin-right: 0.25em;color: #696969;}#sk-container-id-2 label.sk-toggleable__label-arrow:hover:before {color: black;}#sk-container-id-2 div.sk-estimator:hover label.sk-toggleable__label-arrow:before {color: black;}#sk-container-id-2 div.sk-toggleable__content {max-height: 0;max-width: 0;overflow: hidden;text-align: left;background-color: #f0f8ff;}#sk-container-id-2 div.sk-toggleable__content pre {margin: 0.2em;color: black;border-radius: 0.25em;background-color: #f0f8ff;}#sk-container-id-2 input.sk-toggleable__control:checked~div.sk-toggleable__content {max-height: 200px;max-width: 100%;overflow: auto;}#sk-container-id-2 input.sk-toggleable__control:checked~label.sk-toggleable__label-arrow:before {content: \"▾\";}#sk-container-id-2 div.sk-estimator input.sk-toggleable__control:checked~label.sk-toggleable__label {background-color: #d4ebff;}#sk-container-id-2 div.sk-label input.sk-toggleable__control:checked~label.sk-toggleable__label {background-color: #d4ebff;}#sk-container-id-2 input.sk-hidden--visually {border: 0;clip: rect(1px 1px 1px 1px);clip: rect(1px, 1px, 1px, 1px);height: 1px;margin: -1px;overflow: hidden;padding: 0;position: absolute;width: 1px;}#sk-container-id-2 div.sk-estimator {font-family: monospace;background-color: #f0f8ff;border: 1px dotted black;border-radius: 0.25em;box-sizing: border-box;margin-bottom: 0.5em;}#sk-container-id-2 div.sk-estimator:hover {background-color: #d4ebff;}#sk-container-id-2 div.sk-parallel-item::after {content: \"\";width: 100%;border-bottom: 1px solid gray;flex-grow: 1;}#sk-container-id-2 div.sk-label:hover label.sk-toggleable__label {background-color: #d4ebff;}#sk-container-id-2 div.sk-serial::before {content: \"\";position: absolute;border-left: 1px solid gray;box-sizing: border-box;top: 0;bottom: 0;left: 50%;z-index: 0;}#sk-container-id-2 div.sk-serial {display: flex;flex-direction: column;align-items: center;background-color: white;padding-right: 0.2em;padding-left: 0.2em;position: relative;}#sk-container-id-2 div.sk-item {position: relative;z-index: 1;}#sk-container-id-2 div.sk-parallel {display: flex;align-items: stretch;justify-content: center;background-color: white;position: relative;}#sk-container-id-2 div.sk-item::before, #sk-container-id-2 div.sk-parallel-item::before {content: \"\";position: absolute;border-left: 1px solid gray;box-sizing: border-box;top: 0;bottom: 0;left: 50%;z-index: -1;}#sk-container-id-2 div.sk-parallel-item {display: flex;flex-direction: column;z-index: 1;position: relative;background-color: white;}#sk-container-id-2 div.sk-parallel-item:first-child::after {align-self: flex-end;width: 50%;}#sk-container-id-2 div.sk-parallel-item:last-child::after {align-self: flex-start;width: 50%;}#sk-container-id-2 div.sk-parallel-item:only-child::after {width: 0;}#sk-container-id-2 div.sk-dashed-wrapped {border: 1px dashed gray;margin: 0 0.4em 0.5em 0.4em;box-sizing: border-box;padding-bottom: 0.4em;background-color: white;}#sk-container-id-2 div.sk-label label {font-family: monospace;font-weight: bold;display: inline-block;line-height: 1.2em;}#sk-container-id-2 div.sk-label-container {text-align: center;}#sk-container-id-2 div.sk-container {/* jupyter's `normalize.less` sets `[hidden] { display: none; }` but bootstrap.min.css set `[hidden] { display: none !important; }` so we also need the `!important` here to be able to override the default hidden behavior on the sphinx rendered scikit-learn.org. See: https://github.com/scikit-learn/scikit-learn/issues/21755 */display: inline-block !important;position: relative;}#sk-container-id-2 div.sk-text-repr-fallback {display: none;}</style><div id=\"sk-container-id-2\" class=\"sk-top-container\"><div class=\"sk-text-repr-fallback\"><pre>StandardScaler()</pre><b>In a Jupyter environment, please rerun this cell to show the HTML representation or trust the notebook. <br />On GitHub, the HTML representation is unable to render, please try loading this page with nbviewer.org.</b></div><div class=\"sk-container\" hidden><div class=\"sk-item\"><div class=\"sk-estimator sk-toggleable\"><input class=\"sk-toggleable__control sk-hidden--visually\" id=\"sk-estimator-id-2\" type=\"checkbox\" checked><label for=\"sk-estimator-id-2\" class=\"sk-toggleable__label sk-toggleable__label-arrow\">StandardScaler</label><div class=\"sk-toggleable__content\"><pre>StandardScaler()</pre></div></div></div></div></div>"
      ],
      "text/plain": [
       "StandardScaler()"
      ]
     },
     "execution_count": 67,
     "metadata": {},
     "output_type": "execute_result"
    }
   ],
   "source": [
    "from sklearn.preprocessing import StandardScaler\n",
    "scalar = StandardScaler()\n",
    "scalar.fit(x_train)"
   ]
  },
  {
   "cell_type": "code",
   "execution_count": 68,
   "id": "91eeb366",
   "metadata": {},
   "outputs": [],
   "source": [
    "x_train_std = scalar.transform(x_train)\n",
    "x_test_std = scalar.transform(x_test)"
   ]
  },
  {
   "cell_type": "code",
   "execution_count": 69,
   "id": "6f13aaee",
   "metadata": {},
   "outputs": [
    {
     "data": {
      "text/plain": [
       "array([[ 0.93973568,  0.47612375, -0.45935445, ...,  0.05434196,\n",
       "        -0.27541793, -0.01918932],\n",
       "       [ 0.58444935, -0.26827277, -0.43590919, ..., -0.41349195,\n",
       "        -0.32118086, -1.37397985],\n",
       "       [ 0.89156126,  0.47612375,  1.8217736 , ...,  0.12782373,\n",
       "        -0.27541793,  1.12627736],\n",
       "       ...,\n",
       "       [-1.31844012, -0.26827277, -0.20117749, ...,  0.09475694,\n",
       "         0.06690323,  0.54482219],\n",
       "       [-0.33688637,  0.47612375, -0.35078057, ...,  0.11312738,\n",
       "        -0.14209285,  0.25409461],\n",
       "       [-1.5292032 ,  0.10392549, -0.31627059, ...,  0.11435207,\n",
       "        -0.14209285,  0.54482219]])"
      ]
     },
     "execution_count": 69,
     "metadata": {},
     "output_type": "execute_result"
    }
   ],
   "source": [
    "x_train_std"
   ]
  },
  {
   "cell_type": "code",
   "execution_count": 70,
   "id": "f18f5928",
   "metadata": {},
   "outputs": [
    {
     "data": {
      "text/plain": [
       "array([[7.63698630e-01, 7.89473684e-01, 5.15780784e-03, ...,\n",
       "        3.15299989e-02, 4.33333333e-03, 6.71666667e-01],\n",
       "       [6.62671233e-01, 6.84210526e-01, 8.60024940e-03, ...,\n",
       "        9.86730180e-03, 1.00000000e-04, 2.83333333e-01],\n",
       "       [7.50000000e-01, 7.89473684e-01, 3.40093321e-01, ...,\n",
       "        3.49325167e-02, 4.33333333e-03, 1.00000000e+00],\n",
       "       ...,\n",
       "       [1.21575342e-01, 6.84210526e-01, 4.30656464e-02, ...,\n",
       "        3.34013837e-02, 3.60000000e-02, 8.33333333e-01],\n",
       "       [4.00684932e-01, 7.89473684e-01, 2.10995908e-02, ...,\n",
       "        3.42520132e-02, 1.66666667e-02, 7.50000000e-01],\n",
       "       [6.16438356e-02, 7.36842105e-01, 2.61666540e-02, ...,\n",
       "        3.43087218e-02, 1.66666667e-02, 8.33333333e-01]])"
      ]
     },
     "execution_count": 70,
     "metadata": {},
     "output_type": "execute_result"
    }
   ],
   "source": [
    "x_train_scalar"
   ]
  },
  {
   "cell_type": "markdown",
   "id": "0f154ec2",
   "metadata": {},
   "source": [
    "Observe here that standardization is used when data have Gaussian distribution (normal distribution)\n",
    "             and normalization is used when data dont have Gaussian distribution"
   ]
  },
  {
   "cell_type": "code",
   "execution_count": null,
   "id": "431be136",
   "metadata": {},
   "outputs": [],
   "source": []
  }
 ],
 "metadata": {
  "kernelspec": {
   "display_name": "Python 3 (ipykernel)",
   "language": "python",
   "name": "python3"
  },
  "language_info": {
   "codemirror_mode": {
    "name": "ipython",
    "version": 3
   },
   "file_extension": ".py",
   "mimetype": "text/x-python",
   "name": "python",
   "nbconvert_exporter": "python",
   "pygments_lexer": "ipython3",
   "version": "3.10.9"
  }
 },
 "nbformat": 4,
 "nbformat_minor": 5
}
