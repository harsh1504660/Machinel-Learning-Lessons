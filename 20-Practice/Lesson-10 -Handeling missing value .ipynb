{
 "cells": [
  {
   "cell_type": "markdown",
   "id": "482a3135",
   "metadata": {},
   "source": [
    "# Numerical data"
   ]
  },
  {
   "cell_type": "markdown",
   "id": "9220690b",
   "metadata": {},
   "source": [
    "### 1) Arbitary values imputation"
   ]
  },
  {
   "cell_type": "code",
   "execution_count": 1,
   "id": "acca7780",
   "metadata": {},
   "outputs": [],
   "source": [
    "import numpy as np\n",
    "import pandas as pd"
   ]
  },
  {
   "cell_type": "code",
   "execution_count": 5,
   "id": "176c913a",
   "metadata": {},
   "outputs": [],
   "source": [
    "df= pd.read_csv('updated_mobile_info.csv')"
   ]
  },
  {
   "cell_type": "code",
   "execution_count": 6,
   "id": "64fb2416",
   "metadata": {},
   "outputs": [
    {
     "name": "stdout",
     "output_type": "stream",
     "text": [
      "<class 'pandas.core.frame.DataFrame'>\n",
      "RangeIndex: 586 entries, 0 to 585\n",
      "Data columns (total 12 columns):\n",
      " #   Column             Non-Null Count  Dtype  \n",
      "---  ------             --------------  -----  \n",
      " 0   Unnamed: 0         586 non-null    int64  \n",
      " 1   name               586 non-null    object \n",
      " 2   ratings            580 non-null    float64\n",
      " 3   number of rating   586 non-null    float64\n",
      " 4   number of reviews  586 non-null    float64\n",
      " 5   ram                582 non-null    float64\n",
      " 6   rom                559 non-null    float64\n",
      " 7   expandable         331 non-null    float64\n",
      " 8   display            585 non-null    float64\n",
      " 9   camera             586 non-null    float64\n",
      " 10  battery            565 non-null    float64\n",
      " 11  price              586 non-null    float64\n",
      "dtypes: float64(10), int64(1), object(1)\n",
      "memory usage: 55.1+ KB\n"
     ]
    }
   ],
   "source": [
    "df.info()"
   ]
  },
  {
   "cell_type": "code",
   "execution_count": 11,
   "id": "d408fb88",
   "metadata": {},
   "outputs": [
    {
     "data": {
      "text/plain": [
       "Unnamed: 0             0\n",
       "name                   0\n",
       "ratings                6\n",
       "number of rating       0\n",
       "number of reviews      0\n",
       "ram                    4\n",
       "rom                   27\n",
       "expandable           255\n",
       "display                1\n",
       "camera                 0\n",
       "battery               21\n",
       "price                  0\n",
       "dtype: int64"
      ]
     },
     "execution_count": 11,
     "metadata": {},
     "output_type": "execute_result"
    }
   ],
   "source": [
    "df.isnull().sum()"
   ]
  },
  {
   "cell_type": "code",
   "execution_count": 12,
   "id": "7baaca60",
   "metadata": {},
   "outputs": [],
   "source": [
    "# manually\n",
    "df['battery']=df['battery'].fillna(55555555)"
   ]
  },
  {
   "cell_type": "code",
   "execution_count": 13,
   "id": "7936a625",
   "metadata": {},
   "outputs": [
    {
     "data": {
      "text/plain": [
       "0"
      ]
     },
     "execution_count": 13,
     "metadata": {},
     "output_type": "execute_result"
    }
   ],
   "source": [
    "df['battery'].isnull().sum()"
   ]
  },
  {
   "cell_type": "code",
   "execution_count": 15,
   "id": "9c3c9252",
   "metadata": {},
   "outputs": [
    {
     "data": {
      "text/plain": [
       "Unnamed: 0             0\n",
       "name                   0\n",
       "ratings                6\n",
       "number of rating       0\n",
       "number of reviews      0\n",
       "ram                    4\n",
       "rom                   27\n",
       "expandable           255\n",
       "display                1\n",
       "camera                 0\n",
       "battery                0\n",
       "price                  0\n",
       "dtype: int64"
      ]
     },
     "execution_count": 15,
     "metadata": {},
     "output_type": "execute_result"
    }
   ],
   "source": [
    "df.isnull().sum()"
   ]
  },
  {
   "cell_type": "code",
   "execution_count": 16,
   "id": "c2c90c8a",
   "metadata": {},
   "outputs": [],
   "source": [
    "# using sklearn\n",
    "from sklearn.impute import SimpleImputer\n",
    "impute = SimpleImputer(strategy='constant',fill_value=45)"
   ]
  },
  {
   "cell_type": "code",
   "execution_count": 18,
   "id": "3296ad19",
   "metadata": {},
   "outputs": [],
   "source": [
    "from sklearn.compose import ColumnTransformer\n",
    "trf = ColumnTransformer(transformers=[\n",
    "    ('n1',impute,['rom'])\n",
    "],remainder='passthrough')"
   ]
  },
  {
   "cell_type": "code",
   "execution_count": 20,
   "id": "b8d9e429",
   "metadata": {},
   "outputs": [],
   "source": [
    "trf_df = trf.fit_transform(df)"
   ]
  },
  {
   "cell_type": "code",
   "execution_count": 21,
   "id": "e8bbaec4",
   "metadata": {},
   "outputs": [
    {
     "data": {
      "text/plain": [
       "array([45.])"
      ]
     },
     "execution_count": 21,
     "metadata": {},
     "output_type": "execute_result"
    }
   ],
   "source": [
    "trf.named_transformers_['n1'].statistics_"
   ]
  },
  {
   "cell_type": "markdown",
   "id": "2dced1de",
   "metadata": {},
   "source": [
    "### 2) CCA"
   ]
  },
  {
   "cell_type": "code",
   "execution_count": 22,
   "id": "1ddda570",
   "metadata": {},
   "outputs": [
    {
     "data": {
      "text/plain": [
       "Unnamed: 0             0\n",
       "name                   0\n",
       "ratings                6\n",
       "number of rating       0\n",
       "number of reviews      0\n",
       "ram                    4\n",
       "rom                   27\n",
       "expandable           255\n",
       "display                1\n",
       "camera                 0\n",
       "battery                0\n",
       "price                  0\n",
       "dtype: int64"
      ]
     },
     "execution_count": 22,
     "metadata": {},
     "output_type": "execute_result"
    }
   ],
   "source": [
    "df.isnull().sum()"
   ]
  },
  {
   "cell_type": "code",
   "execution_count": 23,
   "id": "541e2729",
   "metadata": {},
   "outputs": [],
   "source": [
    "df.dropna(inplace=True)"
   ]
  },
  {
   "cell_type": "code",
   "execution_count": 24,
   "id": "9e0987a4",
   "metadata": {},
   "outputs": [
    {
     "data": {
      "text/plain": [
       "Unnamed: 0           0\n",
       "name                 0\n",
       "ratings              0\n",
       "number of rating     0\n",
       "number of reviews    0\n",
       "ram                  0\n",
       "rom                  0\n",
       "expandable           0\n",
       "display              0\n",
       "camera               0\n",
       "battery              0\n",
       "price                0\n",
       "dtype: int64"
      ]
     },
     "execution_count": 24,
     "metadata": {},
     "output_type": "execute_result"
    }
   ],
   "source": [
    "df.isnull().sum()"
   ]
  },
  {
   "cell_type": "code",
   "execution_count": 25,
   "id": "2f9e7654",
   "metadata": {},
   "outputs": [
    {
     "data": {
      "text/plain": [
       "(324, 12)"
      ]
     },
     "execution_count": 25,
     "metadata": {},
     "output_type": "execute_result"
    }
   ],
   "source": [
    "df.shape"
   ]
  },
  {
   "cell_type": "markdown",
   "id": "2c3f8ead",
   "metadata": {},
   "source": [
    "### 3) Most frequent value imputer "
   ]
  },
  {
   "cell_type": "code",
   "execution_count": 28,
   "id": "e3687e88",
   "metadata": {},
   "outputs": [],
   "source": [
    "impute = SimpleImputer(strategy='most_frequent')\n",
    "data = pd.read_csv('updated_mobile_info.csv')"
   ]
  },
  {
   "cell_type": "code",
   "execution_count": 29,
   "id": "27bd1dc4",
   "metadata": {},
   "outputs": [
    {
     "data": {
      "text/plain": [
       "Unnamed: 0             0\n",
       "name                   0\n",
       "ratings                6\n",
       "number of rating       0\n",
       "number of reviews      0\n",
       "ram                    4\n",
       "rom                   27\n",
       "expandable           255\n",
       "display                1\n",
       "camera                 0\n",
       "battery               21\n",
       "price                  0\n",
       "dtype: int64"
      ]
     },
     "execution_count": 29,
     "metadata": {},
     "output_type": "execute_result"
    }
   ],
   "source": [
    "data.isnull().sum()"
   ]
  },
  {
   "cell_type": "code",
   "execution_count": 30,
   "id": "6e83b8fc",
   "metadata": {},
   "outputs": [],
   "source": [
    "data = impute.fit_transform(data)"
   ]
  },
  {
   "cell_type": "code",
   "execution_count": 32,
   "id": "574fe28e",
   "metadata": {},
   "outputs": [],
   "source": [
    "demo = pd.DataFrame(data)"
   ]
  },
  {
   "cell_type": "code",
   "execution_count": 33,
   "id": "38ec8c3f",
   "metadata": {},
   "outputs": [
    {
     "data": {
      "text/plain": [
       "0     0\n",
       "1     0\n",
       "2     0\n",
       "3     0\n",
       "4     0\n",
       "5     0\n",
       "6     0\n",
       "7     0\n",
       "8     0\n",
       "9     0\n",
       "10    0\n",
       "11    0\n",
       "dtype: int64"
      ]
     },
     "execution_count": 33,
     "metadata": {},
     "output_type": "execute_result"
    }
   ],
   "source": [
    "demo.isnull().sum()"
   ]
  },
  {
   "cell_type": "code",
   "execution_count": 34,
   "id": "ece66780",
   "metadata": {},
   "outputs": [
    {
     "data": {
      "text/html": [
       "<div>\n",
       "<style scoped>\n",
       "    .dataframe tbody tr th:only-of-type {\n",
       "        vertical-align: middle;\n",
       "    }\n",
       "\n",
       "    .dataframe tbody tr th {\n",
       "        vertical-align: top;\n",
       "    }\n",
       "\n",
       "    .dataframe thead th {\n",
       "        text-align: right;\n",
       "    }\n",
       "</style>\n",
       "<table border=\"1\" class=\"dataframe\">\n",
       "  <thead>\n",
       "    <tr style=\"text-align: right;\">\n",
       "      <th></th>\n",
       "      <th>0</th>\n",
       "      <th>1</th>\n",
       "      <th>2</th>\n",
       "      <th>3</th>\n",
       "      <th>4</th>\n",
       "      <th>5</th>\n",
       "      <th>6</th>\n",
       "      <th>7</th>\n",
       "      <th>8</th>\n",
       "      <th>9</th>\n",
       "      <th>10</th>\n",
       "      <th>11</th>\n",
       "    </tr>\n",
       "  </thead>\n",
       "  <tbody>\n",
       "    <tr>\n",
       "      <th>0</th>\n",
       "      <td>0</td>\n",
       "      <td>Cellecor E3</td>\n",
       "      <td>3.7</td>\n",
       "      <td>56.0</td>\n",
       "      <td>2.0</td>\n",
       "      <td>32.0</td>\n",
       "      <td>32.0</td>\n",
       "      <td>32.0</td>\n",
       "      <td>1.8</td>\n",
       "      <td>0.8</td>\n",
       "      <td>1000.0</td>\n",
       "      <td>1061.0</td>\n",
       "    </tr>\n",
       "    <tr>\n",
       "      <th>1</th>\n",
       "      <td>1</td>\n",
       "      <td>REDMI 10 (Caribbean Green, 64 GB)</td>\n",
       "      <td>4.3</td>\n",
       "      <td>222897.0</td>\n",
       "      <td>13810.0</td>\n",
       "      <td>4.0</td>\n",
       "      <td>64.0</td>\n",
       "      <td>1.0</td>\n",
       "      <td>6.7</td>\n",
       "      <td>50.0</td>\n",
       "      <td>6000.0</td>\n",
       "      <td>9499.0</td>\n",
       "    </tr>\n",
       "    <tr>\n",
       "      <th>2</th>\n",
       "      <td>2</td>\n",
       "      <td>REDMI 10 (Midnight Black, 64 GB)</td>\n",
       "      <td>4.3</td>\n",
       "      <td>222897.0</td>\n",
       "      <td>13810.0</td>\n",
       "      <td>4.0</td>\n",
       "      <td>64.0</td>\n",
       "      <td>1.0</td>\n",
       "      <td>6.7</td>\n",
       "      <td>50.0</td>\n",
       "      <td>6000.0</td>\n",
       "      <td>9499.0</td>\n",
       "    </tr>\n",
       "    <tr>\n",
       "      <th>3</th>\n",
       "      <td>3</td>\n",
       "      <td>MOTOROLA G32 (Satin Silver, 128 GB)</td>\n",
       "      <td>4.1</td>\n",
       "      <td>9683.0</td>\n",
       "      <td>799.0</td>\n",
       "      <td>8.0</td>\n",
       "      <td>128.0</td>\n",
       "      <td>1.0</td>\n",
       "      <td>6.55</td>\n",
       "      <td>50.0</td>\n",
       "      <td>5000.0</td>\n",
       "      <td>11999.0</td>\n",
       "    </tr>\n",
       "    <tr>\n",
       "      <th>4</th>\n",
       "      <td>4</td>\n",
       "      <td>realme C33 2023 (Night Sea, 64 GB)</td>\n",
       "      <td>4.5</td>\n",
       "      <td>6542.0</td>\n",
       "      <td>184.0</td>\n",
       "      <td>4.0</td>\n",
       "      <td>64.0</td>\n",
       "      <td>1.0</td>\n",
       "      <td>6.5</td>\n",
       "      <td>50.0</td>\n",
       "      <td>5000.0</td>\n",
       "      <td>9999.0</td>\n",
       "    </tr>\n",
       "  </tbody>\n",
       "</table>\n",
       "</div>"
      ],
      "text/plain": [
       "  0                                    1    2         3        4     5   \\\n",
       "0  0                          Cellecor E3  3.7      56.0      2.0  32.0   \n",
       "1  1    REDMI 10 (Caribbean Green, 64 GB)  4.3  222897.0  13810.0   4.0   \n",
       "2  2     REDMI 10 (Midnight Black, 64 GB)  4.3  222897.0  13810.0   4.0   \n",
       "3  3  MOTOROLA G32 (Satin Silver, 128 GB)  4.1    9683.0    799.0   8.0   \n",
       "4  4   realme C33 2023 (Night Sea, 64 GB)  4.5    6542.0    184.0   4.0   \n",
       "\n",
       "      6     7     8     9       10       11  \n",
       "0   32.0  32.0   1.8   0.8  1000.0   1061.0  \n",
       "1   64.0   1.0   6.7  50.0  6000.0   9499.0  \n",
       "2   64.0   1.0   6.7  50.0  6000.0   9499.0  \n",
       "3  128.0   1.0  6.55  50.0  5000.0  11999.0  \n",
       "4   64.0   1.0   6.5  50.0  5000.0   9999.0  "
      ]
     },
     "execution_count": 34,
     "metadata": {},
     "output_type": "execute_result"
    }
   ],
   "source": [
    "demo.head()"
   ]
  },
  {
   "cell_type": "markdown",
   "id": "e5bda982",
   "metadata": {},
   "source": [
    "### 4)Imputing mean"
   ]
  },
  {
   "cell_type": "code",
   "execution_count": 37,
   "id": "8084e6ce",
   "metadata": {},
   "outputs": [],
   "source": [
    "data = pd.read_csv('updated_mobile_info.csv')"
   ]
  },
  {
   "cell_type": "code",
   "execution_count": 38,
   "id": "dc7d5aba",
   "metadata": {},
   "outputs": [
    {
     "data": {
      "text/plain": [
       "Unnamed: 0             0\n",
       "name                   0\n",
       "ratings                6\n",
       "number of rating       0\n",
       "number of reviews      0\n",
       "ram                    4\n",
       "rom                   27\n",
       "expandable           255\n",
       "display                1\n",
       "camera                 0\n",
       "battery               21\n",
       "price                  0\n",
       "dtype: int64"
      ]
     },
     "execution_count": 38,
     "metadata": {},
     "output_type": "execute_result"
    }
   ],
   "source": [
    "data.isnull().sum()"
   ]
  },
  {
   "cell_type": "code",
   "execution_count": 39,
   "id": "828ae631",
   "metadata": {},
   "outputs": [],
   "source": [
    "trf = ColumnTransformer(transformers=[\n",
    "    ('n1',SimpleImputer(strategy='mean'),['ram']),\n",
    "    ('n2',SimpleImputer(strategy='median'),['rom'])\n",
    "],remainder='passthrough')"
   ]
  },
  {
   "cell_type": "code",
   "execution_count": 40,
   "id": "265ee19a",
   "metadata": {},
   "outputs": [],
   "source": [
    "trf.set_output(transform='pandas')\n",
    "trf_data = trf.fit_transform(data)"
   ]
  },
  {
   "cell_type": "code",
   "execution_count": 42,
   "id": "33ab172c",
   "metadata": {},
   "outputs": [
    {
     "data": {
      "text/plain": [
       "n1__ram                           0\n",
       "n2__rom                           0\n",
       "remainder__Unnamed: 0             0\n",
       "remainder__name                   0\n",
       "remainder__ratings                6\n",
       "remainder__number of rating       0\n",
       "remainder__number of reviews      0\n",
       "remainder__expandable           255\n",
       "remainder__display                1\n",
       "remainder__camera                 0\n",
       "remainder__battery               21\n",
       "remainder__price                  0\n",
       "dtype: int64"
      ]
     },
     "execution_count": 42,
     "metadata": {},
     "output_type": "execute_result"
    }
   ],
   "source": [
    "trf_data.isnull().sum()"
   ]
  },
  {
   "cell_type": "code",
   "execution_count": 43,
   "id": "d1d041b8",
   "metadata": {},
   "outputs": [
    {
     "data": {
      "text/plain": [
       "(16.77250859106529, 16.772508591065293)"
      ]
     },
     "execution_count": 43,
     "metadata": {},
     "output_type": "execute_result"
    }
   ],
   "source": [
    "trf_data['n1__ram'].mean() , data['ram'].mean()"
   ]
  },
  {
   "cell_type": "code",
   "execution_count": 45,
   "id": "601b2372",
   "metadata": {},
   "outputs": [
    {
     "data": {
      "text/plain": [
       "(82.01877133105802, 82.88908765652951)"
      ]
     },
     "execution_count": 45,
     "metadata": {},
     "output_type": "execute_result"
    }
   ],
   "source": [
    "trf_data['n2__rom'].mean() , data['rom'].mean()"
   ]
  },
  {
   "cell_type": "markdown",
   "id": "3341b49a",
   "metadata": {},
   "source": [
    "# Categorical data "
   ]
  },
  {
   "cell_type": "code",
   "execution_count": 48,
   "id": "0800440c",
   "metadata": {},
   "outputs": [],
   "source": [
    "data = pd.read_csv('Insurance_Company_Complaints__Resolutions__Status__and_Recoveries.csv')"
   ]
  },
  {
   "cell_type": "code",
   "execution_count": 49,
   "id": "c783aa2d",
   "metadata": {},
   "outputs": [
    {
     "data": {
      "text/plain": [
       "Company            0\n",
       "File No.           0\n",
       "Opened             0\n",
       "Closed           963\n",
       "Coverage        2440\n",
       "SubCoverage     8960\n",
       "Reason          2617\n",
       "SubReason       2617\n",
       "Disposition    15288\n",
       "Conclusion     17094\n",
       "Recovery           0\n",
       "Status             0\n",
       "dtype: int64"
      ]
     },
     "execution_count": 49,
     "metadata": {},
     "output_type": "execute_result"
    }
   ],
   "source": [
    "data.isnull().sum()"
   ]
  },
  {
   "cell_type": "code",
   "execution_count": 50,
   "id": "95fefe9a",
   "metadata": {},
   "outputs": [
    {
     "data": {
      "text/html": [
       "<div>\n",
       "<style scoped>\n",
       "    .dataframe tbody tr th:only-of-type {\n",
       "        vertical-align: middle;\n",
       "    }\n",
       "\n",
       "    .dataframe tbody tr th {\n",
       "        vertical-align: top;\n",
       "    }\n",
       "\n",
       "    .dataframe thead th {\n",
       "        text-align: right;\n",
       "    }\n",
       "</style>\n",
       "<table border=\"1\" class=\"dataframe\">\n",
       "  <thead>\n",
       "    <tr style=\"text-align: right;\">\n",
       "      <th></th>\n",
       "      <th>Company</th>\n",
       "      <th>File No.</th>\n",
       "      <th>Opened</th>\n",
       "      <th>Closed</th>\n",
       "      <th>Coverage</th>\n",
       "      <th>SubCoverage</th>\n",
       "      <th>Reason</th>\n",
       "      <th>SubReason</th>\n",
       "      <th>Disposition</th>\n",
       "      <th>Conclusion</th>\n",
       "      <th>Recovery</th>\n",
       "      <th>Status</th>\n",
       "    </tr>\n",
       "  </thead>\n",
       "  <tbody>\n",
       "    <tr>\n",
       "      <th>0</th>\n",
       "      <td>Anthem Health Plans, Inc</td>\n",
       "      <td>7045593</td>\n",
       "      <td>05/31/2022</td>\n",
       "      <td>06/02/2022</td>\n",
       "      <td>Group</td>\n",
       "      <td>Health Only</td>\n",
       "      <td>Claim Handling</td>\n",
       "      <td>Medically Necessary</td>\n",
       "      <td>Company Position Substantiated</td>\n",
       "      <td>Company Position Upheld</td>\n",
       "      <td>0.00</td>\n",
       "      <td>Closed</td>\n",
       "    </tr>\n",
       "    <tr>\n",
       "      <th>1</th>\n",
       "      <td>Anthem Health Plans, Inc</td>\n",
       "      <td>7043381</td>\n",
       "      <td>02/28/2022</td>\n",
       "      <td>06/02/2022</td>\n",
       "      <td>Group</td>\n",
       "      <td>Health Only</td>\n",
       "      <td>Claim Handling</td>\n",
       "      <td>Provider Contract Issue</td>\n",
       "      <td>Claim Settled</td>\n",
       "      <td>Satisfied</td>\n",
       "      <td>6467.30</td>\n",
       "      <td>Closed</td>\n",
       "    </tr>\n",
       "    <tr>\n",
       "      <th>2</th>\n",
       "      <td>Anthem Health Plans, Inc</td>\n",
       "      <td>7044860</td>\n",
       "      <td>05/03/2022</td>\n",
       "      <td>06/02/2022</td>\n",
       "      <td>A &amp; H</td>\n",
       "      <td>Health Only</td>\n",
       "      <td>Claim Handling</td>\n",
       "      <td>Denial</td>\n",
       "      <td>Claim Settled</td>\n",
       "      <td>Claim Paid</td>\n",
       "      <td>147.58</td>\n",
       "      <td>Closed</td>\n",
       "    </tr>\n",
       "    <tr>\n",
       "      <th>3</th>\n",
       "      <td>Anthem Health Plans, Inc</td>\n",
       "      <td>7043381</td>\n",
       "      <td>02/28/2022</td>\n",
       "      <td>06/02/2022</td>\n",
       "      <td>Group</td>\n",
       "      <td>A &amp; H</td>\n",
       "      <td>Claim Handling</td>\n",
       "      <td>Provider Contract Issue</td>\n",
       "      <td>Claim Settled</td>\n",
       "      <td>Satisfied</td>\n",
       "      <td>6467.30</td>\n",
       "      <td>Closed</td>\n",
       "    </tr>\n",
       "    <tr>\n",
       "      <th>4</th>\n",
       "      <td>Anthem Health Plans, Inc</td>\n",
       "      <td>7052007</td>\n",
       "      <td>02/23/2023</td>\n",
       "      <td>03/17/2023</td>\n",
       "      <td>A &amp; H</td>\n",
       "      <td>A &amp; H</td>\n",
       "      <td>Marketing &amp; Sales</td>\n",
       "      <td>Duplicate Coverage</td>\n",
       "      <td>Compromised Settlement/Resolution</td>\n",
       "      <td>Premium Refund</td>\n",
       "      <td>2179.32</td>\n",
       "      <td>Closed</td>\n",
       "    </tr>\n",
       "  </tbody>\n",
       "</table>\n",
       "</div>"
      ],
      "text/plain": [
       "                    Company  File No.      Opened      Closed Coverage  \\\n",
       "0  Anthem Health Plans, Inc   7045593  05/31/2022  06/02/2022    Group   \n",
       "1  Anthem Health Plans, Inc   7043381  02/28/2022  06/02/2022    Group   \n",
       "2  Anthem Health Plans, Inc   7044860  05/03/2022  06/02/2022    A & H   \n",
       "3  Anthem Health Plans, Inc   7043381  02/28/2022  06/02/2022    Group   \n",
       "4  Anthem Health Plans, Inc   7052007  02/23/2023  03/17/2023    A & H   \n",
       "\n",
       "   SubCoverage             Reason                SubReason  \\\n",
       "0  Health Only     Claim Handling      Medically Necessary   \n",
       "1  Health Only     Claim Handling  Provider Contract Issue   \n",
       "2  Health Only     Claim Handling                   Denial   \n",
       "3        A & H     Claim Handling  Provider Contract Issue   \n",
       "4        A & H  Marketing & Sales       Duplicate Coverage   \n",
       "\n",
       "                         Disposition               Conclusion  Recovery  \\\n",
       "0     Company Position Substantiated  Company Position Upheld      0.00   \n",
       "1                      Claim Settled                Satisfied   6467.30   \n",
       "2                      Claim Settled               Claim Paid    147.58   \n",
       "3                      Claim Settled                Satisfied   6467.30   \n",
       "4  Compromised Settlement/Resolution           Premium Refund   2179.32   \n",
       "\n",
       "   Status  \n",
       "0  Closed  \n",
       "1  Closed  \n",
       "2  Closed  \n",
       "3  Closed  \n",
       "4  Closed  "
      ]
     },
     "execution_count": 50,
     "metadata": {},
     "output_type": "execute_result"
    }
   ],
   "source": [
    "data.head()"
   ]
  },
  {
   "cell_type": "code",
   "execution_count": 52,
   "id": "4e1f44af",
   "metadata": {},
   "outputs": [
    {
     "data": {
      "text/plain": [
       "<AxesSubplot: >"
      ]
     },
     "execution_count": 52,
     "metadata": {},
     "output_type": "execute_result"
    },
    {
     "data": {
      "image/png": "[encoded data removed]",
      "text/plain": [
       "<Figure size 640x480 with 1 Axes>"
      ]
     },
     "metadata": {},
     "output_type": "display_data"
    }
   ],
   "source": [
    "data['Disposition'].value_counts().sort_values(ascending=False).plot.bar()"
   ]
  },
  {
   "cell_type": "code",
   "execution_count": 51,
   "id": "66907229",
   "metadata": {},
   "outputs": [],
   "source": [
    "from sklearn.impute import SimpleImputer"
   ]
  },
  {
   "cell_type": "code",
   "execution_count": 53,
   "id": "9a2f0c8a",
   "metadata": {},
   "outputs": [],
   "source": [
    "imput = SimpleImputer(strategy='constant',fill_value='Company Position Substantiated')\n",
    "imput2 = SimpleImputer(strategy='constant',fill_value='Claim Paid')"
   ]
  },
  {
   "cell_type": "code",
   "execution_count": 54,
   "id": "7dacfe99",
   "metadata": {},
   "outputs": [],
   "source": [
    "trf = ColumnTransformer(transformers=[\n",
    "    ('n1',imput,['Disposition']),\n",
    "    ('n2',imput2,['Conclusion'])\n",
    "],remainder='passthrough')"
   ]
  },
  {
   "cell_type": "code",
   "execution_count": 55,
   "id": "3d070d1c",
   "metadata": {},
   "outputs": [],
   "source": [
    "trf.set_output(transform='pandas')\n",
    "df = trf.fit_transform(data)"
   ]
  },
  {
   "cell_type": "code",
   "execution_count": 56,
   "id": "f7ac0b97",
   "metadata": {},
   "outputs": [
    {
     "data": {
      "text/html": [
       "<div>\n",
       "<style scoped>\n",
       "    .dataframe tbody tr th:only-of-type {\n",
       "        vertical-align: middle;\n",
       "    }\n",
       "\n",
       "    .dataframe tbody tr th {\n",
       "        vertical-align: top;\n",
       "    }\n",
       "\n",
       "    .dataframe thead th {\n",
       "        text-align: right;\n",
       "    }\n",
       "</style>\n",
       "<table border=\"1\" class=\"dataframe\">\n",
       "  <thead>\n",
       "    <tr style=\"text-align: right;\">\n",
       "      <th></th>\n",
       "      <th>n1__Disposition</th>\n",
       "      <th>n2__Conclusion</th>\n",
       "      <th>remainder__Company</th>\n",
       "      <th>remainder__File No.</th>\n",
       "      <th>remainder__Opened</th>\n",
       "      <th>remainder__Closed</th>\n",
       "      <th>remainder__Coverage</th>\n",
       "      <th>remainder__SubCoverage</th>\n",
       "      <th>remainder__Reason</th>\n",
       "      <th>remainder__SubReason</th>\n",
       "      <th>remainder__Recovery</th>\n",
       "      <th>remainder__Status</th>\n",
       "    </tr>\n",
       "  </thead>\n",
       "  <tbody>\n",
       "    <tr>\n",
       "      <th>0</th>\n",
       "      <td>Company Position Substantiated</td>\n",
       "      <td>Company Position Upheld</td>\n",
       "      <td>Anthem Health Plans, Inc</td>\n",
       "      <td>7045593</td>\n",
       "      <td>05/31/2022</td>\n",
       "      <td>06/02/2022</td>\n",
       "      <td>Group</td>\n",
       "      <td>Health Only</td>\n",
       "      <td>Claim Handling</td>\n",
       "      <td>Medically Necessary</td>\n",
       "      <td>0.00</td>\n",
       "      <td>Closed</td>\n",
       "    </tr>\n",
       "    <tr>\n",
       "      <th>1</th>\n",
       "      <td>Claim Settled</td>\n",
       "      <td>Satisfied</td>\n",
       "      <td>Anthem Health Plans, Inc</td>\n",
       "      <td>7043381</td>\n",
       "      <td>02/28/2022</td>\n",
       "      <td>06/02/2022</td>\n",
       "      <td>Group</td>\n",
       "      <td>Health Only</td>\n",
       "      <td>Claim Handling</td>\n",
       "      <td>Provider Contract Issue</td>\n",
       "      <td>6467.30</td>\n",
       "      <td>Closed</td>\n",
       "    </tr>\n",
       "    <tr>\n",
       "      <th>2</th>\n",
       "      <td>Claim Settled</td>\n",
       "      <td>Claim Paid</td>\n",
       "      <td>Anthem Health Plans, Inc</td>\n",
       "      <td>7044860</td>\n",
       "      <td>05/03/2022</td>\n",
       "      <td>06/02/2022</td>\n",
       "      <td>A &amp; H</td>\n",
       "      <td>Health Only</td>\n",
       "      <td>Claim Handling</td>\n",
       "      <td>Denial</td>\n",
       "      <td>147.58</td>\n",
       "      <td>Closed</td>\n",
       "    </tr>\n",
       "    <tr>\n",
       "      <th>3</th>\n",
       "      <td>Claim Settled</td>\n",
       "      <td>Satisfied</td>\n",
       "      <td>Anthem Health Plans, Inc</td>\n",
       "      <td>7043381</td>\n",
       "      <td>02/28/2022</td>\n",
       "      <td>06/02/2022</td>\n",
       "      <td>Group</td>\n",
       "      <td>A &amp; H</td>\n",
       "      <td>Claim Handling</td>\n",
       "      <td>Provider Contract Issue</td>\n",
       "      <td>6467.30</td>\n",
       "      <td>Closed</td>\n",
       "    </tr>\n",
       "    <tr>\n",
       "      <th>4</th>\n",
       "      <td>Compromised Settlement/Resolution</td>\n",
       "      <td>Premium Refund</td>\n",
       "      <td>Anthem Health Plans, Inc</td>\n",
       "      <td>7052007</td>\n",
       "      <td>02/23/2023</td>\n",
       "      <td>03/17/2023</td>\n",
       "      <td>A &amp; H</td>\n",
       "      <td>A &amp; H</td>\n",
       "      <td>Marketing &amp; Sales</td>\n",
       "      <td>Duplicate Coverage</td>\n",
       "      <td>2179.32</td>\n",
       "      <td>Closed</td>\n",
       "    </tr>\n",
       "    <tr>\n",
       "      <th>...</th>\n",
       "      <td>...</td>\n",
       "      <td>...</td>\n",
       "      <td>...</td>\n",
       "      <td>...</td>\n",
       "      <td>...</td>\n",
       "      <td>...</td>\n",
       "      <td>...</td>\n",
       "      <td>...</td>\n",
       "      <td>...</td>\n",
       "      <td>...</td>\n",
       "      <td>...</td>\n",
       "      <td>...</td>\n",
       "    </tr>\n",
       "    <tr>\n",
       "      <th>38262</th>\n",
       "      <td>Company Position Overturned</td>\n",
       "      <td>Corrective Action</td>\n",
       "      <td>New South Insurance Company</td>\n",
       "      <td>7006954</td>\n",
       "      <td>10/21/2021</td>\n",
       "      <td>12/17/2021</td>\n",
       "      <td>Individual Private Passenger</td>\n",
       "      <td>NaN</td>\n",
       "      <td>Claim Handling</td>\n",
       "      <td>Storage Fees</td>\n",
       "      <td>0.00</td>\n",
       "      <td>Closed</td>\n",
       "    </tr>\n",
       "    <tr>\n",
       "      <th>38263</th>\n",
       "      <td>Company Position Substantiated</td>\n",
       "      <td>Claim Paid</td>\n",
       "      <td>Liberty Insurance Corporation</td>\n",
       "      <td>7010204</td>\n",
       "      <td>02/19/2021</td>\n",
       "      <td>04/22/2021</td>\n",
       "      <td>Homeowners</td>\n",
       "      <td>Homeowners</td>\n",
       "      <td>Claim Handling</td>\n",
       "      <td>Claim Delay</td>\n",
       "      <td>0.00</td>\n",
       "      <td>Closed</td>\n",
       "    </tr>\n",
       "    <tr>\n",
       "      <th>38264</th>\n",
       "      <td>Claim Settled</td>\n",
       "      <td>Claim Paid</td>\n",
       "      <td>Farmers Group Property and Casualty Insurance ...</td>\n",
       "      <td>7015842</td>\n",
       "      <td>04/03/2018</td>\n",
       "      <td>04/25/2018</td>\n",
       "      <td>Individual Private Passenger</td>\n",
       "      <td>Medical Payments</td>\n",
       "      <td>Claim Handling</td>\n",
       "      <td>Claim Denial</td>\n",
       "      <td>191.51</td>\n",
       "      <td>Closed</td>\n",
       "    </tr>\n",
       "    <tr>\n",
       "      <th>38265</th>\n",
       "      <td>Question of Fact/Contract/Provision/Legal Issue</td>\n",
       "      <td>Claim Paid</td>\n",
       "      <td>Casco Indemnity Company</td>\n",
       "      <td>7005412</td>\n",
       "      <td>01/11/2021</td>\n",
       "      <td>01/28/2021</td>\n",
       "      <td>Extended Warranty &amp; Service Contracts</td>\n",
       "      <td>NaN</td>\n",
       "      <td>Claim Handling</td>\n",
       "      <td>Unsatisfactory Settlement/Offer</td>\n",
       "      <td>0.00</td>\n",
       "      <td>Closed</td>\n",
       "    </tr>\n",
       "    <tr>\n",
       "      <th>38266</th>\n",
       "      <td>Company Position Substantiated</td>\n",
       "      <td>Claim Paid</td>\n",
       "      <td>Anthem Health Plans, Inc</td>\n",
       "      <td>7043907</td>\n",
       "      <td>03/22/2022</td>\n",
       "      <td>04/28/2022</td>\n",
       "      <td>Group</td>\n",
       "      <td>Health Only</td>\n",
       "      <td>Claim Handling</td>\n",
       "      <td>Medical Necessity Denial</td>\n",
       "      <td>0.00</td>\n",
       "      <td>Closed</td>\n",
       "    </tr>\n",
       "  </tbody>\n",
       "</table>\n",
       "<p>38267 rows × 12 columns</p>\n",
       "</div>"
      ],
      "text/plain": [
       "                                       n1__Disposition  \\\n",
       "0                       Company Position Substantiated   \n",
       "1                                        Claim Settled   \n",
       "2                                        Claim Settled   \n",
       "3                                        Claim Settled   \n",
       "4                    Compromised Settlement/Resolution   \n",
       "...                                                ...   \n",
       "38262                      Company Position Overturned   \n",
       "38263                   Company Position Substantiated   \n",
       "38264                                    Claim Settled   \n",
       "38265  Question of Fact/Contract/Provision/Legal Issue   \n",
       "38266                   Company Position Substantiated   \n",
       "\n",
       "                n2__Conclusion  \\\n",
       "0      Company Position Upheld   \n",
       "1                    Satisfied   \n",
       "2                   Claim Paid   \n",
       "3                    Satisfied   \n",
       "4               Premium Refund   \n",
       "...                        ...   \n",
       "38262        Corrective Action   \n",
       "38263               Claim Paid   \n",
       "38264               Claim Paid   \n",
       "38265               Claim Paid   \n",
       "38266               Claim Paid   \n",
       "\n",
       "                                      remainder__Company  remainder__File No.  \\\n",
       "0                               Anthem Health Plans, Inc              7045593   \n",
       "1                               Anthem Health Plans, Inc              7043381   \n",
       "2                               Anthem Health Plans, Inc              7044860   \n",
       "3                               Anthem Health Plans, Inc              7043381   \n",
       "4                               Anthem Health Plans, Inc              7052007   \n",
       "...                                                  ...                  ...   \n",
       "38262                        New South Insurance Company              7006954   \n",
       "38263                      Liberty Insurance Corporation              7010204   \n",
       "38264  Farmers Group Property and Casualty Insurance ...              7015842   \n",
       "38265                            Casco Indemnity Company              7005412   \n",
       "38266                           Anthem Health Plans, Inc              7043907   \n",
       "\n",
       "      remainder__Opened remainder__Closed  \\\n",
       "0            05/31/2022        06/02/2022   \n",
       "1            02/28/2022        06/02/2022   \n",
       "2            05/03/2022        06/02/2022   \n",
       "3            02/28/2022        06/02/2022   \n",
       "4            02/23/2023        03/17/2023   \n",
       "...                 ...               ...   \n",
       "38262        10/21/2021        12/17/2021   \n",
       "38263        02/19/2021        04/22/2021   \n",
       "38264        04/03/2018        04/25/2018   \n",
       "38265        01/11/2021        01/28/2021   \n",
       "38266        03/22/2022        04/28/2022   \n",
       "\n",
       "                         remainder__Coverage remainder__SubCoverage  \\\n",
       "0                                      Group            Health Only   \n",
       "1                                      Group            Health Only   \n",
       "2                                      A & H            Health Only   \n",
       "3                                      Group                  A & H   \n",
       "4                                      A & H                  A & H   \n",
       "...                                      ...                    ...   \n",
       "38262           Individual Private Passenger                    NaN   \n",
       "38263                             Homeowners             Homeowners   \n",
       "38264           Individual Private Passenger       Medical Payments   \n",
       "38265  Extended Warranty & Service Contracts                    NaN   \n",
       "38266                                  Group            Health Only   \n",
       "\n",
       "       remainder__Reason             remainder__SubReason  \\\n",
       "0         Claim Handling              Medically Necessary   \n",
       "1         Claim Handling          Provider Contract Issue   \n",
       "2         Claim Handling                           Denial   \n",
       "3         Claim Handling          Provider Contract Issue   \n",
       "4      Marketing & Sales               Duplicate Coverage   \n",
       "...                  ...                              ...   \n",
       "38262     Claim Handling                     Storage Fees   \n",
       "38263     Claim Handling                      Claim Delay   \n",
       "38264     Claim Handling                     Claim Denial   \n",
       "38265     Claim Handling  Unsatisfactory Settlement/Offer   \n",
       "38266     Claim Handling         Medical Necessity Denial   \n",
       "\n",
       "       remainder__Recovery remainder__Status  \n",
       "0                     0.00            Closed  \n",
       "1                  6467.30            Closed  \n",
       "2                   147.58            Closed  \n",
       "3                  6467.30            Closed  \n",
       "4                  2179.32            Closed  \n",
       "...                    ...               ...  \n",
       "38262                 0.00            Closed  \n",
       "38263                 0.00            Closed  \n",
       "38264               191.51            Closed  \n",
       "38265                 0.00            Closed  \n",
       "38266                 0.00            Closed  \n",
       "\n",
       "[38267 rows x 12 columns]"
      ]
     },
     "execution_count": 56,
     "metadata": {},
     "output_type": "execute_result"
    }
   ],
   "source": [
    "df"
   ]
  },
  {
   "cell_type": "code",
   "execution_count": 58,
   "id": "2fe2c07f",
   "metadata": {},
   "outputs": [
    {
     "data": {
      "text/plain": [
       "n1__Disposition              0\n",
       "n2__Conclusion               0\n",
       "remainder__Company           0\n",
       "remainder__File No.          0\n",
       "remainder__Opened            0\n",
       "remainder__Closed          963\n",
       "remainder__Coverage       2440\n",
       "remainder__SubCoverage    8960\n",
       "remainder__Reason         2617\n",
       "remainder__SubReason      2617\n",
       "remainder__Recovery          0\n",
       "remainder__Status            0\n",
       "dtype: int64"
      ]
     },
     "execution_count": 58,
     "metadata": {},
     "output_type": "execute_result"
    }
   ],
   "source": [
    "\n",
    "df.isnull().sum()"
   ]
  },
  {
   "cell_type": "markdown",
   "id": "3d03b31a",
   "metadata": {},
   "source": [
    "# KNN Imputer"
   ]
  },
  {
   "cell_type": "code",
   "execution_count": 59,
   "id": "365749dc",
   "metadata": {},
   "outputs": [],
   "source": [
    "from sklearn.impute import KNNImputer"
   ]
  },
  {
   "cell_type": "code",
   "execution_count": 60,
   "id": "a3cbf4d7",
   "metadata": {},
   "outputs": [],
   "source": [
    "data = pd.read_csv('updated_mobile_info.csv')"
   ]
  },
  {
   "cell_type": "code",
   "execution_count": 128,
   "id": "93a76100",
   "metadata": {},
   "outputs": [],
   "source": [
    "impute = KNNImputer(n_neighbors=200,weights='distance')"
   ]
  },
  {
   "cell_type": "code",
   "execution_count": 129,
   "id": "04249df9",
   "metadata": {},
   "outputs": [],
   "source": [
    "trfdata = impute.fit_transform(data.drop('name',axis=1))"
   ]
  },
  {
   "cell_type": "code",
   "execution_count": 130,
   "id": "86d15368",
   "metadata": {},
   "outputs": [],
   "source": [
    "demo = pd.DataFrame(trfdata)"
   ]
  },
  {
   "cell_type": "code",
   "execution_count": 131,
   "id": "9dfe6a35",
   "metadata": {},
   "outputs": [
    {
     "data": {
      "text/html": [
       "<div>\n",
       "<style scoped>\n",
       "    .dataframe tbody tr th:only-of-type {\n",
       "        vertical-align: middle;\n",
       "    }\n",
       "\n",
       "    .dataframe tbody tr th {\n",
       "        vertical-align: top;\n",
       "    }\n",
       "\n",
       "    .dataframe thead th {\n",
       "        text-align: right;\n",
       "    }\n",
       "</style>\n",
       "<table border=\"1\" class=\"dataframe\">\n",
       "  <thead>\n",
       "    <tr style=\"text-align: right;\">\n",
       "      <th></th>\n",
       "      <th>0</th>\n",
       "      <th>1</th>\n",
       "      <th>2</th>\n",
       "      <th>3</th>\n",
       "      <th>4</th>\n",
       "      <th>5</th>\n",
       "      <th>6</th>\n",
       "      <th>7</th>\n",
       "      <th>8</th>\n",
       "      <th>9</th>\n",
       "      <th>10</th>\n",
       "    </tr>\n",
       "  </thead>\n",
       "  <tbody>\n",
       "    <tr>\n",
       "      <th>0</th>\n",
       "      <td>0.0</td>\n",
       "      <td>3.7</td>\n",
       "      <td>56.0</td>\n",
       "      <td>2.0</td>\n",
       "      <td>32.0</td>\n",
       "      <td>32.0</td>\n",
       "      <td>32.000000</td>\n",
       "      <td>1.80</td>\n",
       "      <td>0.8</td>\n",
       "      <td>1000.0</td>\n",
       "      <td>1061.0</td>\n",
       "    </tr>\n",
       "    <tr>\n",
       "      <th>1</th>\n",
       "      <td>1.0</td>\n",
       "      <td>4.3</td>\n",
       "      <td>222897.0</td>\n",
       "      <td>13810.0</td>\n",
       "      <td>4.0</td>\n",
       "      <td>64.0</td>\n",
       "      <td>1.000000</td>\n",
       "      <td>6.70</td>\n",
       "      <td>50.0</td>\n",
       "      <td>6000.0</td>\n",
       "      <td>9499.0</td>\n",
       "    </tr>\n",
       "    <tr>\n",
       "      <th>2</th>\n",
       "      <td>2.0</td>\n",
       "      <td>4.3</td>\n",
       "      <td>222897.0</td>\n",
       "      <td>13810.0</td>\n",
       "      <td>4.0</td>\n",
       "      <td>64.0</td>\n",
       "      <td>1.000000</td>\n",
       "      <td>6.70</td>\n",
       "      <td>50.0</td>\n",
       "      <td>6000.0</td>\n",
       "      <td>9499.0</td>\n",
       "    </tr>\n",
       "    <tr>\n",
       "      <th>3</th>\n",
       "      <td>3.0</td>\n",
       "      <td>4.1</td>\n",
       "      <td>9683.0</td>\n",
       "      <td>799.0</td>\n",
       "      <td>8.0</td>\n",
       "      <td>128.0</td>\n",
       "      <td>131.275821</td>\n",
       "      <td>6.55</td>\n",
       "      <td>50.0</td>\n",
       "      <td>5000.0</td>\n",
       "      <td>11999.0</td>\n",
       "    </tr>\n",
       "    <tr>\n",
       "      <th>4</th>\n",
       "      <td>4.0</td>\n",
       "      <td>4.5</td>\n",
       "      <td>6542.0</td>\n",
       "      <td>184.0</td>\n",
       "      <td>4.0</td>\n",
       "      <td>64.0</td>\n",
       "      <td>1.000000</td>\n",
       "      <td>6.50</td>\n",
       "      <td>50.0</td>\n",
       "      <td>5000.0</td>\n",
       "      <td>9999.0</td>\n",
       "    </tr>\n",
       "  </tbody>\n",
       "</table>\n",
       "</div>"
      ],
      "text/plain": [
       "    0    1         2        3     4      5           6     7     8       9   \\\n",
       "0  0.0  3.7      56.0      2.0  32.0   32.0   32.000000  1.80   0.8  1000.0   \n",
       "1  1.0  4.3  222897.0  13810.0   4.0   64.0    1.000000  6.70  50.0  6000.0   \n",
       "2  2.0  4.3  222897.0  13810.0   4.0   64.0    1.000000  6.70  50.0  6000.0   \n",
       "3  3.0  4.1    9683.0    799.0   8.0  128.0  131.275821  6.55  50.0  5000.0   \n",
       "4  4.0  4.5    6542.0    184.0   4.0   64.0    1.000000  6.50  50.0  5000.0   \n",
       "\n",
       "        10  \n",
       "0   1061.0  \n",
       "1   9499.0  \n",
       "2   9499.0  \n",
       "3  11999.0  \n",
       "4   9999.0  "
      ]
     },
     "execution_count": 131,
     "metadata": {},
     "output_type": "execute_result"
    }
   ],
   "source": [
    "demo.head()"
   ]
  },
  {
   "cell_type": "code",
   "execution_count": 132,
   "id": "1d367aa8",
   "metadata": {},
   "outputs": [
    {
     "data": {
      "text/html": [
       "<div>\n",
       "<style scoped>\n",
       "    .dataframe tbody tr th:only-of-type {\n",
       "        vertical-align: middle;\n",
       "    }\n",
       "\n",
       "    .dataframe tbody tr th {\n",
       "        vertical-align: top;\n",
       "    }\n",
       "\n",
       "    .dataframe thead th {\n",
       "        text-align: right;\n",
       "    }\n",
       "</style>\n",
       "<table border=\"1\" class=\"dataframe\">\n",
       "  <thead>\n",
       "    <tr style=\"text-align: right;\">\n",
       "      <th></th>\n",
       "      <th>Unnamed: 0</th>\n",
       "      <th>name</th>\n",
       "      <th>ratings</th>\n",
       "      <th>number of rating</th>\n",
       "      <th>number of reviews</th>\n",
       "      <th>ram</th>\n",
       "      <th>rom</th>\n",
       "      <th>expandable</th>\n",
       "      <th>display</th>\n",
       "      <th>camera</th>\n",
       "      <th>battery</th>\n",
       "      <th>price</th>\n",
       "    </tr>\n",
       "  </thead>\n",
       "  <tbody>\n",
       "    <tr>\n",
       "      <th>0</th>\n",
       "      <td>0</td>\n",
       "      <td>Cellecor E3</td>\n",
       "      <td>3.7</td>\n",
       "      <td>56.0</td>\n",
       "      <td>2.0</td>\n",
       "      <td>32.0</td>\n",
       "      <td>32.0</td>\n",
       "      <td>32.0</td>\n",
       "      <td>1.80</td>\n",
       "      <td>0.8</td>\n",
       "      <td>1000.0</td>\n",
       "      <td>1061.0</td>\n",
       "    </tr>\n",
       "    <tr>\n",
       "      <th>1</th>\n",
       "      <td>1</td>\n",
       "      <td>REDMI 10 (Caribbean Green, 64 GB)</td>\n",
       "      <td>4.3</td>\n",
       "      <td>222897.0</td>\n",
       "      <td>13810.0</td>\n",
       "      <td>4.0</td>\n",
       "      <td>64.0</td>\n",
       "      <td>1.0</td>\n",
       "      <td>6.70</td>\n",
       "      <td>50.0</td>\n",
       "      <td>6000.0</td>\n",
       "      <td>9499.0</td>\n",
       "    </tr>\n",
       "    <tr>\n",
       "      <th>2</th>\n",
       "      <td>2</td>\n",
       "      <td>REDMI 10 (Midnight Black, 64 GB)</td>\n",
       "      <td>4.3</td>\n",
       "      <td>222897.0</td>\n",
       "      <td>13810.0</td>\n",
       "      <td>4.0</td>\n",
       "      <td>64.0</td>\n",
       "      <td>1.0</td>\n",
       "      <td>6.70</td>\n",
       "      <td>50.0</td>\n",
       "      <td>6000.0</td>\n",
       "      <td>9499.0</td>\n",
       "    </tr>\n",
       "    <tr>\n",
       "      <th>3</th>\n",
       "      <td>3</td>\n",
       "      <td>MOTOROLA G32 (Satin Silver, 128 GB)</td>\n",
       "      <td>4.1</td>\n",
       "      <td>9683.0</td>\n",
       "      <td>799.0</td>\n",
       "      <td>8.0</td>\n",
       "      <td>128.0</td>\n",
       "      <td>NaN</td>\n",
       "      <td>6.55</td>\n",
       "      <td>50.0</td>\n",
       "      <td>5000.0</td>\n",
       "      <td>11999.0</td>\n",
       "    </tr>\n",
       "    <tr>\n",
       "      <th>4</th>\n",
       "      <td>4</td>\n",
       "      <td>realme C33 2023 (Night Sea, 64 GB)</td>\n",
       "      <td>4.5</td>\n",
       "      <td>6542.0</td>\n",
       "      <td>184.0</td>\n",
       "      <td>4.0</td>\n",
       "      <td>64.0</td>\n",
       "      <td>1.0</td>\n",
       "      <td>6.50</td>\n",
       "      <td>50.0</td>\n",
       "      <td>5000.0</td>\n",
       "      <td>9999.0</td>\n",
       "    </tr>\n",
       "  </tbody>\n",
       "</table>\n",
       "</div>"
      ],
      "text/plain": [
       "   Unnamed: 0                                 name  ratings  number of rating  \\\n",
       "0           0                          Cellecor E3      3.7              56.0   \n",
       "1           1    REDMI 10 (Caribbean Green, 64 GB)      4.3          222897.0   \n",
       "2           2     REDMI 10 (Midnight Black, 64 GB)      4.3          222897.0   \n",
       "3           3  MOTOROLA G32 (Satin Silver, 128 GB)      4.1            9683.0   \n",
       "4           4   realme C33 2023 (Night Sea, 64 GB)      4.5            6542.0   \n",
       "\n",
       "   number of reviews   ram    rom  expandable  display  camera  battery  \\\n",
       "0                2.0  32.0   32.0        32.0     1.80     0.8   1000.0   \n",
       "1            13810.0   4.0   64.0         1.0     6.70    50.0   6000.0   \n",
       "2            13810.0   4.0   64.0         1.0     6.70    50.0   6000.0   \n",
       "3              799.0   8.0  128.0         NaN     6.55    50.0   5000.0   \n",
       "4              184.0   4.0   64.0         1.0     6.50    50.0   5000.0   \n",
       "\n",
       "     price  \n",
       "0   1061.0  \n",
       "1   9499.0  \n",
       "2   9499.0  \n",
       "3  11999.0  \n",
       "4   9999.0  "
      ]
     },
     "execution_count": 132,
     "metadata": {},
     "output_type": "execute_result"
    }
   ],
   "source": [
    "data.head()"
   ]
  },
  {
   "cell_type": "code",
   "execution_count": 133,
   "id": "c2c42077",
   "metadata": {},
   "outputs": [
    {
     "data": {
      "text/plain": [
       "0     0\n",
       "1     0\n",
       "2     0\n",
       "3     0\n",
       "4     0\n",
       "5     0\n",
       "6     0\n",
       "7     0\n",
       "8     0\n",
       "9     0\n",
       "10    0\n",
       "dtype: int64"
      ]
     },
     "execution_count": 133,
     "metadata": {},
     "output_type": "execute_result"
    }
   ],
   "source": [
    "demo.isnull().sum()"
   ]
  },
  {
   "cell_type": "code",
   "execution_count": 134,
   "id": "5a6a20d8",
   "metadata": {},
   "outputs": [
    {
     "data": {
      "text/plain": [
       "Unnamed: 0             0\n",
       "name                   0\n",
       "ratings                6\n",
       "number of rating       0\n",
       "number of reviews      0\n",
       "ram                    4\n",
       "rom                   27\n",
       "expandable           255\n",
       "display                1\n",
       "camera                 0\n",
       "battery               21\n",
       "price                  0\n",
       "dtype: int64"
      ]
     },
     "execution_count": 134,
     "metadata": {},
     "output_type": "execute_result"
    }
   ],
   "source": [
    "data.isnull().sum()"
   ]
  },
  {
   "cell_type": "code",
   "execution_count": 135,
   "id": "48f9aac9",
   "metadata": {},
   "outputs": [
    {
     "data": {
      "text/plain": [
       "(117.190332326284, 109.42625698671628)"
      ]
     },
     "execution_count": 135,
     "metadata": {},
     "output_type": "execute_result"
    }
   ],
   "source": [
    "data['expandable'].mean() , demo[6].mean()"
   ]
  },
  {
   "cell_type": "code",
   "execution_count": 136,
   "id": "6c10f4eb",
   "metadata": {},
   "outputs": [
    {
     "data": {
      "text/plain": [
       "0       32.000000\n",
       "1        1.000000\n",
       "2        1.000000\n",
       "3      131.275821\n",
       "4        1.000000\n",
       "          ...    \n",
       "581     53.521318\n",
       "582    128.247816\n",
       "583    256.000000\n",
       "584     16.000000\n",
       "585     32.000000\n",
       "Name: 6, Length: 586, dtype: float64"
      ]
     },
     "execution_count": 136,
     "metadata": {},
     "output_type": "execute_result"
    }
   ],
   "source": [
    "demo[6]"
   ]
  },
  {
   "cell_type": "code",
   "execution_count": 137,
   "id": "178c4c92",
   "metadata": {},
   "outputs": [
    {
     "data": {
      "text/plain": [
       "0       32.0\n",
       "1        1.0\n",
       "2        1.0\n",
       "3        NaN\n",
       "4        1.0\n",
       "       ...  \n",
       "581      NaN\n",
       "582      NaN\n",
       "583    256.0\n",
       "584     16.0\n",
       "585     32.0\n",
       "Name: expandable, Length: 586, dtype: float64"
      ]
     },
     "execution_count": 137,
     "metadata": {},
     "output_type": "execute_result"
    }
   ],
   "source": [
    "data['expandable']"
   ]
  },
  {
   "cell_type": "code",
   "execution_count": 138,
   "id": "527c2448",
   "metadata": {},
   "outputs": [
    {
     "ename": "SyntaxError",
     "evalue": "invalid syntax (552736407.py, line 1)",
     "output_type": "error",
     "traceback": [
      "\u001b[1;36m  Cell \u001b[1;32mIn[138], line 1\u001b[1;36m\u001b[0m\n\u001b[1;33m    impute.\u001b[0m\n\u001b[1;37m           ^\u001b[0m\n\u001b[1;31mSyntaxError\u001b[0m\u001b[1;31m:\u001b[0m invalid syntax\n"
     ]
    }
   ],
   "source": []
  },
  {
   "cell_type": "code",
   "execution_count": null,
   "id": "3b38a83e",
   "metadata": {},
   "outputs": [],
   "source": []
  },
  {
   "cell_type": "code",
   "execution_count": null,
   "id": "0c6f69d3",
   "metadata": {},
   "outputs": [],
   "source": []
  }
 ],
 "metadata": {
  "kernelspec": {
   "display_name": "Python 3 (ipykernel)",
   "language": "python",
   "name": "python3"
  },
  "language_info": {
   "codemirror_mode": {
    "name": "ipython",
    "version": 3
   },
   "file_extension": ".py",
   "mimetype": "text/x-python",
   "name": "python",
   "nbconvert_exporter": "python",
   "pygments_lexer": "ipython3",
   "version": "3.10.9"
  }
 },
 "nbformat": 4,
 "nbformat_minor": 5
}
