{
 "cells": [
  {
   "cell_type": "code",
   "execution_count": 1,
   "id": "17fcc146",
   "metadata": {},
   "outputs": [],
   "source": [
    "import pandas as pd"
   ]
  },
  {
   "cell_type": "code",
   "execution_count": 2,
   "id": "e5fcc190",
   "metadata": {},
   "outputs": [],
   "source": [
    "df = pd.read_csv('Mobiles_info.csv')"
   ]
  },
  {
   "cell_type": "code",
   "execution_count": 3,
   "id": "fde217fe",
   "metadata": {},
   "outputs": [
    {
     "data": {
      "text/plain": [
       "(586, 11)"
      ]
     },
     "execution_count": 3,
     "metadata": {},
     "output_type": "execute_result"
    }
   ],
   "source": [
    "#Q1 how the big is data\n",
    "df.shape"
   ]
  },
  {
   "cell_type": "code",
   "execution_count": 4,
   "id": "fb7a26e3",
   "metadata": {},
   "outputs": [
    {
     "data": {
      "text/html": [
       "<div>\n",
       "<style scoped>\n",
       "    .dataframe tbody tr th:only-of-type {\n",
       "        vertical-align: middle;\n",
       "    }\n",
       "\n",
       "    .dataframe tbody tr th {\n",
       "        vertical-align: top;\n",
       "    }\n",
       "\n",
       "    .dataframe thead th {\n",
       "        text-align: right;\n",
       "    }\n",
       "</style>\n",
       "<table border=\"1\" class=\"dataframe\">\n",
       "  <thead>\n",
       "    <tr style=\"text-align: right;\">\n",
       "      <th></th>\n",
       "      <th>name</th>\n",
       "      <th>ratings</th>\n",
       "      <th>number of rating</th>\n",
       "      <th>number of reviews</th>\n",
       "      <th>ram</th>\n",
       "      <th>rom</th>\n",
       "      <th>expandable</th>\n",
       "      <th>display</th>\n",
       "      <th>camera</th>\n",
       "      <th>battery</th>\n",
       "      <th>price</th>\n",
       "    </tr>\n",
       "  </thead>\n",
       "  <tbody>\n",
       "    <tr>\n",
       "      <th>0</th>\n",
       "      <td>Cellecor E3</td>\n",
       "      <td>3.7</td>\n",
       "      <td>56</td>\n",
       "      <td>2</td>\n",
       "      <td>32.0</td>\n",
       "      <td>32.0</td>\n",
       "      <td>32.0</td>\n",
       "      <td>1.80</td>\n",
       "      <td>0.8</td>\n",
       "      <td>1000.0</td>\n",
       "      <td>1,061</td>\n",
       "    </tr>\n",
       "    <tr>\n",
       "      <th>1</th>\n",
       "      <td>REDMI 10 (Caribbean Green, 64 GB)</td>\n",
       "      <td>4.3</td>\n",
       "      <td>2,22,897</td>\n",
       "      <td>13,810</td>\n",
       "      <td>4.0</td>\n",
       "      <td>64.0</td>\n",
       "      <td>1.0</td>\n",
       "      <td>6.70</td>\n",
       "      <td>50.0</td>\n",
       "      <td>6000.0</td>\n",
       "      <td>9,499</td>\n",
       "    </tr>\n",
       "    <tr>\n",
       "      <th>2</th>\n",
       "      <td>REDMI 10 (Midnight Black, 64 GB)</td>\n",
       "      <td>4.3</td>\n",
       "      <td>2,22,897</td>\n",
       "      <td>13,810</td>\n",
       "      <td>4.0</td>\n",
       "      <td>64.0</td>\n",
       "      <td>1.0</td>\n",
       "      <td>6.70</td>\n",
       "      <td>50.0</td>\n",
       "      <td>6000.0</td>\n",
       "      <td>9,499</td>\n",
       "    </tr>\n",
       "    <tr>\n",
       "      <th>3</th>\n",
       "      <td>MOTOROLA G32 (Satin Silver, 128 GB)</td>\n",
       "      <td>4.1</td>\n",
       "      <td>9,683</td>\n",
       "      <td>799</td>\n",
       "      <td>8.0</td>\n",
       "      <td>128.0</td>\n",
       "      <td>NaN</td>\n",
       "      <td>6.55</td>\n",
       "      <td>50.0</td>\n",
       "      <td>5000.0</td>\n",
       "      <td>11,999</td>\n",
       "    </tr>\n",
       "    <tr>\n",
       "      <th>4</th>\n",
       "      <td>realme C33 2023 (Night Sea, 64 GB)</td>\n",
       "      <td>4.5</td>\n",
       "      <td>6,542</td>\n",
       "      <td>184</td>\n",
       "      <td>4.0</td>\n",
       "      <td>64.0</td>\n",
       "      <td>1.0</td>\n",
       "      <td>6.50</td>\n",
       "      <td>50.0</td>\n",
       "      <td>5000.0</td>\n",
       "      <td>9,999</td>\n",
       "    </tr>\n",
       "  </tbody>\n",
       "</table>\n",
       "</div>"
      ],
      "text/plain": [
       "                                  name  ratings number of rating  \\\n",
       "0                          Cellecor E3      3.7               56   \n",
       "1    REDMI 10 (Caribbean Green, 64 GB)      4.3         2,22,897   \n",
       "2     REDMI 10 (Midnight Black, 64 GB)      4.3         2,22,897   \n",
       "3  MOTOROLA G32 (Satin Silver, 128 GB)      4.1            9,683   \n",
       "4   realme C33 2023 (Night Sea, 64 GB)      4.5            6,542   \n",
       "\n",
       "  number of reviews   ram    rom  expandable  display  camera  battery   price  \n",
       "0                 2  32.0   32.0        32.0     1.80     0.8   1000.0   1,061  \n",
       "1            13,810   4.0   64.0         1.0     6.70    50.0   6000.0   9,499  \n",
       "2            13,810   4.0   64.0         1.0     6.70    50.0   6000.0   9,499  \n",
       "3               799   8.0  128.0         NaN     6.55    50.0   5000.0  11,999  \n",
       "4               184   4.0   64.0         1.0     6.50    50.0   5000.0   9,999  "
      ]
     },
     "execution_count": 4,
     "metadata": {},
     "output_type": "execute_result"
    }
   ],
   "source": [
    "#Q2 How does data look like\n",
    "df.head()"
   ]
  },
  {
   "cell_type": "code",
   "execution_count": 5,
   "id": "b2e1180a",
   "metadata": {},
   "outputs": [
    {
     "name": "stdout",
     "output_type": "stream",
     "text": [
      "<class 'pandas.core.frame.DataFrame'>\n",
      "RangeIndex: 586 entries, 0 to 585\n",
      "Data columns (total 11 columns):\n",
      " #   Column             Non-Null Count  Dtype  \n",
      "---  ------             --------------  -----  \n",
      " 0   name               586 non-null    object \n",
      " 1   ratings            580 non-null    float64\n",
      " 2   number of rating   580 non-null    object \n",
      " 3   number of reviews  580 non-null    object \n",
      " 4   ram                582 non-null    float64\n",
      " 5   rom                559 non-null    float64\n",
      " 6   expandable         331 non-null    float64\n",
      " 7   display            585 non-null    float64\n",
      " 8   camera             586 non-null    float64\n",
      " 9   battery            565 non-null    float64\n",
      " 10  price              583 non-null    object \n",
      "dtypes: float64(7), object(4)\n",
      "memory usage: 50.5+ KB\n"
     ]
    }
   ],
   "source": [
    "#Q3 datatype of columns\n",
    "df.info()"
   ]
  },
  {
   "cell_type": "code",
   "execution_count": 6,
   "id": "e3631f09",
   "metadata": {},
   "outputs": [
    {
     "data": {
      "text/plain": [
       "name                   0\n",
       "ratings                6\n",
       "number of rating       6\n",
       "number of reviews      6\n",
       "ram                    4\n",
       "rom                   27\n",
       "expandable           255\n",
       "display                1\n",
       "camera                 0\n",
       "battery               21\n",
       "price                  3\n",
       "dtype: int64"
      ]
     },
     "execution_count": 6,
     "metadata": {},
     "output_type": "execute_result"
    }
   ],
   "source": [
    "#Q4 Are there any missing values\n",
    "df.isnull().sum()"
   ]
  },
  {
   "cell_type": "code",
   "execution_count": 7,
   "id": "fd56d0fe",
   "metadata": {},
   "outputs": [
    {
     "data": {
      "text/html": [
       "<div>\n",
       "<style scoped>\n",
       "    .dataframe tbody tr th:only-of-type {\n",
       "        vertical-align: middle;\n",
       "    }\n",
       "\n",
       "    .dataframe tbody tr th {\n",
       "        vertical-align: top;\n",
       "    }\n",
       "\n",
       "    .dataframe thead th {\n",
       "        text-align: right;\n",
       "    }\n",
       "</style>\n",
       "<table border=\"1\" class=\"dataframe\">\n",
       "  <thead>\n",
       "    <tr style=\"text-align: right;\">\n",
       "      <th></th>\n",
       "      <th>ratings</th>\n",
       "      <th>ram</th>\n",
       "      <th>rom</th>\n",
       "      <th>expandable</th>\n",
       "      <th>display</th>\n",
       "      <th>camera</th>\n",
       "      <th>battery</th>\n",
       "    </tr>\n",
       "  </thead>\n",
       "  <tbody>\n",
       "    <tr>\n",
       "      <th>count</th>\n",
       "      <td>580.000000</td>\n",
       "      <td>582.000000</td>\n",
       "      <td>559.000000</td>\n",
       "      <td>331.000000</td>\n",
       "      <td>585.000000</td>\n",
       "      <td>586.000000</td>\n",
       "      <td>565.000000</td>\n",
       "    </tr>\n",
       "    <tr>\n",
       "      <th>mean</th>\n",
       "      <td>4.172931</td>\n",
       "      <td>16.772509</td>\n",
       "      <td>82.889088</td>\n",
       "      <td>117.190332</td>\n",
       "      <td>5.677402</td>\n",
       "      <td>87.959471</td>\n",
       "      <td>4041.674336</td>\n",
       "    </tr>\n",
       "    <tr>\n",
       "      <th>std</th>\n",
       "      <td>0.266381</td>\n",
       "      <td>39.269317</td>\n",
       "      <td>56.693117</td>\n",
       "      <td>183.741032</td>\n",
       "      <td>7.369580</td>\n",
       "      <td>274.369302</td>\n",
       "      <td>1750.048739</td>\n",
       "    </tr>\n",
       "    <tr>\n",
       "      <th>min</th>\n",
       "      <td>2.800000</td>\n",
       "      <td>0.000000</td>\n",
       "      <td>0.000000</td>\n",
       "      <td>1.000000</td>\n",
       "      <td>0.660000</td>\n",
       "      <td>0.000000</td>\n",
       "      <td>0.000000</td>\n",
       "    </tr>\n",
       "    <tr>\n",
       "      <th>25%</th>\n",
       "      <td>4.100000</td>\n",
       "      <td>4.000000</td>\n",
       "      <td>32.000000</td>\n",
       "      <td>1.000000</td>\n",
       "      <td>2.800000</td>\n",
       "      <td>8.000000</td>\n",
       "      <td>3000.000000</td>\n",
       "    </tr>\n",
       "    <tr>\n",
       "      <th>50%</th>\n",
       "      <td>4.200000</td>\n",
       "      <td>6.000000</td>\n",
       "      <td>64.000000</td>\n",
       "      <td>2.000000</td>\n",
       "      <td>6.520000</td>\n",
       "      <td>48.000000</td>\n",
       "      <td>5000.000000</td>\n",
       "    </tr>\n",
       "    <tr>\n",
       "      <th>75%</th>\n",
       "      <td>4.300000</td>\n",
       "      <td>9.500000</td>\n",
       "      <td>128.000000</td>\n",
       "      <td>256.000000</td>\n",
       "      <td>6.600000</td>\n",
       "      <td>50.000000</td>\n",
       "      <td>5000.000000</td>\n",
       "    </tr>\n",
       "    <tr>\n",
       "      <th>max</th>\n",
       "      <td>4.700000</td>\n",
       "      <td>512.000000</td>\n",
       "      <td>256.000000</td>\n",
       "      <td>512.000000</td>\n",
       "      <td>177.000000</td>\n",
       "      <td>3000.000000</td>\n",
       "      <td>7000.000000</td>\n",
       "    </tr>\n",
       "  </tbody>\n",
       "</table>\n",
       "</div>"
      ],
      "text/plain": [
       "          ratings         ram         rom  expandable     display  \\\n",
       "count  580.000000  582.000000  559.000000  331.000000  585.000000   \n",
       "mean     4.172931   16.772509   82.889088  117.190332    5.677402   \n",
       "std      0.266381   39.269317   56.693117  183.741032    7.369580   \n",
       "min      2.800000    0.000000    0.000000    1.000000    0.660000   \n",
       "25%      4.100000    4.000000   32.000000    1.000000    2.800000   \n",
       "50%      4.200000    6.000000   64.000000    2.000000    6.520000   \n",
       "75%      4.300000    9.500000  128.000000  256.000000    6.600000   \n",
       "max      4.700000  512.000000  256.000000  512.000000  177.000000   \n",
       "\n",
       "            camera      battery  \n",
       "count   586.000000   565.000000  \n",
       "mean     87.959471  4041.674336  \n",
       "std     274.369302  1750.048739  \n",
       "min       0.000000     0.000000  \n",
       "25%       8.000000  3000.000000  \n",
       "50%      48.000000  5000.000000  \n",
       "75%      50.000000  5000.000000  \n",
       "max    3000.000000  7000.000000  "
      ]
     },
     "execution_count": 7,
     "metadata": {},
     "output_type": "execute_result"
    }
   ],
   "source": [
    "#Q5 How does data look like mathematically\n",
    "df.describe()"
   ]
  },
  {
   "cell_type": "code",
   "execution_count": 8,
   "id": "0a80a984",
   "metadata": {},
   "outputs": [
    {
     "data": {
      "text/plain": [
       "0"
      ]
     },
     "execution_count": 8,
     "metadata": {},
     "output_type": "execute_result"
    }
   ],
   "source": [
    "#Q6 Are there any duplicate values\n",
    "df.duplicated().sum()"
   ]
  },
  {
   "cell_type": "code",
   "execution_count": 9,
   "id": "4c6adfef",
   "metadata": {},
   "outputs": [],
   "source": [
    "#Q7 How is the co releation between the columns"
   ]
  },
  {
   "cell_type": "code",
   "execution_count": 12,
   "id": "a23ddd77",
   "metadata": {},
   "outputs": [
    {
     "name": "stderr",
     "output_type": "stream",
     "text": [
      "C:\\Users\\Mrunmay\\AppData\\Local\\Temp\\ipykernel_18116\\285839457.py:1: FutureWarning: The default value of numeric_only in DataFrame.corr is deprecated. In a future version, it will default to False. Select only valid columns or specify the value of numeric_only to silence this warning.\n",
      "  df.corr()['battery']\n"
     ]
    },
    {
     "data": {
      "text/plain": [
       "ratings       0.592525\n",
       "ram          -0.385563\n",
       "rom           0.432192\n",
       "expandable    0.222843\n",
       "display       0.176874\n",
       "camera       -0.379477\n",
       "battery       1.000000\n",
       "Name: battery, dtype: float64"
      ]
     },
     "execution_count": 12,
     "metadata": {},
     "output_type": "execute_result"
    }
   ],
   "source": [
    "df.corr()['battery']"
   ]
  },
  {
   "cell_type": "code",
   "execution_count": null,
   "id": "950ee803",
   "metadata": {},
   "outputs": [],
   "source": []
  }
 ],
 "metadata": {
  "kernelspec": {
   "display_name": "Python 3 (ipykernel)",
   "language": "python",
   "name": "python3"
  },
  "language_info": {
   "codemirror_mode": {
    "name": "ipython",
    "version": 3
   },
   "file_extension": ".py",
   "mimetype": "text/x-python",
   "name": "python",
   "nbconvert_exporter": "python",
   "pygments_lexer": "ipython3",
   "version": "3.10.9"
  }
 },
 "nbformat": 4,
 "nbformat_minor": 5
}
