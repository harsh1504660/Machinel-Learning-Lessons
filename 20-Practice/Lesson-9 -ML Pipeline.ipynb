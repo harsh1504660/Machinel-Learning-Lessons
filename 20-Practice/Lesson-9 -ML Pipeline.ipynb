{
 "cells": [
  {
   "cell_type": "code",
   "execution_count": 158,
   "id": "8adb44d6",
   "metadata": {},
   "outputs": [],
   "source": [
    "import pandas as pd\n",
    "import numpy as np\n",
    "from sklearn.model_selection import train_test_split\n",
    "from sklearn.preprocessing import OneHotEncoder\n",
    "from sklearn.preprocessing import FunctionTransformer\n",
    "from sklearn.compose import ColumnTransformer\n",
    "from sklearn.pipeline import Pipeline\n",
    "from sklearn.feature_selection import SelectKBest ,chi2\n",
    "from sklearn.linear_model import LinearRegression\n",
    "from sklearn.metrics import r2_score\n",
    "from sklearn.impute import SimpleImputer"
   ]
  },
  {
   "cell_type": "code",
   "execution_count": 159,
   "id": "8b5a6f40",
   "metadata": {},
   "outputs": [],
   "source": [
    "df = pd.read_csv('updated_mobile_info.csv')"
   ]
  },
  {
   "cell_type": "code",
   "execution_count": 160,
   "id": "59f456db",
   "metadata": {},
   "outputs": [
    {
     "data": {
      "text/html": [
       "<div>\n",
       "<style scoped>\n",
       "    .dataframe tbody tr th:only-of-type {\n",
       "        vertical-align: middle;\n",
       "    }\n",
       "\n",
       "    .dataframe tbody tr th {\n",
       "        vertical-align: top;\n",
       "    }\n",
       "\n",
       "    .dataframe thead th {\n",
       "        text-align: right;\n",
       "    }\n",
       "</style>\n",
       "<table border=\"1\" class=\"dataframe\">\n",
       "  <thead>\n",
       "    <tr style=\"text-align: right;\">\n",
       "      <th></th>\n",
       "      <th>Unnamed: 0</th>\n",
       "      <th>name</th>\n",
       "      <th>ratings</th>\n",
       "      <th>number of rating</th>\n",
       "      <th>number of reviews</th>\n",
       "      <th>ram</th>\n",
       "      <th>rom</th>\n",
       "      <th>expandable</th>\n",
       "      <th>display</th>\n",
       "      <th>camera</th>\n",
       "      <th>battery</th>\n",
       "      <th>price</th>\n",
       "    </tr>\n",
       "  </thead>\n",
       "  <tbody>\n",
       "    <tr>\n",
       "      <th>0</th>\n",
       "      <td>0</td>\n",
       "      <td>Cellecor E3</td>\n",
       "      <td>3.7</td>\n",
       "      <td>56.0</td>\n",
       "      <td>2.0</td>\n",
       "      <td>32.0</td>\n",
       "      <td>32.0</td>\n",
       "      <td>32.0</td>\n",
       "      <td>1.80</td>\n",
       "      <td>0.8</td>\n",
       "      <td>1000.0</td>\n",
       "      <td>1061.0</td>\n",
       "    </tr>\n",
       "    <tr>\n",
       "      <th>1</th>\n",
       "      <td>1</td>\n",
       "      <td>REDMI 10 (Caribbean Green, 64 GB)</td>\n",
       "      <td>4.3</td>\n",
       "      <td>222897.0</td>\n",
       "      <td>13810.0</td>\n",
       "      <td>4.0</td>\n",
       "      <td>64.0</td>\n",
       "      <td>1.0</td>\n",
       "      <td>6.70</td>\n",
       "      <td>50.0</td>\n",
       "      <td>6000.0</td>\n",
       "      <td>9499.0</td>\n",
       "    </tr>\n",
       "    <tr>\n",
       "      <th>2</th>\n",
       "      <td>2</td>\n",
       "      <td>REDMI 10 (Midnight Black, 64 GB)</td>\n",
       "      <td>4.3</td>\n",
       "      <td>222897.0</td>\n",
       "      <td>13810.0</td>\n",
       "      <td>4.0</td>\n",
       "      <td>64.0</td>\n",
       "      <td>1.0</td>\n",
       "      <td>6.70</td>\n",
       "      <td>50.0</td>\n",
       "      <td>6000.0</td>\n",
       "      <td>9499.0</td>\n",
       "    </tr>\n",
       "    <tr>\n",
       "      <th>3</th>\n",
       "      <td>3</td>\n",
       "      <td>MOTOROLA G32 (Satin Silver, 128 GB)</td>\n",
       "      <td>4.1</td>\n",
       "      <td>9683.0</td>\n",
       "      <td>799.0</td>\n",
       "      <td>8.0</td>\n",
       "      <td>128.0</td>\n",
       "      <td>NaN</td>\n",
       "      <td>6.55</td>\n",
       "      <td>50.0</td>\n",
       "      <td>5000.0</td>\n",
       "      <td>11999.0</td>\n",
       "    </tr>\n",
       "    <tr>\n",
       "      <th>4</th>\n",
       "      <td>4</td>\n",
       "      <td>realme C33 2023 (Night Sea, 64 GB)</td>\n",
       "      <td>4.5</td>\n",
       "      <td>6542.0</td>\n",
       "      <td>184.0</td>\n",
       "      <td>4.0</td>\n",
       "      <td>64.0</td>\n",
       "      <td>1.0</td>\n",
       "      <td>6.50</td>\n",
       "      <td>50.0</td>\n",
       "      <td>5000.0</td>\n",
       "      <td>9999.0</td>\n",
       "    </tr>\n",
       "  </tbody>\n",
       "</table>\n",
       "</div>"
      ],
      "text/plain": [
       "   Unnamed: 0                                 name  ratings  number of rating  \\\n",
       "0           0                          Cellecor E3      3.7              56.0   \n",
       "1           1    REDMI 10 (Caribbean Green, 64 GB)      4.3          222897.0   \n",
       "2           2     REDMI 10 (Midnight Black, 64 GB)      4.3          222897.0   \n",
       "3           3  MOTOROLA G32 (Satin Silver, 128 GB)      4.1            9683.0   \n",
       "4           4   realme C33 2023 (Night Sea, 64 GB)      4.5            6542.0   \n",
       "\n",
       "   number of reviews   ram    rom  expandable  display  camera  battery  \\\n",
       "0                2.0  32.0   32.0        32.0     1.80     0.8   1000.0   \n",
       "1            13810.0   4.0   64.0         1.0     6.70    50.0   6000.0   \n",
       "2            13810.0   4.0   64.0         1.0     6.70    50.0   6000.0   \n",
       "3              799.0   8.0  128.0         NaN     6.55    50.0   5000.0   \n",
       "4              184.0   4.0   64.0         1.0     6.50    50.0   5000.0   \n",
       "\n",
       "     price  \n",
       "0   1061.0  \n",
       "1   9499.0  \n",
       "2   9499.0  \n",
       "3  11999.0  \n",
       "4   9999.0  "
      ]
     },
     "execution_count": 160,
     "metadata": {},
     "output_type": "execute_result"
    }
   ],
   "source": [
    "df.head()"
   ]
  },
  {
   "cell_type": "code",
   "execution_count": 161,
   "id": "e80fefe2",
   "metadata": {},
   "outputs": [],
   "source": [
    "df = df.replace(0,5)"
   ]
  },
  {
   "cell_type": "code",
   "execution_count": 162,
   "id": "34ea9bf5",
   "metadata": {},
   "outputs": [],
   "source": [
    "df.drop('Unnamed: 0',axis=1,inplace=True)"
   ]
  },
  {
   "cell_type": "code",
   "execution_count": 163,
   "id": "01b0b985",
   "metadata": {},
   "outputs": [
    {
     "name": "stdout",
     "output_type": "stream",
     "text": [
      "<class 'pandas.core.frame.DataFrame'>\n",
      "RangeIndex: 586 entries, 0 to 585\n",
      "Data columns (total 11 columns):\n",
      " #   Column             Non-Null Count  Dtype  \n",
      "---  ------             --------------  -----  \n",
      " 0   name               586 non-null    object \n",
      " 1   ratings            580 non-null    float64\n",
      " 2   number of rating   586 non-null    float64\n",
      " 3   number of reviews  586 non-null    float64\n",
      " 4   ram                582 non-null    float64\n",
      " 5   rom                559 non-null    float64\n",
      " 6   expandable         331 non-null    float64\n",
      " 7   display            585 non-null    float64\n",
      " 8   camera             586 non-null    float64\n",
      " 9   battery            565 non-null    float64\n",
      " 10  price              586 non-null    float64\n",
      "dtypes: float64(10), object(1)\n",
      "memory usage: 50.5+ KB\n"
     ]
    }
   ],
   "source": [
    "df.info()"
   ]
  },
  {
   "cell_type": "code",
   "execution_count": 164,
   "id": "515ae235",
   "metadata": {},
   "outputs": [],
   "source": [
    "df.drop('name',axis=1,inplace=True)"
   ]
  },
  {
   "cell_type": "code",
   "execution_count": 165,
   "id": "c348209b",
   "metadata": {},
   "outputs": [
    {
     "data": {
      "text/html": [
       "<div>\n",
       "<style scoped>\n",
       "    .dataframe tbody tr th:only-of-type {\n",
       "        vertical-align: middle;\n",
       "    }\n",
       "\n",
       "    .dataframe tbody tr th {\n",
       "        vertical-align: top;\n",
       "    }\n",
       "\n",
       "    .dataframe thead th {\n",
       "        text-align: right;\n",
       "    }\n",
       "</style>\n",
       "<table border=\"1\" class=\"dataframe\">\n",
       "  <thead>\n",
       "    <tr style=\"text-align: right;\">\n",
       "      <th></th>\n",
       "      <th>ratings</th>\n",
       "      <th>number of rating</th>\n",
       "      <th>number of reviews</th>\n",
       "      <th>ram</th>\n",
       "      <th>rom</th>\n",
       "      <th>expandable</th>\n",
       "      <th>display</th>\n",
       "      <th>camera</th>\n",
       "      <th>battery</th>\n",
       "      <th>price</th>\n",
       "    </tr>\n",
       "  </thead>\n",
       "  <tbody>\n",
       "    <tr>\n",
       "      <th>0</th>\n",
       "      <td>3.7</td>\n",
       "      <td>56.0</td>\n",
       "      <td>2.0</td>\n",
       "      <td>32.0</td>\n",
       "      <td>32.0</td>\n",
       "      <td>32.0</td>\n",
       "      <td>1.80</td>\n",
       "      <td>0.8</td>\n",
       "      <td>1000.0</td>\n",
       "      <td>1061.0</td>\n",
       "    </tr>\n",
       "    <tr>\n",
       "      <th>1</th>\n",
       "      <td>4.3</td>\n",
       "      <td>222897.0</td>\n",
       "      <td>13810.0</td>\n",
       "      <td>4.0</td>\n",
       "      <td>64.0</td>\n",
       "      <td>1.0</td>\n",
       "      <td>6.70</td>\n",
       "      <td>50.0</td>\n",
       "      <td>6000.0</td>\n",
       "      <td>9499.0</td>\n",
       "    </tr>\n",
       "    <tr>\n",
       "      <th>2</th>\n",
       "      <td>4.3</td>\n",
       "      <td>222897.0</td>\n",
       "      <td>13810.0</td>\n",
       "      <td>4.0</td>\n",
       "      <td>64.0</td>\n",
       "      <td>1.0</td>\n",
       "      <td>6.70</td>\n",
       "      <td>50.0</td>\n",
       "      <td>6000.0</td>\n",
       "      <td>9499.0</td>\n",
       "    </tr>\n",
       "    <tr>\n",
       "      <th>3</th>\n",
       "      <td>4.1</td>\n",
       "      <td>9683.0</td>\n",
       "      <td>799.0</td>\n",
       "      <td>8.0</td>\n",
       "      <td>128.0</td>\n",
       "      <td>NaN</td>\n",
       "      <td>6.55</td>\n",
       "      <td>50.0</td>\n",
       "      <td>5000.0</td>\n",
       "      <td>11999.0</td>\n",
       "    </tr>\n",
       "    <tr>\n",
       "      <th>4</th>\n",
       "      <td>4.5</td>\n",
       "      <td>6542.0</td>\n",
       "      <td>184.0</td>\n",
       "      <td>4.0</td>\n",
       "      <td>64.0</td>\n",
       "      <td>1.0</td>\n",
       "      <td>6.50</td>\n",
       "      <td>50.0</td>\n",
       "      <td>5000.0</td>\n",
       "      <td>9999.0</td>\n",
       "    </tr>\n",
       "  </tbody>\n",
       "</table>\n",
       "</div>"
      ],
      "text/plain": [
       "   ratings  number of rating  number of reviews   ram    rom  expandable  \\\n",
       "0      3.7              56.0                2.0  32.0   32.0        32.0   \n",
       "1      4.3          222897.0            13810.0   4.0   64.0         1.0   \n",
       "2      4.3          222897.0            13810.0   4.0   64.0         1.0   \n",
       "3      4.1            9683.0              799.0   8.0  128.0         NaN   \n",
       "4      4.5            6542.0              184.0   4.0   64.0         1.0   \n",
       "\n",
       "   display  camera  battery    price  \n",
       "0     1.80     0.8   1000.0   1061.0  \n",
       "1     6.70    50.0   6000.0   9499.0  \n",
       "2     6.70    50.0   6000.0   9499.0  \n",
       "3     6.55    50.0   5000.0  11999.0  \n",
       "4     6.50    50.0   5000.0   9999.0  "
      ]
     },
     "execution_count": 165,
     "metadata": {},
     "output_type": "execute_result"
    }
   ],
   "source": [
    "df.head()"
   ]
  },
  {
   "cell_type": "code",
   "execution_count": 166,
   "id": "2439e5ab",
   "metadata": {},
   "outputs": [
    {
     "data": {
      "text/plain": [
       "ratings                6\n",
       "number of rating       0\n",
       "number of reviews      0\n",
       "ram                    4\n",
       "rom                   27\n",
       "expandable           255\n",
       "display                1\n",
       "camera                 0\n",
       "battery               21\n",
       "price                  0\n",
       "dtype: int64"
      ]
     },
     "execution_count": 166,
     "metadata": {},
     "output_type": "execute_result"
    }
   ],
   "source": [
    "df.isnull().sum()"
   ]
  },
  {
   "cell_type": "code",
   "execution_count": null,
   "id": "169f4a37",
   "metadata": {},
   "outputs": [],
   "source": []
  },
  {
   "cell_type": "code",
   "execution_count": 167,
   "id": "698dabcb",
   "metadata": {},
   "outputs": [
    {
     "data": {
      "text/html": [
       "<div>\n",
       "<style scoped>\n",
       "    .dataframe tbody tr th:only-of-type {\n",
       "        vertical-align: middle;\n",
       "    }\n",
       "\n",
       "    .dataframe tbody tr th {\n",
       "        vertical-align: top;\n",
       "    }\n",
       "\n",
       "    .dataframe thead th {\n",
       "        text-align: right;\n",
       "    }\n",
       "</style>\n",
       "<table border=\"1\" class=\"dataframe\">\n",
       "  <thead>\n",
       "    <tr style=\"text-align: right;\">\n",
       "      <th></th>\n",
       "      <th>ratings</th>\n",
       "      <th>number of rating</th>\n",
       "      <th>number of reviews</th>\n",
       "      <th>ram</th>\n",
       "      <th>rom</th>\n",
       "      <th>expandable</th>\n",
       "      <th>display</th>\n",
       "      <th>camera</th>\n",
       "      <th>battery</th>\n",
       "    </tr>\n",
       "  </thead>\n",
       "  <tbody>\n",
       "    <tr>\n",
       "      <th>527</th>\n",
       "      <td>3.8</td>\n",
       "      <td>2199.0</td>\n",
       "      <td>231.0</td>\n",
       "      <td>64.0</td>\n",
       "      <td>64.0</td>\n",
       "      <td>NaN</td>\n",
       "      <td>3.50</td>\n",
       "      <td>1.3</td>\n",
       "      <td>6000.0</td>\n",
       "    </tr>\n",
       "    <tr>\n",
       "      <th>173</th>\n",
       "      <td>4.0</td>\n",
       "      <td>955.0</td>\n",
       "      <td>85.0</td>\n",
       "      <td>4.0</td>\n",
       "      <td>4.0</td>\n",
       "      <td>32.0</td>\n",
       "      <td>1.80</td>\n",
       "      <td>5.0</td>\n",
       "      <td>1000.0</td>\n",
       "    </tr>\n",
       "    <tr>\n",
       "      <th>453</th>\n",
       "      <td>4.5</td>\n",
       "      <td>144.0</td>\n",
       "      <td>19.0</td>\n",
       "      <td>8.0</td>\n",
       "      <td>128.0</td>\n",
       "      <td>NaN</td>\n",
       "      <td>6.78</td>\n",
       "      <td>64.0</td>\n",
       "      <td>5000.0</td>\n",
       "    </tr>\n",
       "    <tr>\n",
       "      <th>542</th>\n",
       "      <td>3.3</td>\n",
       "      <td>6980.0</td>\n",
       "      <td>756.0</td>\n",
       "      <td>1.0</td>\n",
       "      <td>8.0</td>\n",
       "      <td>32.0</td>\n",
       "      <td>4.00</td>\n",
       "      <td>5.0</td>\n",
       "      <td>1600.0</td>\n",
       "    </tr>\n",
       "    <tr>\n",
       "      <th>55</th>\n",
       "      <td>4.6</td>\n",
       "      <td>32424.0</td>\n",
       "      <td>1255.0</td>\n",
       "      <td>128.0</td>\n",
       "      <td>NaN</td>\n",
       "      <td>NaN</td>\n",
       "      <td>6.10</td>\n",
       "      <td>12.0</td>\n",
       "      <td>NaN</td>\n",
       "    </tr>\n",
       "  </tbody>\n",
       "</table>\n",
       "</div>"
      ],
      "text/plain": [
       "     ratings  number of rating  number of reviews    ram    rom  expandable  \\\n",
       "527      3.8            2199.0              231.0   64.0   64.0         NaN   \n",
       "173      4.0             955.0               85.0    4.0    4.0        32.0   \n",
       "453      4.5             144.0               19.0    8.0  128.0         NaN   \n",
       "542      3.3            6980.0              756.0    1.0    8.0        32.0   \n",
       "55       4.6           32424.0             1255.0  128.0    NaN         NaN   \n",
       "\n",
       "     display  camera  battery  \n",
       "527     3.50     1.3   6000.0  \n",
       "173     1.80     5.0   1000.0  \n",
       "453     6.78    64.0   5000.0  \n",
       "542     4.00     5.0   1600.0  \n",
       "55      6.10    12.0      NaN  "
      ]
     },
     "execution_count": 167,
     "metadata": {},
     "output_type": "execute_result"
    }
   ],
   "source": [
    "x_train.head()"
   ]
  },
  {
   "cell_type": "code",
   "execution_count": 168,
   "id": "73ceaa8f",
   "metadata": {},
   "outputs": [],
   "source": [
    "x_train,x_test,y_train,y_test = train_test_split(df.drop('price',axis=1),\n",
    "                                                df['price'],\n",
    "                                                test_size=0.15,\n",
    "                                                random_state=0)"
   ]
  },
  {
   "cell_type": "code",
   "execution_count": 200,
   "id": "8d8c0542",
   "metadata": {},
   "outputs": [],
   "source": [
    "# Function transformer\n",
    "trf2 = ColumnTransformer(transformers=[\n",
    "    ('n1',FunctionTransformer(func=np.log),[0,1,3,4,5,6,7,8]),\n",
    "],remainder='passthrough')"
   ]
  },
  {
   "cell_type": "code",
   "execution_count": 201,
   "id": "ce637ddb",
   "metadata": {},
   "outputs": [],
   "source": [
    "trf1 =ColumnTransformer(transformers=[\n",
    "    ('n3',SimpleImputer(),[0,3,4,5,6,8])\n",
    "],remainder='passthrough')"
   ]
  },
  {
   "cell_type": "code",
   "execution_count": 202,
   "id": "7376de87",
   "metadata": {},
   "outputs": [],
   "source": [
    "trf4 =LinearRegression()"
   ]
  },
  {
   "cell_type": "code",
   "execution_count": 203,
   "id": "8706b118",
   "metadata": {},
   "outputs": [],
   "source": [
    "#trf3= ColumnTransformer(transformers=[\n",
    " #  ('n4',StandardScaler(),[9])\n",
    "#],remainder='passthrough')"
   ]
  },
  {
   "cell_type": "code",
   "execution_count": 204,
   "id": "00df9a15",
   "metadata": {},
   "outputs": [],
   "source": [
    "pipe = Pipeline([\n",
    "    ('trf1',trf1),\n",
    "    #('trf2',trf3),\n",
    "    ('trf3',trf2),\n",
    "    ('trf4',trf4)\n",
    "])"
   ]
  },
  {
   "cell_type": "code",
   "execution_count": null,
   "id": "8834e15b",
   "metadata": {
    "scrolled": true
   },
   "outputs": [],
   "source": []
  },
  {
   "cell_type": "code",
   "execution_count": 205,
   "id": "9c787051",
   "metadata": {},
   "outputs": [],
   "source": [
    "\n",
    "from sklearn.compose import TransformedTargetRegressor\n",
    "wrapped_model = TransformedTargetRegressor(regressor=pipe, transformer=StandardScaler())"
   ]
  },
  {
   "cell_type": "code",
   "execution_count": 206,
   "id": "647fcc27",
   "metadata": {},
   "outputs": [],
   "source": [
    "wrapped_model.fit(x_train, y_train)\n",
    "yhat = wrapped_model.predict(x_test)"
   ]
  },
  {
   "cell_type": "code",
   "execution_count": 207,
   "id": "17ea9e76",
   "metadata": {},
   "outputs": [
    {
     "data": {
      "text/plain": [
       "0.5046414436208102"
      ]
     },
     "execution_count": 207,
     "metadata": {},
     "output_type": "execute_result"
    }
   ],
   "source": [
    "r2_score(yhat,y_test)"
   ]
  },
  {
   "cell_type": "code",
   "execution_count": 194,
   "id": "7643a158",
   "metadata": {},
   "outputs": [],
   "source": [
    "y_pred = pipe.predict(x_test)"
   ]
  },
  {
   "cell_type": "code",
   "execution_count": 189,
   "id": "3d217219",
   "metadata": {},
   "outputs": [
    {
     "data": {
      "text/plain": [
       "0.5046414436208202"
      ]
     },
     "execution_count": 189,
     "metadata": {},
     "output_type": "execute_result"
    }
   ],
   "source": [
    "r2_score(y_pred,y_test)"
   ]
  },
  {
   "cell_type": "code",
   "execution_count": 177,
   "id": "2f2e4a30",
   "metadata": {},
   "outputs": [
    {
     "data": {
      "text/plain": [
       "0       1061.0\n",
       "1       9499.0\n",
       "2       9499.0\n",
       "3      11999.0\n",
       "4       9999.0\n",
       "        ...   \n",
       "581      999.0\n",
       "582    10999.0\n",
       "583     9990.0\n",
       "584     1279.0\n",
       "585     1304.0\n",
       "Name: price, Length: 586, dtype: float64"
      ]
     },
     "execution_count": 177,
     "metadata": {},
     "output_type": "execute_result"
    }
   ],
   "source": [
    "df['price']"
   ]
  },
  {
   "cell_type": "code",
   "execution_count": null,
   "id": "792107fe",
   "metadata": {},
   "outputs": [],
   "source": []
  },
  {
   "cell_type": "code",
   "execution_count": null,
   "id": "578b24b5",
   "metadata": {},
   "outputs": [],
   "source": []
  }
 ],
 "metadata": {
  "kernelspec": {
   "display_name": "Python 3 (ipykernel)",
   "language": "python",
   "name": "python3"
  },
  "language_info": {
   "codemirror_mode": {
    "name": "ipython",
    "version": 3
   },
   "file_extension": ".py",
   "mimetype": "text/x-python",
   "name": "python",
   "nbconvert_exporter": "python",
   "pygments_lexer": "ipython3",
   "version": "3.10.9"
  }
 },
 "nbformat": 4,
 "nbformat_minor": 5
}
