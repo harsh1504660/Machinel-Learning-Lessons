{
 "cells": [
  {
   "cell_type": "code",
   "execution_count": 71,
   "id": "8963cb32",
   "metadata": {},
   "outputs": [],
   "source": [
    "import pandas as pd\n",
    "import numpy as np\n",
    "from sklearn.model_selection import train_test_split\n",
    "from sklearn.preprocessing import OneHotEncoder\n",
    "from sklearn.preprocessing import StandardScaler\n",
    "from sklearn.compose import ColumnTransformer\n",
    "from sklearn.pipeline import Pipeline\n",
    "from sklearn.feature_selection import SelectKBest ,chi2\n",
    "from sklearn.linear_model import LinearRegression\n",
    "from sklearn.metrics import accuracy_score"
   ]
  },
  {
   "cell_type": "code",
   "execution_count": 2,
   "id": "85f2d096",
   "metadata": {},
   "outputs": [],
   "source": [
    "df = pd.read_csv('insurance.csv')"
   ]
  },
  {
   "cell_type": "code",
   "execution_count": 3,
   "id": "c72eeee3",
   "metadata": {},
   "outputs": [
    {
     "data": {
      "text/html": [
       "<div>\n",
       "<style scoped>\n",
       "    .dataframe tbody tr th:only-of-type {\n",
       "        vertical-align: middle;\n",
       "    }\n",
       "\n",
       "    .dataframe tbody tr th {\n",
       "        vertical-align: top;\n",
       "    }\n",
       "\n",
       "    .dataframe thead th {\n",
       "        text-align: right;\n",
       "    }\n",
       "</style>\n",
       "<table border=\"1\" class=\"dataframe\">\n",
       "  <thead>\n",
       "    <tr style=\"text-align: right;\">\n",
       "      <th></th>\n",
       "      <th>age</th>\n",
       "      <th>sex</th>\n",
       "      <th>bmi</th>\n",
       "      <th>children</th>\n",
       "      <th>smoker</th>\n",
       "      <th>region</th>\n",
       "      <th>charges</th>\n",
       "    </tr>\n",
       "  </thead>\n",
       "  <tbody>\n",
       "    <tr>\n",
       "      <th>0</th>\n",
       "      <td>19</td>\n",
       "      <td>female</td>\n",
       "      <td>27.900</td>\n",
       "      <td>0</td>\n",
       "      <td>yes</td>\n",
       "      <td>southwest</td>\n",
       "      <td>16884.92400</td>\n",
       "    </tr>\n",
       "    <tr>\n",
       "      <th>1</th>\n",
       "      <td>18</td>\n",
       "      <td>male</td>\n",
       "      <td>33.770</td>\n",
       "      <td>1</td>\n",
       "      <td>no</td>\n",
       "      <td>southeast</td>\n",
       "      <td>1725.55230</td>\n",
       "    </tr>\n",
       "    <tr>\n",
       "      <th>2</th>\n",
       "      <td>28</td>\n",
       "      <td>male</td>\n",
       "      <td>33.000</td>\n",
       "      <td>3</td>\n",
       "      <td>no</td>\n",
       "      <td>southeast</td>\n",
       "      <td>4449.46200</td>\n",
       "    </tr>\n",
       "    <tr>\n",
       "      <th>3</th>\n",
       "      <td>33</td>\n",
       "      <td>male</td>\n",
       "      <td>22.705</td>\n",
       "      <td>0</td>\n",
       "      <td>no</td>\n",
       "      <td>northwest</td>\n",
       "      <td>21984.47061</td>\n",
       "    </tr>\n",
       "    <tr>\n",
       "      <th>4</th>\n",
       "      <td>32</td>\n",
       "      <td>male</td>\n",
       "      <td>28.880</td>\n",
       "      <td>0</td>\n",
       "      <td>no</td>\n",
       "      <td>northwest</td>\n",
       "      <td>3866.85520</td>\n",
       "    </tr>\n",
       "  </tbody>\n",
       "</table>\n",
       "</div>"
      ],
      "text/plain": [
       "   age     sex     bmi  children smoker     region      charges\n",
       "0   19  female  27.900         0    yes  southwest  16884.92400\n",
       "1   18    male  33.770         1     no  southeast   1725.55230\n",
       "2   28    male  33.000         3     no  southeast   4449.46200\n",
       "3   33    male  22.705         0     no  northwest  21984.47061\n",
       "4   32    male  28.880         0     no  northwest   3866.85520"
      ]
     },
     "execution_count": 3,
     "metadata": {},
     "output_type": "execute_result"
    }
   ],
   "source": [
    "df.head()"
   ]
  },
  {
   "cell_type": "code",
   "execution_count": 4,
   "id": "daee8b88",
   "metadata": {},
   "outputs": [
    {
     "data": {
      "text/plain": [
       "(1338, 7)"
      ]
     },
     "execution_count": 4,
     "metadata": {},
     "output_type": "execute_result"
    }
   ],
   "source": [
    "df.shape"
   ]
  },
  {
   "cell_type": "code",
   "execution_count": 5,
   "id": "b905ebd4",
   "metadata": {},
   "outputs": [
    {
     "data": {
      "text/plain": [
       "age         0\n",
       "sex         0\n",
       "bmi         0\n",
       "children    0\n",
       "smoker      0\n",
       "region      0\n",
       "charges     0\n",
       "dtype: int64"
      ]
     },
     "execution_count": 5,
     "metadata": {},
     "output_type": "execute_result"
    }
   ],
   "source": [
    "df.isnull().sum()"
   ]
  },
  {
   "cell_type": "code",
   "execution_count": 15,
   "id": "d57e4ac4",
   "metadata": {},
   "outputs": [
    {
     "data": {
      "text/plain": [
       "southeast    364\n",
       "southwest    325\n",
       "northwest    325\n",
       "northeast    324\n",
       "Name: region, dtype: int64"
      ]
     },
     "execution_count": 15,
     "metadata": {},
     "output_type": "execute_result"
    }
   ],
   "source": [
    "df['region'].value_counts()"
   ]
  },
  {
   "cell_type": "code",
   "execution_count": 7,
   "id": "e6448502",
   "metadata": {},
   "outputs": [],
   "source": [
    "x_train,x_test,y_train,y_test = train_test_split(df.drop('charges',axis=1),\n",
    "                                                df['charges'],\n",
    "                                                test_size=0.2,\n",
    "                                                random_state=0)"
   ]
  },
  {
   "cell_type": "code",
   "execution_count": 9,
   "id": "90114e97",
   "metadata": {},
   "outputs": [
    {
     "data": {
      "text/html": [
       "<div>\n",
       "<style scoped>\n",
       "    .dataframe tbody tr th:only-of-type {\n",
       "        vertical-align: middle;\n",
       "    }\n",
       "\n",
       "    .dataframe tbody tr th {\n",
       "        vertical-align: top;\n",
       "    }\n",
       "\n",
       "    .dataframe thead th {\n",
       "        text-align: right;\n",
       "    }\n",
       "</style>\n",
       "<table border=\"1\" class=\"dataframe\">\n",
       "  <thead>\n",
       "    <tr style=\"text-align: right;\">\n",
       "      <th></th>\n",
       "      <th>age</th>\n",
       "      <th>sex</th>\n",
       "      <th>bmi</th>\n",
       "      <th>children</th>\n",
       "      <th>smoker</th>\n",
       "      <th>region</th>\n",
       "    </tr>\n",
       "  </thead>\n",
       "  <tbody>\n",
       "    <tr>\n",
       "      <th>621</th>\n",
       "      <td>37</td>\n",
       "      <td>male</td>\n",
       "      <td>34.100</td>\n",
       "      <td>4</td>\n",
       "      <td>yes</td>\n",
       "      <td>southwest</td>\n",
       "    </tr>\n",
       "    <tr>\n",
       "      <th>194</th>\n",
       "      <td>18</td>\n",
       "      <td>male</td>\n",
       "      <td>34.430</td>\n",
       "      <td>0</td>\n",
       "      <td>no</td>\n",
       "      <td>southeast</td>\n",
       "    </tr>\n",
       "    <tr>\n",
       "      <th>240</th>\n",
       "      <td>23</td>\n",
       "      <td>female</td>\n",
       "      <td>36.670</td>\n",
       "      <td>2</td>\n",
       "      <td>yes</td>\n",
       "      <td>northeast</td>\n",
       "    </tr>\n",
       "    <tr>\n",
       "      <th>1168</th>\n",
       "      <td>32</td>\n",
       "      <td>male</td>\n",
       "      <td>35.200</td>\n",
       "      <td>2</td>\n",
       "      <td>no</td>\n",
       "      <td>southwest</td>\n",
       "    </tr>\n",
       "    <tr>\n",
       "      <th>1192</th>\n",
       "      <td>58</td>\n",
       "      <td>female</td>\n",
       "      <td>32.395</td>\n",
       "      <td>1</td>\n",
       "      <td>no</td>\n",
       "      <td>northeast</td>\n",
       "    </tr>\n",
       "  </tbody>\n",
       "</table>\n",
       "</div>"
      ],
      "text/plain": [
       "      age     sex     bmi  children smoker     region\n",
       "621    37    male  34.100         4    yes  southwest\n",
       "194    18    male  34.430         0     no  southeast\n",
       "240    23  female  36.670         2    yes  northeast\n",
       "1168   32    male  35.200         2     no  southwest\n",
       "1192   58  female  32.395         1     no  northeast"
      ]
     },
     "execution_count": 9,
     "metadata": {},
     "output_type": "execute_result"
    }
   ],
   "source": [
    "x_train.head()"
   ]
  },
  {
   "cell_type": "code",
   "execution_count": 12,
   "id": "3feeaf51",
   "metadata": {},
   "outputs": [
    {
     "data": {
      "text/plain": [
       "621     40182.24600\n",
       "194      1137.46970\n",
       "240     38511.62830\n",
       "1168     4670.64000\n",
       "1192    13019.16105\n",
       "Name: charges, dtype: float64"
      ]
     },
     "execution_count": 12,
     "metadata": {},
     "output_type": "execute_result"
    }
   ],
   "source": [
    "y_train.head()"
   ]
  },
  {
   "cell_type": "code",
   "execution_count": 39,
   "id": "3bfd68cd",
   "metadata": {},
   "outputs": [],
   "source": [
    "# one hot encoding\n",
    "trf1 = ColumnTransformer([\n",
    "    ('ohe_sex_smoker_region',OneHotEncoder(sparse_output=False,handle_unknown='ignore',drop='first'),[1,4,5])\n",
    "],remainder='passthrough')"
   ]
  },
  {
   "cell_type": "code",
   "execution_count": 40,
   "id": "5f6e6af2",
   "metadata": {},
   "outputs": [],
   "source": [
    "# scale\n",
    "\n",
    "trf2 = ColumnTransformer([\n",
    "    ('scale',StandardScaler(),[6])\n",
    "],remainder='passthrough')"
   ]
  },
  {
   "cell_type": "code",
   "execution_count": null,
   "id": "53374c37",
   "metadata": {},
   "outputs": [],
   "source": []
  },
  {
   "cell_type": "code",
   "execution_count": 45,
   "id": "8914ebc0",
   "metadata": {},
   "outputs": [],
   "source": [
    "trf4 = LinearRegression()"
   ]
  },
  {
   "cell_type": "markdown",
   "id": "a0bd076b",
   "metadata": {},
   "source": [
    "## Create a pipeline"
   ]
  },
  {
   "cell_type": "code",
   "execution_count": 46,
   "id": "528dc5be",
   "metadata": {},
   "outputs": [],
   "source": [
    "pipe = Pipeline([\n",
    "    ('trf1',trf1),\n",
    "    ('trf2',trf2),\n",
    "    ('trf4',trf4)\n",
    "])"
   ]
  },
  {
   "cell_type": "code",
   "execution_count": 47,
   "id": "11bd7b26",
   "metadata": {},
   "outputs": [
    {
     "data": {
      "text/html": [
       "<style>#sk-container-id-1 {color: black;background-color: white;}#sk-container-id-1 pre{padding: 0;}#sk-container-id-1 div.sk-toggleable {background-color: white;}#sk-container-id-1 label.sk-toggleable__label {cursor: pointer;display: block;width: 100%;margin-bottom: 0;padding: 0.3em;box-sizing: border-box;text-align: center;}#sk-container-id-1 label.sk-toggleable__label-arrow:before {content: \"▸\";float: left;margin-right: 0.25em;color: #696969;}#sk-container-id-1 label.sk-toggleable__label-arrow:hover:before {color: black;}#sk-container-id-1 div.sk-estimator:hover label.sk-toggleable__label-arrow:before {color: black;}#sk-container-id-1 div.sk-toggleable__content {max-height: 0;max-width: 0;overflow: hidden;text-align: left;background-color: #f0f8ff;}#sk-container-id-1 div.sk-toggleable__content pre {margin: 0.2em;color: black;border-radius: 0.25em;background-color: #f0f8ff;}#sk-container-id-1 input.sk-toggleable__control:checked~div.sk-toggleable__content {max-height: 200px;max-width: 100%;overflow: auto;}#sk-container-id-1 input.sk-toggleable__control:checked~label.sk-toggleable__label-arrow:before {content: \"▾\";}#sk-container-id-1 div.sk-estimator input.sk-toggleable__control:checked~label.sk-toggleable__label {background-color: #d4ebff;}#sk-container-id-1 div.sk-label input.sk-toggleable__control:checked~label.sk-toggleable__label {background-color: #d4ebff;}#sk-container-id-1 input.sk-hidden--visually {border: 0;clip: rect(1px 1px 1px 1px);clip: rect(1px, 1px, 1px, 1px);height: 1px;margin: -1px;overflow: hidden;padding: 0;position: absolute;width: 1px;}#sk-container-id-1 div.sk-estimator {font-family: monospace;background-color: #f0f8ff;border: 1px dotted black;border-radius: 0.25em;box-sizing: border-box;margin-bottom: 0.5em;}#sk-container-id-1 div.sk-estimator:hover {background-color: #d4ebff;}#sk-container-id-1 div.sk-parallel-item::after {content: \"\";width: 100%;border-bottom: 1px solid gray;flex-grow: 1;}#sk-container-id-1 div.sk-label:hover label.sk-toggleable__label {background-color: #d4ebff;}#sk-container-id-1 div.sk-serial::before {content: \"\";position: absolute;border-left: 1px solid gray;box-sizing: border-box;top: 0;bottom: 0;left: 50%;z-index: 0;}#sk-container-id-1 div.sk-serial {display: flex;flex-direction: column;align-items: center;background-color: white;padding-right: 0.2em;padding-left: 0.2em;position: relative;}#sk-container-id-1 div.sk-item {position: relative;z-index: 1;}#sk-container-id-1 div.sk-parallel {display: flex;align-items: stretch;justify-content: center;background-color: white;position: relative;}#sk-container-id-1 div.sk-item::before, #sk-container-id-1 div.sk-parallel-item::before {content: \"\";position: absolute;border-left: 1px solid gray;box-sizing: border-box;top: 0;bottom: 0;left: 50%;z-index: -1;}#sk-container-id-1 div.sk-parallel-item {display: flex;flex-direction: column;z-index: 1;position: relative;background-color: white;}#sk-container-id-1 div.sk-parallel-item:first-child::after {align-self: flex-end;width: 50%;}#sk-container-id-1 div.sk-parallel-item:last-child::after {align-self: flex-start;width: 50%;}#sk-container-id-1 div.sk-parallel-item:only-child::after {width: 0;}#sk-container-id-1 div.sk-dashed-wrapped {border: 1px dashed gray;margin: 0 0.4em 0.5em 0.4em;box-sizing: border-box;padding-bottom: 0.4em;background-color: white;}#sk-container-id-1 div.sk-label label {font-family: monospace;font-weight: bold;display: inline-block;line-height: 1.2em;}#sk-container-id-1 div.sk-label-container {text-align: center;}#sk-container-id-1 div.sk-container {/* jupyter's `normalize.less` sets `[hidden] { display: none; }` but bootstrap.min.css set `[hidden] { display: none !important; }` so we also need the `!important` here to be able to override the default hidden behavior on the sphinx rendered scikit-learn.org. See: https://github.com/scikit-learn/scikit-learn/issues/21755 */display: inline-block !important;position: relative;}#sk-container-id-1 div.sk-text-repr-fallback {display: none;}</style><div id=\"sk-container-id-1\" class=\"sk-top-container\"><div class=\"sk-text-repr-fallback\"><pre>Pipeline(steps=[(&#x27;trf1&#x27;,\n",
       "                 ColumnTransformer(remainder=&#x27;passthrough&#x27;,\n",
       "                                   transformers=[(&#x27;ohe_sex_smoker_region&#x27;,\n",
       "                                                  OneHotEncoder(drop=&#x27;first&#x27;,\n",
       "                                                                handle_unknown=&#x27;ignore&#x27;,\n",
       "                                                                sparse_output=False),\n",
       "                                                  [1, 4, 5])])),\n",
       "                (&#x27;trf2&#x27;,\n",
       "                 ColumnTransformer(remainder=&#x27;passthrough&#x27;,\n",
       "                                   transformers=[(&#x27;scale&#x27;, StandardScaler(),\n",
       "                                                  [6])])),\n",
       "                (&#x27;trf4&#x27;, LinearRegression())])</pre><b>In a Jupyter environment, please rerun this cell to show the HTML representation or trust the notebook. <br />On GitHub, the HTML representation is unable to render, please try loading this page with nbviewer.org.</b></div><div class=\"sk-container\" hidden><div class=\"sk-item sk-dashed-wrapped\"><div class=\"sk-label-container\"><div class=\"sk-label sk-toggleable\"><input class=\"sk-toggleable__control sk-hidden--visually\" id=\"sk-estimator-id-1\" type=\"checkbox\" ><label for=\"sk-estimator-id-1\" class=\"sk-toggleable__label sk-toggleable__label-arrow\">Pipeline</label><div class=\"sk-toggleable__content\"><pre>Pipeline(steps=[(&#x27;trf1&#x27;,\n",
       "                 ColumnTransformer(remainder=&#x27;passthrough&#x27;,\n",
       "                                   transformers=[(&#x27;ohe_sex_smoker_region&#x27;,\n",
       "                                                  OneHotEncoder(drop=&#x27;first&#x27;,\n",
       "                                                                handle_unknown=&#x27;ignore&#x27;,\n",
       "                                                                sparse_output=False),\n",
       "                                                  [1, 4, 5])])),\n",
       "                (&#x27;trf2&#x27;,\n",
       "                 ColumnTransformer(remainder=&#x27;passthrough&#x27;,\n",
       "                                   transformers=[(&#x27;scale&#x27;, StandardScaler(),\n",
       "                                                  [6])])),\n",
       "                (&#x27;trf4&#x27;, LinearRegression())])</pre></div></div></div><div class=\"sk-serial\"><div class=\"sk-item sk-dashed-wrapped\"><div class=\"sk-label-container\"><div class=\"sk-label sk-toggleable\"><input class=\"sk-toggleable__control sk-hidden--visually\" id=\"sk-estimator-id-2\" type=\"checkbox\" ><label for=\"sk-estimator-id-2\" class=\"sk-toggleable__label sk-toggleable__label-arrow\">trf1: ColumnTransformer</label><div class=\"sk-toggleable__content\"><pre>ColumnTransformer(remainder=&#x27;passthrough&#x27;,\n",
       "                  transformers=[(&#x27;ohe_sex_smoker_region&#x27;,\n",
       "                                 OneHotEncoder(drop=&#x27;first&#x27;,\n",
       "                                               handle_unknown=&#x27;ignore&#x27;,\n",
       "                                               sparse_output=False),\n",
       "                                 [1, 4, 5])])</pre></div></div></div><div class=\"sk-parallel\"><div class=\"sk-parallel-item\"><div class=\"sk-item\"><div class=\"sk-label-container\"><div class=\"sk-label sk-toggleable\"><input class=\"sk-toggleable__control sk-hidden--visually\" id=\"sk-estimator-id-3\" type=\"checkbox\" ><label for=\"sk-estimator-id-3\" class=\"sk-toggleable__label sk-toggleable__label-arrow\">ohe_sex_smoker_region</label><div class=\"sk-toggleable__content\"><pre>[1, 4, 5]</pre></div></div></div><div class=\"sk-serial\"><div class=\"sk-item\"><div class=\"sk-estimator sk-toggleable\"><input class=\"sk-toggleable__control sk-hidden--visually\" id=\"sk-estimator-id-4\" type=\"checkbox\" ><label for=\"sk-estimator-id-4\" class=\"sk-toggleable__label sk-toggleable__label-arrow\">OneHotEncoder</label><div class=\"sk-toggleable__content\"><pre>OneHotEncoder(drop=&#x27;first&#x27;, handle_unknown=&#x27;ignore&#x27;, sparse_output=False)</pre></div></div></div></div></div></div><div class=\"sk-parallel-item\"><div class=\"sk-item\"><div class=\"sk-label-container\"><div class=\"sk-label sk-toggleable\"><input class=\"sk-toggleable__control sk-hidden--visually\" id=\"sk-estimator-id-5\" type=\"checkbox\" ><label for=\"sk-estimator-id-5\" class=\"sk-toggleable__label sk-toggleable__label-arrow\">remainder</label><div class=\"sk-toggleable__content\"><pre>[&#x27;age&#x27;, &#x27;bmi&#x27;, &#x27;children&#x27;]</pre></div></div></div><div class=\"sk-serial\"><div class=\"sk-item\"><div class=\"sk-estimator sk-toggleable\"><input class=\"sk-toggleable__control sk-hidden--visually\" id=\"sk-estimator-id-6\" type=\"checkbox\" ><label for=\"sk-estimator-id-6\" class=\"sk-toggleable__label sk-toggleable__label-arrow\">passthrough</label><div class=\"sk-toggleable__content\"><pre>passthrough</pre></div></div></div></div></div></div></div></div><div class=\"sk-item sk-dashed-wrapped\"><div class=\"sk-label-container\"><div class=\"sk-label sk-toggleable\"><input class=\"sk-toggleable__control sk-hidden--visually\" id=\"sk-estimator-id-7\" type=\"checkbox\" ><label for=\"sk-estimator-id-7\" class=\"sk-toggleable__label sk-toggleable__label-arrow\">trf2: ColumnTransformer</label><div class=\"sk-toggleable__content\"><pre>ColumnTransformer(remainder=&#x27;passthrough&#x27;,\n",
       "                  transformers=[(&#x27;scale&#x27;, StandardScaler(), [6])])</pre></div></div></div><div class=\"sk-parallel\"><div class=\"sk-parallel-item\"><div class=\"sk-item\"><div class=\"sk-label-container\"><div class=\"sk-label sk-toggleable\"><input class=\"sk-toggleable__control sk-hidden--visually\" id=\"sk-estimator-id-8\" type=\"checkbox\" ><label for=\"sk-estimator-id-8\" class=\"sk-toggleable__label sk-toggleable__label-arrow\">scale</label><div class=\"sk-toggleable__content\"><pre>[6]</pre></div></div></div><div class=\"sk-serial\"><div class=\"sk-item\"><div class=\"sk-estimator sk-toggleable\"><input class=\"sk-toggleable__control sk-hidden--visually\" id=\"sk-estimator-id-9\" type=\"checkbox\" ><label for=\"sk-estimator-id-9\" class=\"sk-toggleable__label sk-toggleable__label-arrow\">StandardScaler</label><div class=\"sk-toggleable__content\"><pre>StandardScaler()</pre></div></div></div></div></div></div><div class=\"sk-parallel-item\"><div class=\"sk-item\"><div class=\"sk-label-container\"><div class=\"sk-label sk-toggleable\"><input class=\"sk-toggleable__control sk-hidden--visually\" id=\"sk-estimator-id-10\" type=\"checkbox\" ><label for=\"sk-estimator-id-10\" class=\"sk-toggleable__label sk-toggleable__label-arrow\">remainder</label><div class=\"sk-toggleable__content\"><pre>[0, 1, 2, 3, 4, 5, 7]</pre></div></div></div><div class=\"sk-serial\"><div class=\"sk-item\"><div class=\"sk-estimator sk-toggleable\"><input class=\"sk-toggleable__control sk-hidden--visually\" id=\"sk-estimator-id-11\" type=\"checkbox\" ><label for=\"sk-estimator-id-11\" class=\"sk-toggleable__label sk-toggleable__label-arrow\">passthrough</label><div class=\"sk-toggleable__content\"><pre>passthrough</pre></div></div></div></div></div></div></div></div><div class=\"sk-item\"><div class=\"sk-estimator sk-toggleable\"><input class=\"sk-toggleable__control sk-hidden--visually\" id=\"sk-estimator-id-12\" type=\"checkbox\" ><label for=\"sk-estimator-id-12\" class=\"sk-toggleable__label sk-toggleable__label-arrow\">LinearRegression</label><div class=\"sk-toggleable__content\"><pre>LinearRegression()</pre></div></div></div></div></div></div></div>"
      ],
      "text/plain": [
       "Pipeline(steps=[('trf1',\n",
       "                 ColumnTransformer(remainder='passthrough',\n",
       "                                   transformers=[('ohe_sex_smoker_region',\n",
       "                                                  OneHotEncoder(drop='first',\n",
       "                                                                handle_unknown='ignore',\n",
       "                                                                sparse_output=False),\n",
       "                                                  [1, 4, 5])])),\n",
       "                ('trf2',\n",
       "                 ColumnTransformer(remainder='passthrough',\n",
       "                                   transformers=[('scale', StandardScaler(),\n",
       "                                                  [6])])),\n",
       "                ('trf4', LinearRegression())])"
      ]
     },
     "execution_count": 47,
     "metadata": {},
     "output_type": "execute_result"
    }
   ],
   "source": [
    "pipe.fit(x_train,y_train)"
   ]
  },
  {
   "cell_type": "code",
   "execution_count": 48,
   "id": "4485543a",
   "metadata": {},
   "outputs": [],
   "source": [
    "y_pred = pipe.predict(x_test)"
   ]
  },
  {
   "cell_type": "code",
   "execution_count": 49,
   "id": "a860c55c",
   "metadata": {},
   "outputs": [
    {
     "data": {
      "text/plain": [
       "array([1.11699271e+04, 9.48670909e+03, 3.81811231e+04, 1.62663133e+04,\n",
       "       6.91464801e+03, 3.96348488e+03, 1.57939691e+03, 1.43852566e+04,\n",
       "       9.01257970e+03, 7.50846068e+03, 4.49176728e+03, 1.02795839e+04,\n",
       "       8.80129751e+03, 3.79802013e+03, 2.79262010e+04, 1.07151158e+04,\n",
       "       1.12889756e+04, 6.10501768e+03, 8.24104117e+03, 2.71445089e+04,\n",
       "       3.36440910e+04, 1.43551043e+04, 1.17372043e+04, 3.21374335e+04,\n",
       "       4.17005913e+03, 9.25496051e+03, 1.08433751e+03, 9.80417085e+03,\n",
       "       3.77104596e+03, 1.04318587e+04, 9.00931722e+03, 4.00749509e+04,\n",
       "       1.56889543e+04, 1.38794545e+04, 2.47597127e+04, 5.16638285e+03,\n",
       "       1.26109277e+04, 3.07691018e+04, 3.35498325e+04, 3.67154946e+03,\n",
       "       3.97568613e+03, 3.98729942e+03, 3.05285774e+04, 3.95053023e+04,\n",
       "       2.78105036e+04, 5.09258923e+03, 1.06042481e+04, 7.82952256e+03,\n",
       "       3.59255553e+03, 1.02128745e+04, 5.72038147e+03, 3.42627499e+03,\n",
       "       3.30210242e+04, 3.84738218e+04, 1.60534782e+04, 7.16491905e+03,\n",
       "       5.73919977e+03, 9.45413291e+03, 8.91062701e+03, 1.17258857e+04,\n",
       "       1.85695629e+03, 3.89143605e+04, 1.48996730e+04, 1.18049582e+04,\n",
       "       1.40504025e+04, 1.40561445e+04, 2.58313858e+04, 3.22305543e+04,\n",
       "       8.14404366e+02, 1.01648424e+04, 1.23598596e+04, 1.15278235e+04,\n",
       "       2.52453261e+04, 1.56220088e+04, 1.12086899e+04, 1.26497320e+04,\n",
       "       6.55670777e+03, 9.59052489e+03, 3.01863021e+04, 3.91076220e+04,\n",
       "       1.20498440e+04, 3.72942684e+04, 4.26550696e+03, 9.39402362e+03,\n",
       "       3.48527716e+04, 2.88476976e+04, 8.68792419e+03, 4.92922782e+03,\n",
       "       1.20387310e+04, 3.04700336e+04, 1.00804115e+04, 1.13933297e+04,\n",
       "       8.39810225e+03, 8.89883547e+03, 8.43179031e+03, 7.32351973e+03,\n",
       "       3.60240264e+04, 3.31822505e+04, 7.66151070e+03, 1.51410434e+04,\n",
       "       4.01724462e+03, 8.82872049e+03, 6.32285473e+03, 3.15486188e+04,\n",
       "       3.29786059e+04, 1.97482884e+03, 9.02652020e+03, 6.69683477e+03,\n",
       "       1.45844352e+04, 3.72411416e+04, 1.01354727e+04, 1.05842948e+04,\n",
       "       1.02289339e+04, 2.69881891e+04, 3.99001531e+04, 8.46273248e+03,\n",
       "       2.96616055e+02, 9.01614987e+03, 1.52639740e+04, 9.52664600e+03,\n",
       "       3.51526354e+04, 7.26409791e+03, 1.69845335e+04, 9.65329622e+03,\n",
       "       8.24868725e+03, 2.94113601e+03, 3.29148059e+04, 3.14835586e+04,\n",
       "       3.96264776e+04, 5.60762983e+03, 9.31034135e+03, 3.59216725e+03,\n",
       "       7.64687550e+03, 8.62747451e+03, 3.17338367e+04, 2.99730030e+04,\n",
       "       2.97817459e+04, 8.72605750e+03, 3.24335307e+04, 3.36029421e+03,\n",
       "       3.70973675e+03, 1.11375495e+04, 1.31502938e+04, 1.28674710e+04,\n",
       "       5.44883743e+03, 1.55800620e+04, 1.49332492e+04, 2.40834350e+03,\n",
       "       2.55105191e+01, 1.08468131e+04, 7.40948170e+03, 3.18522280e+04,\n",
       "       1.23836972e+04, 2.33566633e+03, 6.47818023e+03, 7.85862923e+03,\n",
       "       4.44708534e+03, 2.11393087e+03, 1.13548234e+04, 1.25406264e+04,\n",
       "       7.26445489e+03, 1.63876100e+04, 1.18151028e+04, 1.41078734e+04,\n",
       "       3.18429940e+03, 7.29134465e+03, 2.31256976e+04, 7.59255833e+03,\n",
       "       5.49044860e+03, 5.20329589e+03, 6.75891084e+03, 5.19817369e+03,\n",
       "       1.00037544e+04, 5.37962241e+03, 5.73483115e+03, 6.64184520e+03,\n",
       "       3.69809973e+03, 5.56834710e+03, 3.80623106e+04, 1.50010025e+03,\n",
       "       1.26381400e+04, 8.96683074e+03, 1.37833538e+04, 5.40160572e+03,\n",
       "       5.18838626e+03, 3.64594383e+04, 4.39797382e+03, 2.04401666e+03,\n",
       "       1.52236399e+04, 1.26797512e+04, 3.51385215e+04, 4.78068826e+03,\n",
       "       5.68154275e+03, 3.12300371e+04, 6.20751775e+03, 2.15116663e+03,\n",
       "       8.43897221e+03, 1.00468638e+04, 8.00237197e+03, 5.80481228e+03,\n",
       "       1.31602625e+04, 3.84674533e+04, 1.37503227e+04, 2.88764140e+04,\n",
       "       6.78756483e+03, 3.55308164e+04, 3.76682638e+03, 1.18919418e+04,\n",
       "       9.05961188e+03, 6.25955354e+03, 1.13624630e+04, 1.45614575e+04,\n",
       "       5.16699954e+03, 4.46624724e+03, 7.90887368e+03, 1.34485587e+03,\n",
       "       7.85618662e+03, 4.41748996e+03, 1.28875526e+04, 4.24146225e+03,\n",
       "       1.01131120e+04, 7.19651081e+03, 9.29692707e+03, 2.39780639e+03,\n",
       "       1.32449759e+04, 1.68678325e+04, 1.49416610e+04, 1.05908697e+04,\n",
       "       5.29006788e+03, 2.23337923e+03, 1.93571212e+03, 1.35089298e+04,\n",
       "       1.40528682e+04, 5.01861017e+03, 3.75949429e+03, 9.48805737e+03,\n",
       "       9.97840316e+03, 2.82869768e+04, 7.64934971e+03, 1.04709900e+04,\n",
       "       6.32317041e+03, 2.98547629e+04, 1.11497389e+04, 7.50699533e+03,\n",
       "       1.02337020e+04, 1.22479679e+04, 3.00735612e+03, 1.08754195e+04,\n",
       "       1.54095549e+03, 7.03804311e+03, 2.84462147e+04, 3.86899494e+04,\n",
       "       6.36993923e+03, 8.19218360e+03, 2.53689093e+03, 4.46856827e+02,\n",
       "       1.05698935e+04, 4.20548633e+03, 4.95501030e+03, 2.34316816e+03,\n",
       "       6.80728001e+03, 3.34095038e+04, 3.82467605e+04, 1.47602310e+04,\n",
       "       8.27798435e+03, 1.61499734e+04, 3.29047581e+04, 9.46761406e+03])"
      ]
     },
     "execution_count": 49,
     "metadata": {},
     "output_type": "execute_result"
    }
   ],
   "source": [
    "y_pred"
   ]
  },
  {
   "cell_type": "code",
   "execution_count": 93,
   "id": "dee0562f",
   "metadata": {},
   "outputs": [],
   "source": [
    "y_test = y_test.to_numpy()"
   ]
  },
  {
   "cell_type": "code",
   "execution_count": 118,
   "id": "98711fd1",
   "metadata": {},
   "outputs": [
    {
     "data": {
      "text/plain": [
       "1.0"
      ]
     },
     "execution_count": 118,
     "metadata": {},
     "output_type": "execute_result"
    }
   ],
   "source": [
    "pipe.score(x_test,y_pred)"
   ]
  },
  {
   "cell_type": "code",
   "execution_count": 97,
   "id": "0285e9a1",
   "metadata": {},
   "outputs": [
    {
     "data": {
      "text/plain": [
       "(268,)"
      ]
     },
     "execution_count": 97,
     "metadata": {},
     "output_type": "execute_result"
    }
   ],
   "source": [
    "y_test.shape"
   ]
  },
  {
   "cell_type": "code",
   "execution_count": 98,
   "id": "95cd31c8",
   "metadata": {},
   "outputs": [
    {
     "data": {
      "text/plain": [
       "(268,)"
      ]
     },
     "execution_count": 98,
     "metadata": {},
     "output_type": "execute_result"
    }
   ],
   "source": [
    "y_pred.shape"
   ]
  },
  {
   "cell_type": "code",
   "execution_count": 101,
   "id": "b9d20038",
   "metadata": {},
   "outputs": [
    {
     "data": {
      "text/html": [
       "<div>\n",
       "<style scoped>\n",
       "    .dataframe tbody tr th:only-of-type {\n",
       "        vertical-align: middle;\n",
       "    }\n",
       "\n",
       "    .dataframe tbody tr th {\n",
       "        vertical-align: top;\n",
       "    }\n",
       "\n",
       "    .dataframe thead th {\n",
       "        text-align: right;\n",
       "    }\n",
       "</style>\n",
       "<table border=\"1\" class=\"dataframe\">\n",
       "  <thead>\n",
       "    <tr style=\"text-align: right;\">\n",
       "      <th></th>\n",
       "      <th>age</th>\n",
       "      <th>sex</th>\n",
       "      <th>bmi</th>\n",
       "      <th>children</th>\n",
       "      <th>smoker</th>\n",
       "      <th>region</th>\n",
       "    </tr>\n",
       "  </thead>\n",
       "  <tbody>\n",
       "    <tr>\n",
       "      <th>578</th>\n",
       "      <td>52</td>\n",
       "      <td>male</td>\n",
       "      <td>30.200</td>\n",
       "      <td>1</td>\n",
       "      <td>no</td>\n",
       "      <td>southwest</td>\n",
       "    </tr>\n",
       "    <tr>\n",
       "      <th>610</th>\n",
       "      <td>47</td>\n",
       "      <td>female</td>\n",
       "      <td>29.370</td>\n",
       "      <td>1</td>\n",
       "      <td>no</td>\n",
       "      <td>southeast</td>\n",
       "    </tr>\n",
       "    <tr>\n",
       "      <th>569</th>\n",
       "      <td>48</td>\n",
       "      <td>male</td>\n",
       "      <td>40.565</td>\n",
       "      <td>2</td>\n",
       "      <td>yes</td>\n",
       "      <td>northwest</td>\n",
       "    </tr>\n",
       "    <tr>\n",
       "      <th>1034</th>\n",
       "      <td>61</td>\n",
       "      <td>male</td>\n",
       "      <td>38.380</td>\n",
       "      <td>0</td>\n",
       "      <td>no</td>\n",
       "      <td>northwest</td>\n",
       "    </tr>\n",
       "    <tr>\n",
       "      <th>198</th>\n",
       "      <td>51</td>\n",
       "      <td>female</td>\n",
       "      <td>18.050</td>\n",
       "      <td>0</td>\n",
       "      <td>no</td>\n",
       "      <td>northwest</td>\n",
       "    </tr>\n",
       "    <tr>\n",
       "      <th>...</th>\n",
       "      <td>...</td>\n",
       "      <td>...</td>\n",
       "      <td>...</td>\n",
       "      <td>...</td>\n",
       "      <td>...</td>\n",
       "      <td>...</td>\n",
       "    </tr>\n",
       "    <tr>\n",
       "      <th>1084</th>\n",
       "      <td>62</td>\n",
       "      <td>female</td>\n",
       "      <td>30.495</td>\n",
       "      <td>2</td>\n",
       "      <td>no</td>\n",
       "      <td>northwest</td>\n",
       "    </tr>\n",
       "    <tr>\n",
       "      <th>726</th>\n",
       "      <td>41</td>\n",
       "      <td>male</td>\n",
       "      <td>28.405</td>\n",
       "      <td>1</td>\n",
       "      <td>no</td>\n",
       "      <td>northwest</td>\n",
       "    </tr>\n",
       "    <tr>\n",
       "      <th>1132</th>\n",
       "      <td>57</td>\n",
       "      <td>male</td>\n",
       "      <td>40.280</td>\n",
       "      <td>0</td>\n",
       "      <td>no</td>\n",
       "      <td>northeast</td>\n",
       "    </tr>\n",
       "    <tr>\n",
       "      <th>725</th>\n",
       "      <td>30</td>\n",
       "      <td>female</td>\n",
       "      <td>39.050</td>\n",
       "      <td>3</td>\n",
       "      <td>yes</td>\n",
       "      <td>southeast</td>\n",
       "    </tr>\n",
       "    <tr>\n",
       "      <th>963</th>\n",
       "      <td>46</td>\n",
       "      <td>male</td>\n",
       "      <td>24.795</td>\n",
       "      <td>3</td>\n",
       "      <td>no</td>\n",
       "      <td>northeast</td>\n",
       "    </tr>\n",
       "  </tbody>\n",
       "</table>\n",
       "<p>268 rows × 6 columns</p>\n",
       "</div>"
      ],
      "text/plain": [
       "      age     sex     bmi  children smoker     region\n",
       "578    52    male  30.200         1     no  southwest\n",
       "610    47  female  29.370         1     no  southeast\n",
       "569    48    male  40.565         2    yes  northwest\n",
       "1034   61    male  38.380         0     no  northwest\n",
       "198    51  female  18.050         0     no  northwest\n",
       "...   ...     ...     ...       ...    ...        ...\n",
       "1084   62  female  30.495         2     no  northwest\n",
       "726    41    male  28.405         1     no  northwest\n",
       "1132   57    male  40.280         0     no  northeast\n",
       "725    30  female  39.050         3    yes  southeast\n",
       "963    46    male  24.795         3     no  northeast\n",
       "\n",
       "[268 rows x 6 columns]"
      ]
     },
     "execution_count": 101,
     "metadata": {},
     "output_type": "execute_result"
    }
   ],
   "source": [
    "x_test"
   ]
  },
  {
   "cell_type": "code",
   "execution_count": 102,
   "id": "54c888d1",
   "metadata": {},
   "outputs": [
    {
     "data": {
      "text/plain": [
       "array([1.11699271e+04, 9.48670909e+03, 3.81811231e+04, 1.62663133e+04,\n",
       "       6.91464801e+03, 3.96348488e+03, 1.57939691e+03, 1.43852566e+04,\n",
       "       9.01257970e+03, 7.50846068e+03, 4.49176728e+03, 1.02795839e+04,\n",
       "       8.80129751e+03, 3.79802013e+03, 2.79262010e+04, 1.07151158e+04,\n",
       "       1.12889756e+04, 6.10501768e+03, 8.24104117e+03, 2.71445089e+04,\n",
       "       3.36440910e+04, 1.43551043e+04, 1.17372043e+04, 3.21374335e+04,\n",
       "       4.17005913e+03, 9.25496051e+03, 1.08433751e+03, 9.80417085e+03,\n",
       "       3.77104596e+03, 1.04318587e+04, 9.00931722e+03, 4.00749509e+04,\n",
       "       1.56889543e+04, 1.38794545e+04, 2.47597127e+04, 5.16638285e+03,\n",
       "       1.26109277e+04, 3.07691018e+04, 3.35498325e+04, 3.67154946e+03,\n",
       "       3.97568613e+03, 3.98729942e+03, 3.05285774e+04, 3.95053023e+04,\n",
       "       2.78105036e+04, 5.09258923e+03, 1.06042481e+04, 7.82952256e+03,\n",
       "       3.59255553e+03, 1.02128745e+04, 5.72038147e+03, 3.42627499e+03,\n",
       "       3.30210242e+04, 3.84738218e+04, 1.60534782e+04, 7.16491905e+03,\n",
       "       5.73919977e+03, 9.45413291e+03, 8.91062701e+03, 1.17258857e+04,\n",
       "       1.85695629e+03, 3.89143605e+04, 1.48996730e+04, 1.18049582e+04,\n",
       "       1.40504025e+04, 1.40561445e+04, 2.58313858e+04, 3.22305543e+04,\n",
       "       8.14404366e+02, 1.01648424e+04, 1.23598596e+04, 1.15278235e+04,\n",
       "       2.52453261e+04, 1.56220088e+04, 1.12086899e+04, 1.26497320e+04,\n",
       "       6.55670777e+03, 9.59052489e+03, 3.01863021e+04, 3.91076220e+04,\n",
       "       1.20498440e+04, 3.72942684e+04, 4.26550696e+03, 9.39402362e+03,\n",
       "       3.48527716e+04, 2.88476976e+04, 8.68792419e+03, 4.92922782e+03,\n",
       "       1.20387310e+04, 3.04700336e+04, 1.00804115e+04, 1.13933297e+04,\n",
       "       8.39810225e+03, 8.89883547e+03, 8.43179031e+03, 7.32351973e+03,\n",
       "       3.60240264e+04, 3.31822505e+04, 7.66151070e+03, 1.51410434e+04,\n",
       "       4.01724462e+03, 8.82872049e+03, 6.32285473e+03, 3.15486188e+04,\n",
       "       3.29786059e+04, 1.97482884e+03, 9.02652020e+03, 6.69683477e+03,\n",
       "       1.45844352e+04, 3.72411416e+04, 1.01354727e+04, 1.05842948e+04,\n",
       "       1.02289339e+04, 2.69881891e+04, 3.99001531e+04, 8.46273248e+03,\n",
       "       2.96616055e+02, 9.01614987e+03, 1.52639740e+04, 9.52664600e+03,\n",
       "       3.51526354e+04, 7.26409791e+03, 1.69845335e+04, 9.65329622e+03,\n",
       "       8.24868725e+03, 2.94113601e+03, 3.29148059e+04, 3.14835586e+04,\n",
       "       3.96264776e+04, 5.60762983e+03, 9.31034135e+03, 3.59216725e+03,\n",
       "       7.64687550e+03, 8.62747451e+03, 3.17338367e+04, 2.99730030e+04,\n",
       "       2.97817459e+04, 8.72605750e+03, 3.24335307e+04, 3.36029421e+03,\n",
       "       3.70973675e+03, 1.11375495e+04, 1.31502938e+04, 1.28674710e+04,\n",
       "       5.44883743e+03, 1.55800620e+04, 1.49332492e+04, 2.40834350e+03,\n",
       "       2.55105191e+01, 1.08468131e+04, 7.40948170e+03, 3.18522280e+04,\n",
       "       1.23836972e+04, 2.33566633e+03, 6.47818023e+03, 7.85862923e+03,\n",
       "       4.44708534e+03, 2.11393087e+03, 1.13548234e+04, 1.25406264e+04,\n",
       "       7.26445489e+03, 1.63876100e+04, 1.18151028e+04, 1.41078734e+04,\n",
       "       3.18429940e+03, 7.29134465e+03, 2.31256976e+04, 7.59255833e+03,\n",
       "       5.49044860e+03, 5.20329589e+03, 6.75891084e+03, 5.19817369e+03,\n",
       "       1.00037544e+04, 5.37962241e+03, 5.73483115e+03, 6.64184520e+03,\n",
       "       3.69809973e+03, 5.56834710e+03, 3.80623106e+04, 1.50010025e+03,\n",
       "       1.26381400e+04, 8.96683074e+03, 1.37833538e+04, 5.40160572e+03,\n",
       "       5.18838626e+03, 3.64594383e+04, 4.39797382e+03, 2.04401666e+03,\n",
       "       1.52236399e+04, 1.26797512e+04, 3.51385215e+04, 4.78068826e+03,\n",
       "       5.68154275e+03, 3.12300371e+04, 6.20751775e+03, 2.15116663e+03,\n",
       "       8.43897221e+03, 1.00468638e+04, 8.00237197e+03, 5.80481228e+03,\n",
       "       1.31602625e+04, 3.84674533e+04, 1.37503227e+04, 2.88764140e+04,\n",
       "       6.78756483e+03, 3.55308164e+04, 3.76682638e+03, 1.18919418e+04,\n",
       "       9.05961188e+03, 6.25955354e+03, 1.13624630e+04, 1.45614575e+04,\n",
       "       5.16699954e+03, 4.46624724e+03, 7.90887368e+03, 1.34485587e+03,\n",
       "       7.85618662e+03, 4.41748996e+03, 1.28875526e+04, 4.24146225e+03,\n",
       "       1.01131120e+04, 7.19651081e+03, 9.29692707e+03, 2.39780639e+03,\n",
       "       1.32449759e+04, 1.68678325e+04, 1.49416610e+04, 1.05908697e+04,\n",
       "       5.29006788e+03, 2.23337923e+03, 1.93571212e+03, 1.35089298e+04,\n",
       "       1.40528682e+04, 5.01861017e+03, 3.75949429e+03, 9.48805737e+03,\n",
       "       9.97840316e+03, 2.82869768e+04, 7.64934971e+03, 1.04709900e+04,\n",
       "       6.32317041e+03, 2.98547629e+04, 1.11497389e+04, 7.50699533e+03,\n",
       "       1.02337020e+04, 1.22479679e+04, 3.00735612e+03, 1.08754195e+04,\n",
       "       1.54095549e+03, 7.03804311e+03, 2.84462147e+04, 3.86899494e+04,\n",
       "       6.36993923e+03, 8.19218360e+03, 2.53689093e+03, 4.46856827e+02,\n",
       "       1.05698935e+04, 4.20548633e+03, 4.95501030e+03, 2.34316816e+03,\n",
       "       6.80728001e+03, 3.34095038e+04, 3.82467605e+04, 1.47602310e+04,\n",
       "       8.27798435e+03, 1.61499734e+04, 3.29047581e+04, 9.46761406e+03])"
      ]
     },
     "execution_count": 102,
     "metadata": {},
     "output_type": "execute_result"
    }
   ],
   "source": [
    "y_pred"
   ]
  },
  {
   "cell_type": "code",
   "execution_count": 103,
   "id": "b6129a5e",
   "metadata": {},
   "outputs": [
    {
     "data": {
      "text/plain": [
       "9724.53"
      ]
     },
     "execution_count": 103,
     "metadata": {},
     "output_type": "execute_result"
    }
   ],
   "source": [
    "df['charges'][578]"
   ]
  },
  {
   "cell_type": "code",
   "execution_count": 112,
   "id": "9f84b07b",
   "metadata": {},
   "outputs": [],
   "source": [
    "test_input2 = np.array([71, 'female', 27.454900, 0, 'no', 'southwest'],dtype=object).reshape(1,6)"
   ]
  },
  {
   "cell_type": "code",
   "execution_count": 113,
   "id": "acfb602c",
   "metadata": {},
   "outputs": [
    {
     "name": "stderr",
     "output_type": "stream",
     "text": [
      "D:\\harsh\\anaconda\\lib\\site-packages\\sklearn\\base.py:420: UserWarning: X does not have valid feature names, but OneHotEncoder was fitted with feature names\n",
      "  warnings.warn(\n"
     ]
    },
    {
     "data": {
      "text/plain": [
       "array([14646.53869699])"
      ]
     },
     "execution_count": 113,
     "metadata": {},
     "output_type": "execute_result"
    }
   ],
   "source": [
    "pipe.predict(test_input2)"
   ]
  },
  {
   "cell_type": "code",
   "execution_count": null,
   "id": "0d700a40",
   "metadata": {},
   "outputs": [],
   "source": []
  }
 ],
 "metadata": {
  "kernelspec": {
   "display_name": "Python 3 (ipykernel)",
   "language": "python",
   "name": "python3"
  },
  "language_info": {
   "codemirror_mode": {
    "name": "ipython",
    "version": 3
   },
   "file_extension": ".py",
   "mimetype": "text/x-python",
   "name": "python",
   "nbconvert_exporter": "python",
   "pygments_lexer": "ipython3",
   "version": "3.10.9"
  }
 },
 "nbformat": 4,
 "nbformat_minor": 5
}
